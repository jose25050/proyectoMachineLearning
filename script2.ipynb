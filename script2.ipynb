{
 "cells": [
  {
   "cell_type": "code",
   "execution_count": 1,
   "metadata": {},
   "outputs": [
    {
     "name": "stderr",
     "output_type": "stream",
     "text": [
      "c:\\Users\\jose2\\anaconda3\\lib\\site-packages\\requests\\__init__.py:89: RequestsDependencyWarning: urllib3 (1.26.9) or chardet (3.0.4) doesn't match a supported version!\n",
      "  warnings.warn(\"urllib3 ({}) or chardet ({}) doesn't match a supported \"\n"
     ]
    }
   ],
   "source": [
    "import matplotlib.pyplot as plt\n",
    "import pandas as pd\n",
    "import seaborn as sns\n",
    "import numpy as np\n",
    "from sklearn import datasets, svm, metrics\n",
    "from sklearn.model_selection import train_test_split\n",
    "from sklearn.model_selection import GridSearchCV\n",
    "\n",
    "## creando los filtros de la imagen\n",
    "\n",
    "from skimage.io import imread, imshow\n",
    "from skimage.color import rgb2gray\n",
    "from skimage.transform import rescale\n",
    "from scipy.signal import convolve2d\n",
    "\n",
    "## filtros de kernel\n",
    "from PIL import Image, ImageFilter\n",
    "from scipy import signal\n",
    "\n",
    "# Keras\n",
    "from keras.models import Sequential\n",
    "from keras.layers import Conv2D\n",
    "from keras.layers import MaxPooling2D\n",
    "from keras.layers import Flatten\n",
    "from keras.layers import Dense\n",
    "from keras.utils import np_utils\n",
    "from keras.layers.core import Dropout, Activation\n",
    "from keras.layers import   BatchNormalization\n",
    "from keras.preprocessing.image import ImageDataGenerator"
   ]
  },
  {
   "cell_type": "code",
   "execution_count": 2,
   "metadata": {},
   "outputs": [],
   "source": [
    "## abriendo el dataset de digits (NMIST)\n",
    "\n",
    "digits = datasets.load_digits()"
   ]
  },
  {
   "cell_type": "code",
   "execution_count": 3,
   "metadata": {},
   "outputs": [
    {
     "data": {
      "text/plain": [
       "array([[ 0.,  0.,  5., ...,  0.,  0.,  0.],\n",
       "       [ 0.,  0.,  0., ..., 10.,  0.,  0.],\n",
       "       [ 0.,  0.,  0., ..., 16.,  9.,  0.],\n",
       "       ...,\n",
       "       [ 0.,  0.,  1., ...,  6.,  0.,  0.],\n",
       "       [ 0.,  0.,  2., ..., 12.,  0.,  0.],\n",
       "       [ 0.,  0., 10., ..., 12.,  1.,  0.]])"
      ]
     },
     "execution_count": 3,
     "metadata": {},
     "output_type": "execute_result"
    }
   ],
   "source": [
    "## dataset\n",
    "digits.data"
   ]
  },
  {
   "cell_type": "code",
   "execution_count": 4,
   "metadata": {},
   "outputs": [
    {
     "data": {
      "text/plain": [
       "array([0, 1, 2, ..., 8, 9, 8])"
      ]
     },
     "execution_count": 4,
     "metadata": {},
     "output_type": "execute_result"
    }
   ],
   "source": [
    "## target de la clasificación\n",
    "digits.target"
   ]
  },
  {
   "cell_type": "code",
   "execution_count": 5,
   "metadata": {},
   "outputs": [
    {
     "data": {
      "text/plain": [
       "(1797, 8, 8)"
      ]
     },
     "execution_count": 5,
     "metadata": {},
     "output_type": "execute_result"
    }
   ],
   "source": [
    "## structura de la imagen\n",
    "digits.images.shape"
   ]
  },
  {
   "cell_type": "code",
   "execution_count": 6,
   "metadata": {},
   "outputs": [
    {
     "data": {
      "image/png": "[encoded data removed]",
      "text/plain": [
       "<Figure size 1152x720 with 20 Axes>"
      ]
     },
     "metadata": {
      "needs_background": "light"
     },
     "output_type": "display_data"
    }
   ],
   "source": [
    "## visualizando el dataset\n",
    "fig, axes = plt.subplots(4,5, figsize =  (16,10))\n",
    "axes = axes.flat\n",
    "for i in range(20):\n",
    "    axes[i].imshow(digits.images[i], cmap=plt.cm.gray_r, interpolation=\"nearest\")\n",
    "    axes[i].set_title(\"Training: %i\" % digits.target[i])\n",
    "    axes[i].set_xticklabels(\"\")\n",
    "    axes[i].set_yticklabels(\"\")"
   ]
  },
  {
   "cell_type": "code",
   "execution_count": 7,
   "metadata": {},
   "outputs": [
    {
     "data": {
      "text/plain": [
       "array([[ 0.,  0.,  5., ...,  0.,  0.,  0.],\n",
       "       [ 0.,  0.,  0., ..., 10.,  0.,  0.],\n",
       "       [ 0.,  0.,  0., ..., 16.,  9.,  0.],\n",
       "       ...,\n",
       "       [ 0.,  0.,  1., ...,  6.,  0.,  0.],\n",
       "       [ 0.,  0.,  2., ..., 12.,  0.,  0.],\n",
       "       [ 0.,  0., 10., ..., 12.,  1.,  0.]])"
      ]
     },
     "execution_count": 7,
     "metadata": {},
     "output_type": "execute_result"
    }
   ],
   "source": [
    "## Creando el modelo de machine learning\n",
    "n_samples = digits.images.shape[0]\n",
    "data = digits.images.reshape((n_samples,-1))\n",
    "data"
   ]
  },
  {
   "cell_type": "code",
   "execution_count": 8,
   "metadata": {},
   "outputs": [],
   "source": [
    "## diviendo el dataset en datos de entranamiento y testeo\n",
    "X_train, X_test, y_train, y_test = train_test_split(\n",
    "    data, digits.target, test_size=0.3, shuffle=False)\n"
   ]
  },
  {
   "cell_type": "code",
   "execution_count": 9,
   "metadata": {},
   "outputs": [],
   "source": [
    "## creando el modelo de machine learning\n",
    "\n",
    "model = svm.SVC(gamma= 0.001 )\n",
    "model.fit(X_train,y_train)\n",
    "predict = model.predict(X_test)"
   ]
  },
  {
   "cell_type": "code",
   "execution_count": 10,
   "metadata": {},
   "outputs": [
    {
     "data": {
      "text/plain": [
       "(540,)"
      ]
     },
     "execution_count": 10,
     "metadata": {},
     "output_type": "execute_result"
    }
   ],
   "source": [
    "predict.shape"
   ]
  },
  {
   "cell_type": "code",
   "execution_count": 11,
   "metadata": {},
   "outputs": [
    {
     "data": {
      "text/plain": [
       "array([[ 0.,  0.,  0.,  8., 14.,  0.,  0.,  0.],\n",
       "       [ 0.,  0.,  2., 16., 10.,  0.,  0.,  0.],\n",
       "       [ 0.,  0., 12., 16.,  1.,  3.,  5.,  0.],\n",
       "       [ 0.,  5., 16.,  6.,  2., 16.,  9.,  0.],\n",
       "       [ 0., 11., 16.,  0.,  8., 16.,  7.,  0.],\n",
       "       [ 0., 10., 16., 16., 16., 11.,  1.,  0.],\n",
       "       [ 0.,  1.,  7.,  9., 16.,  4.,  0.,  0.],\n",
       "       [ 0.,  0.,  0., 10., 11.,  0.,  0.,  0.]])"
      ]
     },
     "execution_count": 11,
     "metadata": {},
     "output_type": "execute_result"
    }
   ],
   "source": [
    "X_test[0].reshape(8,8)"
   ]
  },
  {
   "cell_type": "code",
   "execution_count": 12,
   "metadata": {},
   "outputs": [
    {
     "data": {
      "image/png": "[encoded data removed]",
      "text/plain": [
       "<Figure size 1152x720 with 20 Axes>"
      ]
     },
     "metadata": {
      "needs_background": "light"
     },
     "output_type": "display_data"
    }
   ],
   "source": [
    "## visualizando de la predicción\n",
    "fig, axes = plt.subplots(4,5, figsize =  (16,10))\n",
    "axes = axes.flat\n",
    "for i in range(20):\n",
    "    axes[i].imshow(X_test[i+20].reshape(8,8), cmap=plt.cm.gray_r, interpolation=\"nearest\")\n",
    "    axes[i].set_title(\"Training: %i\" % predict[i+20], color = \"black\" if predict[i+20] == y_test[i+20] else \"red\")\n",
    "    axes[i].set_xticklabels(\"\")\n",
    "    axes[i].set_yticklabels(\"\")\n",
    "fig.suptitle(\"Predicción de las imagenes\")\n",
    "plt.show()"
   ]
  },
  {
   "cell_type": "code",
   "execution_count": 13,
   "metadata": {},
   "outputs": [
    {
     "name": "stdout",
     "output_type": "stream",
     "text": [
      "Classification report for classifier SVC(gamma=0.001):\n",
      "              precision    recall  f1-score   support\n",
      "\n",
      "           0       1.00      0.98      0.99        53\n",
      "           1       0.96      1.00      0.98        53\n",
      "           2       1.00      0.98      0.99        53\n",
      "           3       0.96      0.89      0.92        53\n",
      "           4       0.98      0.95      0.96        57\n",
      "           5       0.95      0.98      0.96        56\n",
      "           6       0.98      0.98      0.98        54\n",
      "           7       1.00      1.00      1.00        54\n",
      "           8       0.91      0.98      0.94        52\n",
      "           9       0.96      0.96      0.96        55\n",
      "\n",
      "    accuracy                           0.97       540\n",
      "   macro avg       0.97      0.97      0.97       540\n",
      "weighted avg       0.97      0.97      0.97       540\n",
      "\n",
      "\n"
     ]
    }
   ],
   "source": [
    "print(\n",
    "    f\"Classification report for classifier {model}:\\n\"\n",
    "    f\"{metrics.classification_report(y_test, predict)}\\n\"\n",
    ")"
   ]
  },
  {
   "cell_type": "code",
   "execution_count": 14,
   "metadata": {},
   "outputs": [
    {
     "data": {
      "image/png": "[encoded data removed]",
      "text/plain": [
       "<Figure size 576x432 with 2 Axes>"
      ]
     },
     "metadata": {
      "needs_background": "light"
     },
     "output_type": "display_data"
    }
   ],
   "source": [
    "confusion_matrix = pd.crosstab(y_test,predict, rownames=['Actual'], colnames=['Predicted'])\n",
    "plt.figure(figsize=(8,6))\n",
    "sns.heatmap(confusion_matrix, annot=True,fmt='g')\n",
    "plt.title(\"Confusion Matrix\\n (data test)\")\n",
    "plt.show()"
   ]
  },
  {
   "cell_type": "markdown",
   "metadata": {},
   "source": [
    "### Mejorando el acurracy"
   ]
  },
  {
   "cell_type": "code",
   "execution_count": 17,
   "metadata": {},
   "outputs": [
    {
     "data": {
      "text/plain": [
       "array([[ 0.,  0.,  5., 13.,  9.,  1.,  0.,  0.],\n",
       "       [ 0.,  0., 13., 15., 10., 15.,  5.,  0.],\n",
       "       [ 0.,  3., 15.,  2.,  0., 11.,  8.,  0.],\n",
       "       [ 0.,  4., 12.,  0.,  0.,  8.,  8.,  0.],\n",
       "       [ 0.,  5.,  8.,  0.,  0.,  9.,  8.,  0.],\n",
       "       [ 0.,  4., 11.,  0.,  1., 12.,  7.,  0.],\n",
       "       [ 0.,  2., 14.,  5., 10., 12.,  0.,  0.],\n",
       "       [ 0.,  0.,  6., 13., 10.,  0.,  0.,  0.]])"
      ]
     },
     "execution_count": 17,
     "metadata": {},
     "output_type": "execute_result"
    }
   ],
   "source": [
    "X_train[0].reshape(8,8)"
   ]
  },
  {
   "cell_type": "code",
   "execution_count": 15,
   "metadata": {},
   "outputs": [],
   "source": [
    "## creando los filtros de kernel para el modelo\n",
    "def rgb_convolve2d(image, kernel):\n",
    "    image = image.reshape(8,8)\n",
    "    image = convolve2d(image, kernel, 'same', boundary = 'fill',\n",
    "                           fillvalue = 0)\n",
    "    return image"
   ]
  },
  {
   "cell_type": "code",
   "execution_count": 18,
   "metadata": {},
   "outputs": [],
   "source": [
    "## tipos de filtros\n",
    "# Edge Detection1\n",
    "kernel1 = np.array([[0, -1, 0],\n",
    "                    [-1, 4, -1],\n",
    "                    [0, -1, 0]])\n",
    "# Edge Detection2\n",
    "kernel2 = np.array([[-1, -1, -1],\n",
    "                    [-1, 8, -1],\n",
    "                    [-1, -1, -1]])\n",
    "# Bottom Sobel Filter\n",
    "kernel3 = np.array([[-1, -2, -1],\n",
    "                    [0, 0, 0],\n",
    "                    [1, 2, 1]])\n",
    "# Top Sobel Filter\n",
    "kernel4 = np.array([[1, 2, 1],\n",
    "                    [0, 0, 0],\n",
    "                    [-1, -2, -1]])\n",
    "# Left Sobel Filter\n",
    "kernel5 = np.array([[1, 0, -1],\n",
    "                    [2, 0, -2],\n",
    "                    [1, 0, -1]])\n",
    "# Right Sobel Filter\n",
    "kernel6 = np.array([[-1, 0, 1],\n",
    "                    [-2, 0, 2],\n",
    "                    [-1, 0, 1]])\n",
    "# Sharpen\n",
    "kernel7 = np.array([[0, -1, 0],\n",
    "                    [-1, 5, -1],\n",
    "                    [0, -1, 0]])\n",
    "# Emboss\n",
    "kernel8 =  np.array([[-2, -1, 0],\n",
    "                     [-1,  1, 1],\n",
    "                     [ 0,  1, 2]])\n",
    "# Box Blur\n",
    "kernel9 = (1 / 9.0) * np.array([[1, 1, 1],\n",
    "                                [1, 1, 1],\n",
    "                                [1, 1, 1]])\n",
    "# Gaussian Blur 3x3\n",
    "kernel10 = (1 / 16.0) * np.array([[1, 2, 1],\n",
    "                                  [2, 4, 2],\n",
    "                                  [1, 2, 1]])\n",
    "# Edge Enhanse\n",
    "kernel11 = np.array([[0, 0, 0],\n",
    "                        [-1, 1, 0],\n",
    "                        [0, 0, 0]])\n",
    "# Repujado\n",
    "kernel12 = np.array([[-2, -1, 0],\n",
    "                        [-1, 1, 1],\n",
    "                        [0, 1, 2]])\n",
    "# outline\n",
    "kernel13 = np.array([[-1, -1, -1],\n",
    "                        [-1, 8, -1],\n",
    "                        [-1, -1, -1]])\n",
    "# identity\n",
    "kernel14 = np.array([[0, 0, 0],\n",
    "                        [0, -1, 0],\n",
    "                        [0, 0, 0]])"
   ]
  },
  {
   "cell_type": "code",
   "execution_count": 21,
   "metadata": {},
   "outputs": [],
   "source": [
    "imagen = rgb_convolve2d(X_train[14],kernel12)\n",
    "imagen = rgb_convolve2d(imagen,kernel3)\n"
   ]
  },
  {
   "cell_type": "code",
   "execution_count": 20,
   "metadata": {},
   "outputs": [
    {
     "data": {
      "text/plain": [
       "Text(0.5, 1.0, 'filtro kernel')"
      ]
     },
     "execution_count": 20,
     "metadata": {},
     "output_type": "execute_result"
    },
    {
     "data": {
      "image/png": "[encoded data removed]",
      "text/plain": [
       "<Figure size 432x288 with 2 Axes>"
      ]
     },
     "metadata": {
      "needs_background": "light"
     },
     "output_type": "display_data"
    }
   ],
   "source": [
    "fig, axes = plt.subplots(nrows=1,ncols=2,figsize = (6,4))\n",
    "\n",
    "axes[0].imshow(X_train[14].reshape(8,8), \n",
    "                  cmap='gray')\n",
    "axes[0].set_title(\"real\")\n",
    "axes[1].imshow(imagen, \n",
    "                  cmap='gray')\n",
    "axes[1].set_title(\"filtro kernel\")"
   ]
  },
  {
   "cell_type": "code",
   "execution_count": 23,
   "metadata": {},
   "outputs": [],
   "source": [
    "kernel = [kernel1,kernel2 ,kernel3 ,kernel4 ,kernel5, \n",
    "kernel6 ,kernel7 ,kernel8 ,kernel9 ,kernel10 ,kernel11,kernel12, kernel13,kernel14]"
   ]
  },
  {
   "cell_type": "code",
   "execution_count": 24,
   "metadata": {},
   "outputs": [
    {
     "data": {
      "text/plain": [
       "Text(0.5, 0.98, 'Tipos de kernel')"
      ]
     },
     "execution_count": 24,
     "metadata": {},
     "output_type": "execute_result"
    },
    {
     "data": {
      "image/png": "[encoded data removed]",
      "text/plain": [
       "<Figure size 1008x576 with 12 Axes>"
      ]
     },
     "metadata": {
      "needs_background": "light"
     },
     "output_type": "display_data"
    }
   ],
   "source": [
    "fig, axes = plt.subplots(nrows=4,ncols=3,figsize = (14,8))\n",
    "axes = axes.flat\n",
    "for i in range(12):\n",
    "    axes[i].imshow(rgb_convolve2d(X_train[29],kernel[i]), \n",
    "                    cmap='gray')\n",
    "    axes[i].set_title(f\"k{i+1}\")\n",
    "    axes[i].set_xticklabels(\"\")\n",
    "    axes[i].set_yticklabels(\"\")\n",
    "fig.suptitle(\"Tipos de kernel\")"
   ]
  },
  {
   "cell_type": "code",
   "execution_count": 25,
   "metadata": {},
   "outputs": [],
   "source": [
    "## creando los filtros de kernel para el modelo general\n",
    "\n",
    "def rgb_kernel_convolve2d(image, kernel):\n",
    "    image_k = []\n",
    "    for i in range(image.shape[0]):\n",
    "        image_transform = image[i].reshape(8,8)\n",
    "        image_k.append(convolve2d(image_transform, kernel, 'same', boundary = 'fill',\n",
    "                            fillvalue = 0))\n",
    "    image_k = np.array(image_k)\n",
    "    n_samples = image.shape[0]\n",
    "    image_k= image_k.reshape((n_samples,-1))\n",
    "    return image_k"
   ]
  },
  {
   "cell_type": "code",
   "execution_count": 27,
   "metadata": {},
   "outputs": [],
   "source": [
    "## aplicando los filtros de kernel\n",
    "X_train2 = rgb_kernel_convolve2d(X_train, kernel14)\n",
    "X_train2 = rgb_kernel_convolve2d(X_train2, kernel10)\n",
    "\n",
    "X_test2 = rgb_kernel_convolve2d(X_test, kernel14)\n",
    "X_test2 = rgb_kernel_convolve2d(X_test2, kernel10)\n"
   ]
  },
  {
   "cell_type": "code",
   "execution_count": 28,
   "metadata": {},
   "outputs": [],
   "source": [
    "## creando el modelo de machine learning\n",
    "\n",
    "model = svm.SVC(gamma= 'scale',class_weight=\"balanced\", C = 100 )\n",
    "model.fit(X_train2,y_train)\n",
    "predict = model.predict(X_test2)"
   ]
  },
  {
   "cell_type": "code",
   "execution_count": 29,
   "metadata": {},
   "outputs": [
    {
     "name": "stdout",
     "output_type": "stream",
     "text": [
      "Classification report for classifier SVC(C=100, class_weight='balanced'):\n",
      "              precision    recall  f1-score   support\n",
      "\n",
      "           0       0.98      0.94      0.96        53\n",
      "           1       0.96      0.98      0.97        53\n",
      "           2       0.96      0.98      0.97        53\n",
      "           3       0.94      0.87      0.90        53\n",
      "           4       0.96      0.93      0.95        57\n",
      "           5       0.92      1.00      0.96        56\n",
      "           6       0.95      0.98      0.96        54\n",
      "           7       0.98      1.00      0.99        54\n",
      "           8       0.87      0.90      0.89        52\n",
      "           9       0.96      0.89      0.92        55\n",
      "\n",
      "    accuracy                           0.95       540\n",
      "   macro avg       0.95      0.95      0.95       540\n",
      "weighted avg       0.95      0.95      0.95       540\n",
      "\n",
      "\n"
     ]
    }
   ],
   "source": [
    "print(\n",
    "    f\"Classification report for classifier {model}:\\n\"\n",
    "    f\"{metrics.classification_report(y_test, predict)}\\n\"\n",
    ")"
   ]
  },
  {
   "cell_type": "markdown",
   "metadata": {},
   "source": [
    "## APLICANDO KERAS ( Redes Neuronales CONVOLUCIONALES)"
   ]
  },
  {
   "cell_type": "code",
   "execution_count": 30,
   "metadata": {},
   "outputs": [],
   "source": [
    "n_class = pd.unique(y_train).shape[0]\n",
    "Y_train = np_utils.to_categorical(y_train, n_class)\n",
    "Y_test = np_utils.to_categorical(y_test, n_class)\n"
   ]
  },
  {
   "cell_type": "code",
   "execution_count": 31,
   "metadata": {},
   "outputs": [
    {
     "data": {
      "text/plain": [
       "array([[1., 0., 0., ..., 0., 0., 0.],\n",
       "       [0., 1., 0., ..., 0., 0., 0.],\n",
       "       [0., 0., 1., ..., 0., 0., 0.],\n",
       "       ...,\n",
       "       [0., 0., 0., ..., 0., 0., 0.],\n",
       "       [0., 0., 0., ..., 0., 0., 0.],\n",
       "       [0., 1., 0., ..., 0., 0., 0.]], dtype=float32)"
      ]
     },
     "execution_count": 31,
     "metadata": {},
     "output_type": "execute_result"
    }
   ],
   "source": [
    "Y_train"
   ]
  },
  {
   "cell_type": "code",
   "execution_count": 32,
   "metadata": {},
   "outputs": [
    {
     "data": {
      "text/plain": [
       "((1257,), (1257, 10))"
      ]
     },
     "execution_count": 32,
     "metadata": {},
     "output_type": "execute_result"
    }
   ],
   "source": [
    "y_train.shape,Y_train.shape"
   ]
  },
  {
   "cell_type": "code",
   "execution_count": 53,
   "metadata": {},
   "outputs": [],
   "source": [
    "## inicualizando el modelo\n",
    "model = Sequential()\n",
    "\n",
    "## creando la primera capa \n",
    "\n",
    "model.add(Dense(units= 25,input_shape = (64,)))\n",
    "# Función de activación\n",
    "model.add(Activation('relu'))\n",
    "# realizando un dropout\n",
    "model.add(Dropout(0.2))\n",
    "\n",
    "## Creando segunda capa\n",
    "\n",
    "model.add(Dense(units= 25))\n",
    "# Función de activación\n",
    "model.add(Activation('relu'))\n",
    "# realizando un dropout\n",
    "model.add(Dropout(0.2))\n",
    "\n",
    "## Creando Tercera capa\n",
    "\n",
    "model.add(Dense(units= 25))\n",
    "# Función de activación\n",
    "model.add(Activation('relu'))\n",
    "# realizando un dropout\n",
    "model.add(Dropout(0.2))\n",
    "\n",
    "\n",
    "# Creando la capa de salida\n",
    "\n",
    "model.add(Dense(units= 10,input_shape = (64,)))\n",
    "model.add(Activation('softmax'))"
   ]
  },
  {
   "cell_type": "code",
   "execution_count": 54,
   "metadata": {},
   "outputs": [],
   "source": [
    "model.compile(optimizer= 'adam', \n",
    "loss = \"categorical_crossentropy\", metrics= [\"accuracy\"])"
   ]
  },
  {
   "cell_type": "code",
   "execution_count": 35,
   "metadata": {},
   "outputs": [
    {
     "data": {
      "text/plain": [
       "(1257, 64)"
      ]
     },
     "execution_count": 35,
     "metadata": {},
     "output_type": "execute_result"
    }
   ],
   "source": [
    "X_train.shape"
   ]
  },
  {
   "cell_type": "code",
   "execution_count": 55,
   "metadata": {},
   "outputs": [
    {
     "name": "stdout",
     "output_type": "stream",
     "text": [
      "Epoch 1/45\n",
      "126/126 - 3s - loss: 3.2734 - accuracy: 0.1551 - val_loss: 2.0480 - val_accuracy: 0.2870 - 3s/epoch - 23ms/step\n",
      "Epoch 2/45\n",
      "126/126 - 1s - loss: 2.0945 - accuracy: 0.2633 - val_loss: 1.7746 - val_accuracy: 0.4556 - 689ms/epoch - 5ms/step\n",
      "Epoch 3/45\n",
      "126/126 - 1s - loss: 1.8731 - accuracy: 0.3532 - val_loss: 1.5320 - val_accuracy: 0.5815 - 584ms/epoch - 5ms/step\n",
      "Epoch 4/45\n",
      "126/126 - 1s - loss: 1.5856 - accuracy: 0.4439 - val_loss: 1.2267 - val_accuracy: 0.6741 - 514ms/epoch - 4ms/step\n",
      "Epoch 5/45\n",
      "126/126 - 1s - loss: 1.3618 - accuracy: 0.5529 - val_loss: 1.0005 - val_accuracy: 0.7481 - 524ms/epoch - 4ms/step\n",
      "Epoch 6/45\n",
      "126/126 - 1s - loss: 1.1142 - accuracy: 0.6205 - val_loss: 0.7547 - val_accuracy: 0.8296 - 595ms/epoch - 5ms/step\n",
      "Epoch 7/45\n",
      "126/126 - 1s - loss: 1.0532 - accuracy: 0.6293 - val_loss: 0.6394 - val_accuracy: 0.8481 - 636ms/epoch - 5ms/step\n",
      "Epoch 8/45\n",
      "126/126 - 1s - loss: 0.9441 - accuracy: 0.6738 - val_loss: 0.5475 - val_accuracy: 0.8759 - 533ms/epoch - 4ms/step\n",
      "Epoch 9/45\n",
      "126/126 - 1s - loss: 0.8004 - accuracy: 0.7311 - val_loss: 0.5178 - val_accuracy: 0.8630 - 531ms/epoch - 4ms/step\n",
      "Epoch 10/45\n",
      "126/126 - 1s - loss: 0.7668 - accuracy: 0.7327 - val_loss: 0.4617 - val_accuracy: 0.8852 - 587ms/epoch - 5ms/step\n",
      "Epoch 11/45\n",
      "126/126 - 1s - loss: 0.6514 - accuracy: 0.7796 - val_loss: 0.4568 - val_accuracy: 0.8759 - 510ms/epoch - 4ms/step\n",
      "Epoch 12/45\n",
      "126/126 - 1s - loss: 0.6538 - accuracy: 0.7852 - val_loss: 0.3942 - val_accuracy: 0.8870 - 516ms/epoch - 4ms/step\n",
      "Epoch 13/45\n",
      "126/126 - 1s - loss: 0.6093 - accuracy: 0.8003 - val_loss: 0.3619 - val_accuracy: 0.9093 - 577ms/epoch - 5ms/step\n",
      "Epoch 14/45\n",
      "126/126 - 0s - loss: 0.5596 - accuracy: 0.8115 - val_loss: 0.3834 - val_accuracy: 0.8907 - 472ms/epoch - 4ms/step\n",
      "Epoch 15/45\n",
      "126/126 - 0s - loss: 0.5048 - accuracy: 0.8282 - val_loss: 0.3912 - val_accuracy: 0.8815 - 476ms/epoch - 4ms/step\n",
      "Epoch 16/45\n",
      "126/126 - 1s - loss: 0.5187 - accuracy: 0.8250 - val_loss: 0.3492 - val_accuracy: 0.8944 - 556ms/epoch - 4ms/step\n",
      "Epoch 17/45\n",
      "126/126 - 0s - loss: 0.4497 - accuracy: 0.8481 - val_loss: 0.3573 - val_accuracy: 0.9037 - 434ms/epoch - 3ms/step\n",
      "Epoch 18/45\n",
      "126/126 - 0s - loss: 0.4651 - accuracy: 0.8457 - val_loss: 0.3729 - val_accuracy: 0.8944 - 449ms/epoch - 4ms/step\n",
      "Epoch 19/45\n",
      "126/126 - 1s - loss: 0.4408 - accuracy: 0.8640 - val_loss: 0.3537 - val_accuracy: 0.9074 - 510ms/epoch - 4ms/step\n",
      "Epoch 20/45\n",
      "126/126 - 0s - loss: 0.4067 - accuracy: 0.8656 - val_loss: 0.3520 - val_accuracy: 0.9037 - 443ms/epoch - 4ms/step\n",
      "Epoch 21/45\n",
      "126/126 - 0s - loss: 0.3751 - accuracy: 0.8687 - val_loss: 0.3359 - val_accuracy: 0.9074 - 447ms/epoch - 4ms/step\n",
      "Epoch 22/45\n",
      "126/126 - 1s - loss: 0.3778 - accuracy: 0.8671 - val_loss: 0.3214 - val_accuracy: 0.9111 - 756ms/epoch - 6ms/step\n",
      "Epoch 23/45\n",
      "126/126 - 1s - loss: 0.3423 - accuracy: 0.8950 - val_loss: 0.3640 - val_accuracy: 0.9000 - 817ms/epoch - 6ms/step\n",
      "Epoch 24/45\n",
      "126/126 - 1s - loss: 0.3490 - accuracy: 0.8839 - val_loss: 0.3528 - val_accuracy: 0.9074 - 586ms/epoch - 5ms/step\n",
      "Epoch 25/45\n",
      "126/126 - 1s - loss: 0.3479 - accuracy: 0.8854 - val_loss: 0.3581 - val_accuracy: 0.9093 - 586ms/epoch - 5ms/step\n",
      "Epoch 26/45\n",
      "126/126 - 1s - loss: 0.3227 - accuracy: 0.8894 - val_loss: 0.4317 - val_accuracy: 0.9000 - 550ms/epoch - 4ms/step\n",
      "Epoch 27/45\n",
      "126/126 - 1s - loss: 0.3229 - accuracy: 0.8974 - val_loss: 0.3636 - val_accuracy: 0.8981 - 584ms/epoch - 5ms/step\n",
      "Epoch 28/45\n",
      "126/126 - 1s - loss: 0.3111 - accuracy: 0.9061 - val_loss: 0.3466 - val_accuracy: 0.9111 - 530ms/epoch - 4ms/step\n",
      "Epoch 29/45\n",
      "126/126 - 1s - loss: 0.2984 - accuracy: 0.8982 - val_loss: 0.3732 - val_accuracy: 0.9037 - 533ms/epoch - 4ms/step\n",
      "Epoch 30/45\n",
      "126/126 - 1s - loss: 0.2867 - accuracy: 0.9069 - val_loss: 0.4182 - val_accuracy: 0.9056 - 539ms/epoch - 4ms/step\n",
      "Epoch 31/45\n",
      "126/126 - 0s - loss: 0.2710 - accuracy: 0.9125 - val_loss: 0.3357 - val_accuracy: 0.9167 - 494ms/epoch - 4ms/step\n",
      "Epoch 32/45\n",
      "126/126 - 1s - loss: 0.2968 - accuracy: 0.8990 - val_loss: 0.3551 - val_accuracy: 0.9074 - 618ms/epoch - 5ms/step\n",
      "Epoch 33/45\n",
      "126/126 - 1s - loss: 0.2963 - accuracy: 0.9085 - val_loss: 0.3462 - val_accuracy: 0.9019 - 567ms/epoch - 5ms/step\n",
      "Epoch 34/45\n",
      "126/126 - 1s - loss: 0.2582 - accuracy: 0.9212 - val_loss: 0.3736 - val_accuracy: 0.9019 - 565ms/epoch - 4ms/step\n",
      "Epoch 35/45\n",
      "126/126 - 1s - loss: 0.2814 - accuracy: 0.9133 - val_loss: 0.3230 - val_accuracy: 0.9148 - 504ms/epoch - 4ms/step\n",
      "Epoch 36/45\n",
      "126/126 - 0s - loss: 0.2531 - accuracy: 0.9220 - val_loss: 0.3620 - val_accuracy: 0.9111 - 483ms/epoch - 4ms/step\n",
      "Epoch 37/45\n",
      "126/126 - 1s - loss: 0.2302 - accuracy: 0.9196 - val_loss: 0.3451 - val_accuracy: 0.9130 - 515ms/epoch - 4ms/step\n",
      "Epoch 38/45\n",
      "126/126 - 1s - loss: 0.2689 - accuracy: 0.9125 - val_loss: 0.3413 - val_accuracy: 0.9185 - 586ms/epoch - 5ms/step\n",
      "Epoch 39/45\n",
      "126/126 - 1s - loss: 0.2256 - accuracy: 0.9324 - val_loss: 0.3631 - val_accuracy: 0.9093 - 542ms/epoch - 4ms/step\n",
      "Epoch 40/45\n",
      "126/126 - 1s - loss: 0.2113 - accuracy: 0.9292 - val_loss: 0.3595 - val_accuracy: 0.9074 - 576ms/epoch - 5ms/step\n",
      "Epoch 41/45\n",
      "126/126 - 1s - loss: 0.2347 - accuracy: 0.9236 - val_loss: 0.3962 - val_accuracy: 0.9019 - 577ms/epoch - 5ms/step\n",
      "Epoch 42/45\n",
      "126/126 - 1s - loss: 0.2422 - accuracy: 0.9149 - val_loss: 0.3330 - val_accuracy: 0.9185 - 538ms/epoch - 4ms/step\n",
      "Epoch 43/45\n",
      "126/126 - 0s - loss: 0.2403 - accuracy: 0.9252 - val_loss: 0.3257 - val_accuracy: 0.9167 - 469ms/epoch - 4ms/step\n",
      "Epoch 44/45\n",
      "126/126 - 1s - loss: 0.2024 - accuracy: 0.9348 - val_loss: 0.3345 - val_accuracy: 0.9241 - 502ms/epoch - 4ms/step\n",
      "Epoch 45/45\n",
      "126/126 - 1s - loss: 0.2460 - accuracy: 0.9260 - val_loss: 0.3421 - val_accuracy: 0.9185 - 665ms/epoch - 5ms/step\n"
     ]
    }
   ],
   "source": [
    "result= model.fit(X_train, Y_train,\n",
    "        # muestras para la actualización de los pesos\n",
    "          batch_size=10, \n",
    "        # n° de veces que se va a iterar en el conjunto de entrenamiento\n",
    "          epochs=45,\n",
    "          verbose=2,\n",
    "          validation_data=(X_test, Y_test))"
   ]
  },
  {
   "cell_type": "code",
   "execution_count": 45,
   "metadata": {},
   "outputs": [
    {
     "name": "stdout",
     "output_type": "stream",
     "text": [
      "17/17 - 1s - loss: 0.4147 - accuracy: 0.8926 - 1s/epoch - 68ms/step\n",
      "Test loss: 0.41470152139663696\n",
      "Test accuracy: 0.8925926089286804\n"
     ]
    }
   ],
   "source": [
    "score = result.model.evaluate(X_test, Y_test, verbose = 2)\n",
    "print('Test loss:', score[0])\n",
    "print('Test accuracy:', score[1])"
   ]
  },
  {
   "cell_type": "code",
   "execution_count": 113,
   "metadata": {},
   "outputs": [
    {
     "data": {
      "text/plain": [
       "(899, 64)"
      ]
     },
     "execution_count": 113,
     "metadata": {},
     "output_type": "execute_result"
    }
   ],
   "source": [
    "X_test.shape"
   ]
  },
  {
   "cell_type": "markdown",
   "metadata": {},
   "source": [
    "### Red neuronal convolucional"
   ]
  },
  {
   "cell_type": "code",
   "execution_count": 65,
   "metadata": {},
   "outputs": [
    {
     "name": "stdout",
     "output_type": "stream",
     "text": [
      "Training matrix shape (1257, 8, 8, 1)\n",
      "Testing matrix shape (540, 8, 8, 1)\n"
     ]
    }
   ],
   "source": [
    "# Again, do some formatting\n",
    "# Except we do not flatten each image into a 784-length vector because we want to perform convolutions first\n",
    "\n",
    "X_train3 = X_train.reshape(1257, 8, 8, 1) \n",
    "X_test3 = X_test.reshape(540, 8, 8, 1)\n",
    "\n",
    "X_train3 = X_train3.astype('float32')         \n",
    "X_test3 = X_test3.astype('float32')\n",
    "\n",
    "X_train3 /= 255                              # normalize each value for each pixel for the entire vector for each input\n",
    "X_test3 /= 255\n",
    "\n",
    "print(\"Training matrix shape\", X_train3.shape)\n",
    "print(\"Testing matrix shape\", X_test3.shape)"
   ]
  },
  {
   "cell_type": "code",
   "execution_count": 66,
   "metadata": {},
   "outputs": [],
   "source": [
    "model = Sequential()                                 # Linear stacking of layers\n",
    "\n",
    "# Convolution Layer 1\n",
    "model.add(Conv2D(32, (3, 3), input_shape=(8,8,1))) # 32 different 3x3 kernels -- so 32 feature maps\n",
    "model.add(BatchNormalization(axis=-1))               # normalize each feature map before activation\n",
    "convLayer01 = Activation('relu')                     # activation\n",
    "model.add(convLayer01)\n",
    "\n",
    "\n",
    "# Convolution Layer 2\n",
    "model.add(Conv2D(64, (3, 3)))                        # 64 different 3x3 kernels -- so 64 feature maps\n",
    "model.add(BatchNormalization(axis=-1))               # normalize each feature map before activation\n",
    "model.add(Activation('relu'))                        # activation\n",
    "convLayer04 = MaxPooling2D(pool_size=(2,2))          # Pool the max values over a 2x2 kernel\n",
    "model.add(convLayer04)\n",
    "model.add(Flatten())                               # Flatten final 4x4x64 output matrix into a 1024-length vector\n",
    "\n",
    "# Fully Connected Layer 3\n",
    "model.add(Dropout(0.2))  \n",
    "model.add(Dense(50))                                # 50 FCN nodes\n",
    "model.add(BatchNormalization())                      # normalization\n",
    "model.add(Activation('relu'))   \n",
    "\n",
    "# Fully Connected Layer 5                      \n",
    "model.add(Dropout(0.2))                              # 20% dropout of randomly selected nodes\n",
    "model.add(Dense(10))                                 # final 10 FCN nodes\n",
    "model.add(Activation('softmax'))  "
   ]
  },
  {
   "cell_type": "code",
   "execution_count": 67,
   "metadata": {},
   "outputs": [
    {
     "name": "stdout",
     "output_type": "stream",
     "text": [
      "Model: \"sequential_7\"\n",
      "_________________________________________________________________\n",
      " Layer (type)                Output Shape              Param #   \n",
      "=================================================================\n",
      " conv2d_2 (Conv2D)           (None, 6, 6, 32)          320       \n",
      "                                                                 \n",
      " batch_normalization_4 (Batc  (None, 6, 6, 32)         128       \n",
      " hNormalization)                                                 \n",
      "                                                                 \n",
      " activation_32 (Activation)  (None, 6, 6, 32)          0         \n",
      "                                                                 \n",
      " conv2d_3 (Conv2D)           (None, 4, 4, 64)          18496     \n",
      "                                                                 \n",
      " batch_normalization_5 (Batc  (None, 4, 4, 64)         256       \n",
      " hNormalization)                                                 \n",
      "                                                                 \n",
      " activation_33 (Activation)  (None, 4, 4, 64)          0         \n",
      "                                                                 \n",
      " max_pooling2d_1 (MaxPooling  (None, 2, 2, 64)         0         \n",
      " 2D)                                                             \n",
      "                                                                 \n",
      " flatten_1 (Flatten)         (None, 256)               0         \n",
      "                                                                 \n",
      " dropout_23 (Dropout)        (None, 256)               0         \n",
      "                                                                 \n",
      " dense_30 (Dense)            (None, 50)                12850     \n",
      "                                                                 \n",
      " batch_normalization_6 (Batc  (None, 50)               200       \n",
      " hNormalization)                                                 \n",
      "                                                                 \n",
      " activation_34 (Activation)  (None, 50)                0         \n",
      "                                                                 \n",
      " dense_31 (Dense)            (None, 25)                1275      \n",
      "                                                                 \n",
      " batch_normalization_7 (Batc  (None, 25)               100       \n",
      " hNormalization)                                                 \n",
      "                                                                 \n",
      " activation_35 (Activation)  (None, 25)                0         \n",
      "                                                                 \n",
      " dropout_24 (Dropout)        (None, 25)                0         \n",
      "                                                                 \n",
      " dense_32 (Dense)            (None, 10)                260       \n",
      "                                                                 \n",
      " activation_36 (Activation)  (None, 10)                0         \n",
      "                                                                 \n",
      "=================================================================\n",
      "Total params: 33,885\n",
      "Trainable params: 33,543\n",
      "Non-trainable params: 342\n",
      "_________________________________________________________________\n"
     ]
    }
   ],
   "source": [
    "model.summary()"
   ]
  },
  {
   "cell_type": "code",
   "execution_count": 68,
   "metadata": {},
   "outputs": [],
   "source": [
    "model.compile(loss='categorical_crossentropy', optimizer='adam', metrics=['accuracy'])"
   ]
  },
  {
   "cell_type": "code",
   "execution_count": 69,
   "metadata": {},
   "outputs": [],
   "source": [
    "gen = ImageDataGenerator(rotation_range=8, width_shift_range=0.08, shear_range=0.3,\n",
    "                         height_shift_range=0.08, zoom_range=0.08)\n",
    "\n",
    "test_gen = ImageDataGenerator()"
   ]
  },
  {
   "cell_type": "code",
   "execution_count": 70,
   "metadata": {},
   "outputs": [],
   "source": [
    "train_generator = gen.flow(X_train3, Y_train, batch_size=32)\n",
    "test_generator = test_gen.flow(X_test3, Y_test, batch_size=32)"
   ]
  },
  {
   "cell_type": "code",
   "execution_count": 72,
   "metadata": {},
   "outputs": [
    {
     "name": "stderr",
     "output_type": "stream",
     "text": [
      "<ipython-input-72-54665b3947a7>:1: UserWarning: `Model.fit_generator` is deprecated and will be removed in a future version. Please use `Model.fit`, which supports generators.\n",
      "  model.fit_generator(train_generator, steps_per_epoch=1257//32, epochs=100, verbose=1,\n"
     ]
    },
    {
     "name": "stdout",
     "output_type": "stream",
     "text": [
      "Epoch 1/100\n",
      "39/39 [==============================] - 2s 61ms/step - loss: 1.4094 - accuracy: 0.5984 - val_loss: 2.3367 - val_accuracy: 0.0918\n",
      "Epoch 2/100\n",
      "39/39 [==============================] - 1s 36ms/step - loss: 1.0448 - accuracy: 0.7543 - val_loss: 2.3661 - val_accuracy: 0.0957\n",
      "Epoch 3/100\n",
      "39/39 [==============================] - 2s 42ms/step - loss: 0.8404 - accuracy: 0.8261 - val_loss: 2.4015 - val_accuracy: 0.0957\n",
      "Epoch 4/100\n",
      "39/39 [==============================] - 1s 35ms/step - loss: 0.7050 - accuracy: 0.8588 - val_loss: 2.4101 - val_accuracy: 0.0977\n",
      "Epoch 5/100\n",
      "39/39 [==============================] - 2s 46ms/step - loss: 0.6235 - accuracy: 0.8588 - val_loss: 2.4280 - val_accuracy: 0.1016\n",
      "Epoch 6/100\n",
      "39/39 [==============================] - 1s 37ms/step - loss: 0.5230 - accuracy: 0.8931 - val_loss: 2.4065 - val_accuracy: 0.0977\n",
      "Epoch 7/100\n",
      "39/39 [==============================] - 2s 38ms/step - loss: 0.4474 - accuracy: 0.9102 - val_loss: 2.3917 - val_accuracy: 0.1270\n",
      "Epoch 8/100\n",
      "39/39 [==============================] - 1s 35ms/step - loss: 0.3982 - accuracy: 0.9233 - val_loss: 2.3353 - val_accuracy: 0.1992\n",
      "Epoch 9/100\n",
      "39/39 [==============================] - 1s 34ms/step - loss: 0.3447 - accuracy: 0.9290 - val_loss: 2.4064 - val_accuracy: 0.1836\n",
      "Epoch 10/100\n",
      "39/39 [==============================] - 3s 80ms/step - loss: 0.3256 - accuracy: 0.9363 - val_loss: 2.2503 - val_accuracy: 0.2266\n",
      "Epoch 11/100\n",
      "39/39 [==============================] - 2s 40ms/step - loss: 0.3103 - accuracy: 0.9306 - val_loss: 1.9931 - val_accuracy: 0.2793\n",
      "Epoch 12/100\n",
      "39/39 [==============================] - 3s 76ms/step - loss: 0.2812 - accuracy: 0.9371 - val_loss: 1.7094 - val_accuracy: 0.5156\n",
      "Epoch 13/100\n",
      "39/39 [==============================] - 4s 91ms/step - loss: 0.2727 - accuracy: 0.9429 - val_loss: 1.5814 - val_accuracy: 0.4785\n",
      "Epoch 14/100\n",
      "39/39 [==============================] - 3s 86ms/step - loss: 0.2485 - accuracy: 0.9396 - val_loss: 0.7715 - val_accuracy: 0.7891\n",
      "Epoch 15/100\n",
      "39/39 [==============================] - 2s 45ms/step - loss: 0.2315 - accuracy: 0.9486 - val_loss: 1.1758 - val_accuracy: 0.6152\n",
      "Epoch 16/100\n",
      "39/39 [==============================] - 1s 35ms/step - loss: 0.2091 - accuracy: 0.9527 - val_loss: 1.6193 - val_accuracy: 0.3789\n",
      "Epoch 17/100\n",
      "39/39 [==============================] - 2s 38ms/step - loss: 0.1814 - accuracy: 0.9633 - val_loss: 1.2124 - val_accuracy: 0.5781\n",
      "Epoch 18/100\n",
      "39/39 [==============================] - 1s 36ms/step - loss: 0.1942 - accuracy: 0.9527 - val_loss: 1.6956 - val_accuracy: 0.5020\n",
      "Epoch 19/100\n",
      "39/39 [==============================] - 1s 36ms/step - loss: 0.1877 - accuracy: 0.9518 - val_loss: 2.9571 - val_accuracy: 0.3027\n",
      "Epoch 20/100\n",
      "39/39 [==============================] - 1s 35ms/step - loss: 0.2030 - accuracy: 0.9461 - val_loss: 2.1404 - val_accuracy: 0.3496\n",
      "Epoch 21/100\n",
      "39/39 [==============================] - 1s 37ms/step - loss: 0.1755 - accuracy: 0.9543 - val_loss: 1.9720 - val_accuracy: 0.4453\n",
      "Epoch 22/100\n",
      "39/39 [==============================] - 4s 86ms/step - loss: 0.1464 - accuracy: 0.9641 - val_loss: 1.7056 - val_accuracy: 0.4805\n",
      "Epoch 23/100\n",
      "39/39 [==============================] - 2s 37ms/step - loss: 0.1646 - accuracy: 0.9608 - val_loss: 1.3330 - val_accuracy: 0.6270\n",
      "Epoch 24/100\n",
      "39/39 [==============================] - 4s 87ms/step - loss: 0.1761 - accuracy: 0.9535 - val_loss: 1.5216 - val_accuracy: 0.5176\n",
      "Epoch 25/100\n",
      "39/39 [==============================] - 1s 37ms/step - loss: 0.1458 - accuracy: 0.9690 - val_loss: 1.3865 - val_accuracy: 0.5566\n",
      "Epoch 26/100\n",
      "39/39 [==============================] - 1s 35ms/step - loss: 0.1490 - accuracy: 0.9600 - val_loss: 1.8740 - val_accuracy: 0.5195\n",
      "Epoch 27/100\n",
      "39/39 [==============================] - 3s 84ms/step - loss: 0.1513 - accuracy: 0.9592 - val_loss: 2.1639 - val_accuracy: 0.5332\n",
      "Epoch 28/100\n",
      "39/39 [==============================] - 1s 35ms/step - loss: 0.1594 - accuracy: 0.9567 - val_loss: 4.2593 - val_accuracy: 0.3008\n",
      "Epoch 29/100\n",
      "39/39 [==============================] - 1s 35ms/step - loss: 0.1434 - accuracy: 0.9608 - val_loss: 5.3863 - val_accuracy: 0.2422\n",
      "Epoch 30/100\n",
      "39/39 [==============================] - 1s 33ms/step - loss: 0.1238 - accuracy: 0.9682 - val_loss: 3.8622 - val_accuracy: 0.2832\n",
      "Epoch 31/100\n",
      "39/39 [==============================] - 4s 96ms/step - loss: 0.1324 - accuracy: 0.9641 - val_loss: 4.4185 - val_accuracy: 0.2832\n",
      "Epoch 32/100\n",
      "39/39 [==============================] - 2s 39ms/step - loss: 0.1069 - accuracy: 0.9722 - val_loss: 4.0964 - val_accuracy: 0.2734\n",
      "Epoch 33/100\n",
      "39/39 [==============================] - 4s 87ms/step - loss: 0.1393 - accuracy: 0.9616 - val_loss: 2.9062 - val_accuracy: 0.3379\n",
      "Epoch 34/100\n",
      "39/39 [==============================] - 3s 87ms/step - loss: 0.1093 - accuracy: 0.9688 - val_loss: 1.7945 - val_accuracy: 0.5625\n",
      "Epoch 35/100\n",
      "39/39 [==============================] - 2s 42ms/step - loss: 0.1021 - accuracy: 0.9747 - val_loss: 0.4193 - val_accuracy: 0.8926\n",
      "Epoch 36/100\n",
      "39/39 [==============================] - 4s 87ms/step - loss: 0.1128 - accuracy: 0.9763 - val_loss: 0.4929 - val_accuracy: 0.8555\n",
      "Epoch 37/100\n",
      "39/39 [==============================] - 2s 44ms/step - loss: 0.1028 - accuracy: 0.9755 - val_loss: 2.0355 - val_accuracy: 0.5762\n",
      "Epoch 38/100\n",
      "39/39 [==============================] - 1s 33ms/step - loss: 0.1030 - accuracy: 0.9731 - val_loss: 2.2847 - val_accuracy: 0.5020\n",
      "Epoch 39/100\n",
      "39/39 [==============================] - 4s 91ms/step - loss: 0.1077 - accuracy: 0.9698 - val_loss: 1.8626 - val_accuracy: 0.6191\n",
      "Epoch 40/100\n",
      "39/39 [==============================] - 2s 44ms/step - loss: 0.1011 - accuracy: 0.9728 - val_loss: 3.4594 - val_accuracy: 0.4160\n",
      "Epoch 41/100\n",
      "39/39 [==============================] - 1s 36ms/step - loss: 0.0954 - accuracy: 0.9763 - val_loss: 4.4574 - val_accuracy: 0.2930\n",
      "Epoch 42/100\n",
      "39/39 [==============================] - 4s 92ms/step - loss: 0.0961 - accuracy: 0.9747 - val_loss: 2.8082 - val_accuracy: 0.5195\n",
      "Epoch 43/100\n",
      "39/39 [==============================] - 2s 42ms/step - loss: 0.0978 - accuracy: 0.9739 - val_loss: 3.5686 - val_accuracy: 0.3145\n",
      "Epoch 44/100\n",
      "39/39 [==============================] - 4s 87ms/step - loss: 0.0912 - accuracy: 0.9739 - val_loss: 2.4959 - val_accuracy: 0.4238\n",
      "Epoch 45/100\n",
      "39/39 [==============================] - 3s 84ms/step - loss: 0.0943 - accuracy: 0.9731 - val_loss: 0.7344 - val_accuracy: 0.7852\n",
      "Epoch 46/100\n",
      "39/39 [==============================] - 3s 77ms/step - loss: 0.0964 - accuracy: 0.9771 - val_loss: 0.4389 - val_accuracy: 0.8516\n",
      "Epoch 47/100\n",
      "39/39 [==============================] - 2s 40ms/step - loss: 0.0893 - accuracy: 0.9739 - val_loss: 2.4269 - val_accuracy: 0.4941\n",
      "Epoch 48/100\n",
      "39/39 [==============================] - 4s 89ms/step - loss: 0.0978 - accuracy: 0.9698 - val_loss: 2.2760 - val_accuracy: 0.4980\n",
      "Epoch 49/100\n",
      "39/39 [==============================] - 2s 45ms/step - loss: 0.0961 - accuracy: 0.9763 - val_loss: 0.7708 - val_accuracy: 0.7773\n",
      "Epoch 50/100\n",
      "39/39 [==============================] - 1s 33ms/step - loss: 0.0878 - accuracy: 0.9812 - val_loss: 2.1437 - val_accuracy: 0.4727\n",
      "Epoch 51/100\n",
      "39/39 [==============================] - 2s 59ms/step - loss: 0.0855 - accuracy: 0.9747 - val_loss: 7.7424 - val_accuracy: 0.2051\n",
      "Epoch 52/100\n",
      "39/39 [==============================] - 2s 38ms/step - loss: 0.0672 - accuracy: 0.9829 - val_loss: 4.7270 - val_accuracy: 0.3496\n",
      "Epoch 53/100\n",
      "39/39 [==============================] - 1s 34ms/step - loss: 0.0934 - accuracy: 0.9739 - val_loss: 1.3324 - val_accuracy: 0.7070\n",
      "Epoch 54/100\n",
      "39/39 [==============================] - 1s 35ms/step - loss: 0.0886 - accuracy: 0.9763 - val_loss: 0.3975 - val_accuracy: 0.8633\n",
      "Epoch 55/100\n",
      "39/39 [==============================] - 4s 92ms/step - loss: 0.1051 - accuracy: 0.9698 - val_loss: 7.2915 - val_accuracy: 0.1816\n",
      "Epoch 56/100\n",
      "39/39 [==============================] - 2s 40ms/step - loss: 0.0802 - accuracy: 0.9780 - val_loss: 8.4071 - val_accuracy: 0.1758\n",
      "Epoch 57/100\n",
      "39/39 [==============================] - 1s 37ms/step - loss: 0.0695 - accuracy: 0.9788 - val_loss: 10.6363 - val_accuracy: 0.1426\n",
      "Epoch 58/100\n",
      "39/39 [==============================] - 1s 35ms/step - loss: 0.0946 - accuracy: 0.9706 - val_loss: 10.0055 - val_accuracy: 0.1230\n",
      "Epoch 59/100\n",
      "39/39 [==============================] - 4s 87ms/step - loss: 0.0751 - accuracy: 0.9796 - val_loss: 5.2295 - val_accuracy: 0.2266\n",
      "Epoch 60/100\n",
      "39/39 [==============================] - 3s 83ms/step - loss: 0.0738 - accuracy: 0.9796 - val_loss: 7.7326 - val_accuracy: 0.2031\n",
      "Epoch 61/100\n",
      "39/39 [==============================] - 2s 41ms/step - loss: 0.0784 - accuracy: 0.9796 - val_loss: 4.2129 - val_accuracy: 0.2344\n",
      "Epoch 62/100\n",
      "39/39 [==============================] - 2s 40ms/step - loss: 0.0611 - accuracy: 0.9829 - val_loss: 1.8035 - val_accuracy: 0.5156\n",
      "Epoch 63/100\n",
      "39/39 [==============================] - 2s 45ms/step - loss: 0.0608 - accuracy: 0.9788 - val_loss: 0.8049 - val_accuracy: 0.7676\n",
      "Epoch 64/100\n",
      "39/39 [==============================] - 1s 34ms/step - loss: 0.0803 - accuracy: 0.9796 - val_loss: 0.5640 - val_accuracy: 0.8301\n",
      "Epoch 65/100\n",
      "39/39 [==============================] - 1s 34ms/step - loss: 0.0552 - accuracy: 0.9845 - val_loss: 0.7955 - val_accuracy: 0.7461\n",
      "Epoch 66/100\n",
      "39/39 [==============================] - 2s 37ms/step - loss: 0.0586 - accuracy: 0.9878 - val_loss: 0.8182 - val_accuracy: 0.7969\n",
      "Epoch 67/100\n",
      "39/39 [==============================] - 2s 40ms/step - loss: 0.0809 - accuracy: 0.9755 - val_loss: 2.0460 - val_accuracy: 0.5645\n",
      "Epoch 68/100\n",
      "39/39 [==============================] - 2s 39ms/step - loss: 0.0624 - accuracy: 0.9812 - val_loss: 1.1455 - val_accuracy: 0.7500\n",
      "Epoch 69/100\n",
      "39/39 [==============================] - 1s 34ms/step - loss: 0.0715 - accuracy: 0.9812 - val_loss: 0.3835 - val_accuracy: 0.8652\n",
      "Epoch 70/100\n",
      "39/39 [==============================] - 1s 36ms/step - loss: 0.0647 - accuracy: 0.9853 - val_loss: 0.7521 - val_accuracy: 0.7812\n",
      "Epoch 71/100\n",
      "39/39 [==============================] - 2s 47ms/step - loss: 0.0773 - accuracy: 0.9796 - val_loss: 0.3987 - val_accuracy: 0.8867\n",
      "Epoch 72/100\n",
      "39/39 [==============================] - 4s 95ms/step - loss: 0.0493 - accuracy: 0.9878 - val_loss: 0.6025 - val_accuracy: 0.8223\n",
      "Epoch 73/100\n",
      "39/39 [==============================] - 2s 45ms/step - loss: 0.0743 - accuracy: 0.9804 - val_loss: 3.1446 - val_accuracy: 0.4727\n",
      "Epoch 74/100\n",
      "39/39 [==============================] - 4s 84ms/step - loss: 0.0593 - accuracy: 0.9853 - val_loss: 0.6288 - val_accuracy: 0.8164\n",
      "Epoch 75/100\n",
      "39/39 [==============================] - 4s 91ms/step - loss: 0.0726 - accuracy: 0.9845 - val_loss: 0.4904 - val_accuracy: 0.8594\n",
      "Epoch 76/100\n",
      "39/39 [==============================] - 2s 37ms/step - loss: 0.0837 - accuracy: 0.9739 - val_loss: 8.0321 - val_accuracy: 0.1777\n",
      "Epoch 77/100\n",
      "39/39 [==============================] - 1s 31ms/step - loss: 0.0798 - accuracy: 0.9812 - val_loss: 6.1532 - val_accuracy: 0.2969\n",
      "Epoch 78/100\n",
      "39/39 [==============================] - 1s 31ms/step - loss: 0.0618 - accuracy: 0.9829 - val_loss: 4.6572 - val_accuracy: 0.3555\n",
      "Epoch 79/100\n",
      "39/39 [==============================] - 2s 37ms/step - loss: 0.0554 - accuracy: 0.9861 - val_loss: 1.2967 - val_accuracy: 0.7051\n",
      "Epoch 80/100\n",
      "39/39 [==============================] - 1s 34ms/step - loss: 0.0592 - accuracy: 0.9829 - val_loss: 1.6533 - val_accuracy: 0.5723\n",
      "Epoch 81/100\n",
      "39/39 [==============================] - 1s 32ms/step - loss: 0.0568 - accuracy: 0.9853 - val_loss: 0.4930 - val_accuracy: 0.8516\n",
      "Epoch 82/100\n",
      "39/39 [==============================] - 1s 31ms/step - loss: 0.0570 - accuracy: 0.9853 - val_loss: 1.8517 - val_accuracy: 0.6660\n",
      "Epoch 83/100\n",
      "39/39 [==============================] - 1s 31ms/step - loss: 0.0530 - accuracy: 0.9861 - val_loss: 1.5815 - val_accuracy: 0.6445\n",
      "Epoch 84/100\n",
      "39/39 [==============================] - 1s 34ms/step - loss: 0.0616 - accuracy: 0.9820 - val_loss: 1.8698 - val_accuracy: 0.5586\n",
      "Epoch 85/100\n",
      "39/39 [==============================] - 3s 77ms/step - loss: 0.0526 - accuracy: 0.9837 - val_loss: 0.7118 - val_accuracy: 0.8027\n",
      "Epoch 86/100\n",
      "39/39 [==============================] - 2s 44ms/step - loss: 0.0626 - accuracy: 0.9812 - val_loss: 0.9934 - val_accuracy: 0.7363\n",
      "Epoch 87/100\n",
      "39/39 [==============================] - 4s 94ms/step - loss: 0.0786 - accuracy: 0.9763 - val_loss: 0.6953 - val_accuracy: 0.7812\n",
      "Epoch 88/100\n",
      "39/39 [==============================] - 2s 40ms/step - loss: 0.0455 - accuracy: 0.9853 - val_loss: 0.5704 - val_accuracy: 0.8281\n",
      "Epoch 89/100\n",
      "39/39 [==============================] - 1s 31ms/step - loss: 0.0687 - accuracy: 0.9796 - val_loss: 0.9511 - val_accuracy: 0.7461\n",
      "Epoch 90/100\n",
      "39/39 [==============================] - 1s 35ms/step - loss: 0.0679 - accuracy: 0.9812 - val_loss: 2.7712 - val_accuracy: 0.4355\n",
      "Epoch 91/100\n",
      "39/39 [==============================] - 1s 37ms/step - loss: 0.0669 - accuracy: 0.9812 - val_loss: 1.3461 - val_accuracy: 0.5977\n",
      "Epoch 92/100\n",
      "39/39 [==============================] - 1s 37ms/step - loss: 0.0631 - accuracy: 0.9820 - val_loss: 0.4421 - val_accuracy: 0.8594\n",
      "Epoch 93/100\n",
      "39/39 [==============================] - 1s 37ms/step - loss: 0.0584 - accuracy: 0.9829 - val_loss: 0.2423 - val_accuracy: 0.9395\n",
      "Epoch 94/100\n",
      "39/39 [==============================] - 2s 49ms/step - loss: 0.0753 - accuracy: 0.9829 - val_loss: 3.8996 - val_accuracy: 0.3535\n",
      "Epoch 95/100\n",
      "39/39 [==============================] - 2s 37ms/step - loss: 0.0469 - accuracy: 0.9886 - val_loss: 1.0263 - val_accuracy: 0.7676\n",
      "Epoch 96/100\n",
      "39/39 [==============================] - 2s 39ms/step - loss: 0.0651 - accuracy: 0.9780 - val_loss: 1.7695 - val_accuracy: 0.6602\n",
      "Epoch 97/100\n",
      "39/39 [==============================] - 2s 61ms/step - loss: 0.0655 - accuracy: 0.9820 - val_loss: 0.7289 - val_accuracy: 0.8203\n",
      "Epoch 98/100\n",
      "39/39 [==============================] - 2s 49ms/step - loss: 0.0789 - accuracy: 0.9788 - val_loss: 1.0772 - val_accuracy: 0.6992\n",
      "Epoch 99/100\n",
      "39/39 [==============================] - 3s 65ms/step - loss: 0.0591 - accuracy: 0.9837 - val_loss: 2.0178 - val_accuracy: 0.5469\n",
      "Epoch 100/100\n",
      "39/39 [==============================] - 2s 52ms/step - loss: 0.0680 - accuracy: 0.9829 - val_loss: 1.2671 - val_accuracy: 0.6230\n"
     ]
    },
    {
     "data": {
      "text/plain": [
       "<keras.callbacks.History at 0x135ec2576a0>"
      ]
     },
     "execution_count": 72,
     "metadata": {},
     "output_type": "execute_result"
    }
   ],
   "source": [
    "\n",
    "model.fit_generator(train_generator, steps_per_epoch=1257//32, epochs=100, verbose=1, \n",
    "                    validation_data= test_generator, validation_steps=540//32)"
   ]
  },
  {
   "cell_type": "code",
   "execution_count": 74,
   "metadata": {},
   "outputs": [
    {
     "data": {
      "image/png": "[encoded data removed]",
      "text/plain": [
       "<Figure size 432x288 with 2 Axes>"
      ]
     },
     "metadata": {
      "needs_background": "light"
     },
     "output_type": "display_data"
    }
   ],
   "source": [
    "# plotting the metrics\n",
    "fig = plt.figure()\n",
    "plt.subplot(2,1,1)\n",
    "plt.plot(model.history.history['accuracy'])\n",
    "plt.plot(model.history.history['val_accuracy'])\n",
    "plt.title('model accuracy')\n",
    "plt.ylabel('accuracy')\n",
    "plt.xlabel('epoch')\n",
    "plt.legend(['train', 'test'], loc='lower right')\n",
    "\n",
    "plt.subplot(2,1,2)\n",
    "plt.plot(model.history.history[\"loss\"])\n",
    "plt.plot(model.history.history[\"val_loss\"])\n",
    "plt.title('model loss')\n",
    "plt.ylabel('loss')\n",
    "plt.xlabel('epoch')\n",
    "plt.legend(['train', 'test'], loc='upper right')\n",
    "\n",
    "plt.tight_layout()"
   ]
  },
  {
   "cell_type": "code",
   "execution_count": null,
   "metadata": {},
   "outputs": [
    {
     "data": {
      "text/plain": [
       "{'loss': [1.874001145362854,\n",
       "  1.213083028793335,\n",
       "  0.9467852711677551,\n",
       "  0.7735491394996643,\n",
       "  0.6798977851867676,\n",
       "  0.5661628246307373,\n",
       "  0.5276862382888794,\n",
       "  0.4640578627586365,\n",
       "  0.39051568508148193,\n",
       "  0.3875615894794464,\n",
       "  0.3751507103443146,\n",
       "  0.2855387330055237,\n",
       "  0.26388823986053467,\n",
       "  0.29747992753982544,\n",
       "  0.2374298870563507,\n",
       "  0.21192479133605957,\n",
       "  0.2478567510843277,\n",
       "  0.22702014446258545,\n",
       "  0.22254063189029694,\n",
       "  0.22138464450836182,\n",
       "  0.21894951164722443,\n",
       "  0.16254307329654694,\n",
       "  0.16091153025627136,\n",
       "  0.16978661715984344,\n",
       "  0.18497447669506073,\n",
       "  0.1884031593799591,\n",
       "  0.15080532431602478,\n",
       "  0.16174469888210297,\n",
       "  0.1622086465358734,\n",
       "  0.16024412214756012,\n",
       "  0.12616579234600067,\n",
       "  0.12559401988983154,\n",
       "  0.17369113862514496,\n",
       "  0.11325398087501526,\n",
       "  0.1227632462978363],\n",
       " 'accuracy': [0.3758542239665985,\n",
       "  0.6537585258483887,\n",
       "  0.7289294004440308,\n",
       "  0.785876989364624,\n",
       "  0.8041002154350281,\n",
       "  0.8610478639602661,\n",
       "  0.8576309680938721,\n",
       "  0.8758541941642761,\n",
       "  0.8952164053916931,\n",
       "  0.8952164053916931,\n",
       "  0.8906605839729309,\n",
       "  0.9350797533988953,\n",
       "  0.9305239319801331,\n",
       "  0.9111617207527161,\n",
       "  0.9350797533988953,\n",
       "  0.9407745003700256,\n",
       "  0.9339407682418823,\n",
       "  0.9407745003700256,\n",
       "  0.9362186789512634,\n",
       "  0.9328018426895142,\n",
       "  0.928246021270752,\n",
       "  0.9567198157310486,\n",
       "  0.9510250687599182,\n",
       "  0.9441913366317749,\n",
       "  0.946469247341156,\n",
       "  0.9487471580505371,\n",
       "  0.9567198157310486,\n",
       "  0.9521639943122864,\n",
       "  0.9521639943122864,\n",
       "  0.9453303217887878,\n",
       "  0.9555808901786804,\n",
       "  0.9579545259475708,\n",
       "  0.9384965896606445,\n",
       "  0.9681093096733093,\n",
       "  0.9646924734115601],\n",
       " 'val_loss': [2.3337979316711426,\n",
       "  2.358652353286743,\n",
       "  2.3895602226257324,\n",
       "  2.3943724632263184,\n",
       "  2.4093499183654785,\n",
       "  2.4077136516571045,\n",
       "  2.4290547370910645,\n",
       "  2.430763006210327,\n",
       "  2.463559627532959,\n",
       "  2.1166045665740967,\n",
       "  1.78786301612854,\n",
       "  1.2718194723129272,\n",
       "  1.1417739391326904,\n",
       "  0.8929259777069092,\n",
       "  0.5557606816291809,\n",
       "  0.28788599371910095,\n",
       "  0.4203087091445923,\n",
       "  0.5769959092140198,\n",
       "  2.083423614501953,\n",
       "  0.9190606474876404,\n",
       "  0.6220261454582214,\n",
       "  0.891248881816864,\n",
       "  1.3279739618301392,\n",
       "  0.5563568472862244,\n",
       "  0.6452615261077881,\n",
       "  0.8515928983688354,\n",
       "  2.159498929977417,\n",
       "  5.072917461395264,\n",
       "  4.630643844604492,\n",
       "  1.982594609260559,\n",
       "  1.0253831148147583,\n",
       "  0.7764569520950317,\n",
       "  1.9347163438796997,\n",
       "  0.39677780866622925,\n",
       "  0.6556790471076965],\n",
       " 'val_accuracy': [0.09772727638483047,\n",
       "  0.09545454382896423,\n",
       "  0.09772727638483047,\n",
       "  0.15795454382896423,\n",
       "  0.10000000149011612,\n",
       "  0.0988636389374733,\n",
       "  0.09545454382896423,\n",
       "  0.10000000149011612,\n",
       "  0.09659090638160706,\n",
       "  0.1772727221250534,\n",
       "  0.35227271914482117,\n",
       "  0.6431818008422852,\n",
       "  0.5852272510528564,\n",
       "  0.7136363387107849,\n",
       "  0.8443182110786438,\n",
       "  0.9079545736312866,\n",
       "  0.8818181753158569,\n",
       "  0.8284090757369995,\n",
       "  0.375,\n",
       "  0.7056818008422852,\n",
       "  0.793181836605072,\n",
       "  0.6761363744735718,\n",
       "  0.6215909123420715,\n",
       "  0.8193181753158569,\n",
       "  0.7852272987365723,\n",
       "  0.7420454621315002,\n",
       "  0.4522727131843567,\n",
       "  0.13181817531585693,\n",
       "  0.14886364340782166,\n",
       "  0.40454545617103577,\n",
       "  0.7022727131843567,\n",
       "  0.8102272748947144,\n",
       "  0.48181816935539246,\n",
       "  0.8840909004211426,\n",
       "  0.8329545259475708]}"
      ]
     },
     "execution_count": 162,
     "metadata": {},
     "output_type": "execute_result"
    }
   ],
   "source": [
    "model.history.history"
   ]
  },
  {
   "cell_type": "code",
   "execution_count": null,
   "metadata": {},
   "outputs": [
    {
     "name": "stdout",
     "output_type": "stream",
     "text": [
      "29/29 [==============================] - 2s 15ms/step - loss: 12.8429 - accuracy: 0.1012\n",
      "Test score: 12.84286117553711\n",
      "Test accuracy: 0.10122358053922653\n"
     ]
    }
   ],
   "source": [
    "score = model.evaluate(X_test3, Y_test)\n",
    "print('Test score:', score[0])\n",
    "print('Test accuracy:', score[1])"
   ]
  },
  {
   "cell_type": "code",
   "execution_count": null,
   "metadata": {},
   "outputs": [
    {
     "data": {
      "text/plain": [
       "(899, 8, 8, 1)"
      ]
     },
     "execution_count": 142,
     "metadata": {},
     "output_type": "execute_result"
    }
   ],
   "source": [
    "X_test3.shape"
   ]
  },
  {
   "cell_type": "markdown",
   "metadata": {},
   "source": [
    "### Mejorar los hyperparametros"
   ]
  },
  {
   "cell_type": "code",
   "execution_count": 75,
   "metadata": {},
   "outputs": [],
   "source": [
    "## diviendo el dataset en datos de entranamiento y testeo\n",
    "X_train, X_test, y_train, y_test = train_test_split(\n",
    "    data, digits.target, test_size=0.3, shuffle=False)"
   ]
  },
  {
   "cell_type": "code",
   "execution_count": 77,
   "metadata": {},
   "outputs": [],
   "source": [
    "classifier = model = svm.SVC()"
   ]
  },
  {
   "cell_type": "code",
   "execution_count": 78,
   "metadata": {},
   "outputs": [],
   "source": [
    "parameters =[\n",
    "    { \"C\" : [1,10,100,1000], \"kernel\" : [\"linear\"]},\n",
    "    { \"C\" : [1,10,100,1000], \"kernel\" : [\"rbf\"], \"gamma\" : [0.5,0.1,0.001, 0.001] }\n",
    "            ]"
   ]
  },
  {
   "cell_type": "code",
   "execution_count": 79,
   "metadata": {},
   "outputs": [],
   "source": [
    "grid_search = GridSearchCV(estimator= classifier, param_grid= parameters, scoring= \"accuracy\",\n",
    "                          cv = 10, n_jobs= 1)"
   ]
  },
  {
   "cell_type": "code",
   "execution_count": 80,
   "metadata": {},
   "outputs": [],
   "source": [
    "grid_search = grid_search.fit(X_train, y_train)"
   ]
  },
  {
   "cell_type": "code",
   "execution_count": 81,
   "metadata": {},
   "outputs": [
    {
     "data": {
      "text/plain": [
       "SVC(C=10, gamma=0.001)"
      ]
     },
     "execution_count": 81,
     "metadata": {},
     "output_type": "execute_result"
    }
   ],
   "source": [
    "grid_search.best_estimator_"
   ]
  },
  {
   "cell_type": "code",
   "execution_count": 82,
   "metadata": {},
   "outputs": [
    {
     "name": "stdout",
     "output_type": "stream",
     "text": [
      "0.964 (+/- 0.049) para {'C': 1, 'kernel': 'linear'}\n",
      "0.964 (+/- 0.049) para {'C': 10, 'kernel': 'linear'}\n",
      "0.964 (+/- 0.049) para {'C': 100, 'kernel': 'linear'}\n",
      "0.964 (+/- 0.049) para {'C': 1000, 'kernel': 'linear'}\n",
      "0.103 (+/- 0.001) para {'C': 1, 'gamma': 0.5, 'kernel': 'rbf'}\n",
      "0.103 (+/- 0.001) para {'C': 1, 'gamma': 0.1, 'kernel': 'rbf'}\n",
      "0.974 (+/- 0.041) para {'C': 1, 'gamma': 0.001, 'kernel': 'rbf'}\n",
      "0.974 (+/- 0.041) para {'C': 1, 'gamma': 0.001, 'kernel': 'rbf'}\n",
      "0.103 (+/- 0.001) para {'C': 10, 'gamma': 0.5, 'kernel': 'rbf'}\n",
      "0.103 (+/- 0.001) para {'C': 10, 'gamma': 0.1, 'kernel': 'rbf'}\n",
      "0.980 (+/- 0.040) para {'C': 10, 'gamma': 0.001, 'kernel': 'rbf'}\n",
      "0.980 (+/- 0.040) para {'C': 10, 'gamma': 0.001, 'kernel': 'rbf'}\n",
      "0.103 (+/- 0.001) para {'C': 100, 'gamma': 0.5, 'kernel': 'rbf'}\n",
      "0.103 (+/- 0.001) para {'C': 100, 'gamma': 0.1, 'kernel': 'rbf'}\n",
      "0.980 (+/- 0.040) para {'C': 100, 'gamma': 0.001, 'kernel': 'rbf'}\n",
      "0.980 (+/- 0.040) para {'C': 100, 'gamma': 0.001, 'kernel': 'rbf'}\n",
      "0.103 (+/- 0.001) para {'C': 1000, 'gamma': 0.5, 'kernel': 'rbf'}\n",
      "0.103 (+/- 0.001) para {'C': 1000, 'gamma': 0.1, 'kernel': 'rbf'}\n",
      "0.980 (+/- 0.040) para {'C': 1000, 'gamma': 0.001, 'kernel': 'rbf'}\n",
      "0.980 (+/- 0.040) para {'C': 1000, 'gamma': 0.001, 'kernel': 'rbf'}\n"
     ]
    }
   ],
   "source": [
    "means = grid_search.cv_results_[\"mean_test_score\"]\n",
    "stds = grid_search.cv_results_[\"std_test_score\"]\n",
    "params = grid_search.cv_results_[\"params\"]\n",
    "for m,s,p in zip(means, stds, params) :\n",
    "    print(\"%0.3f (+/- %0.3f) para %r\"%(m,2*s,p))"
   ]
  },
  {
   "cell_type": "code",
   "execution_count": 83,
   "metadata": {},
   "outputs": [],
   "source": [
    "y_pred = grid_search.predict(X_test)"
   ]
  },
  {
   "cell_type": "code",
   "execution_count": 84,
   "metadata": {},
   "outputs": [
    {
     "name": "stdout",
     "output_type": "stream",
     "text": [
      "Classification report for classifier SVC():\n",
      "              precision    recall  f1-score   support\n",
      "\n",
      "           0       1.00      0.98      0.99        53\n",
      "           1       0.96      1.00      0.98        53\n",
      "           2       1.00      0.98      0.99        53\n",
      "           3       0.96      0.91      0.93        53\n",
      "           4       0.98      0.95      0.96        57\n",
      "           5       0.95      0.98      0.96        56\n",
      "           6       0.98      0.98      0.98        54\n",
      "           7       1.00      1.00      1.00        54\n",
      "           8       0.94      0.98      0.96        52\n",
      "           9       0.95      0.96      0.95        55\n",
      "\n",
      "    accuracy                           0.97       540\n",
      "   macro avg       0.97      0.97      0.97       540\n",
      "weighted avg       0.97      0.97      0.97       540\n",
      "\n",
      "\n"
     ]
    }
   ],
   "source": [
    "print(\n",
    "    f\"Classification report for classifier {model}:\\n\"\n",
    "    f\"{metrics.classification_report(y_test, y_pred)}\\n\"\n",
    ")"
   ]
  }
 ],
 "metadata": {
  "interpreter": {
   "hash": "77611dd6a37517ce70408453dee427b5d312b628eb7e2e51f85b8662fca83e91"
  },
  "kernelspec": {
   "display_name": "Python 3.8.5 ('base')",
   "language": "python",
   "name": "python3"
  },
  "language_info": {
   "codemirror_mode": {
    "name": "ipython",
    "version": 3
   },
   "file_extension": ".py",
   "mimetype": "text/x-python",
   "name": "python",
   "nbconvert_exporter": "python",
   "pygments_lexer": "ipython3",
   "version": "3.8.5"
  },
  "orig_nbformat": 4
 },
 "nbformat": 4,
 "nbformat_minor": 2
}
