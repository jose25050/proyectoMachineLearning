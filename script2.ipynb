{
 "cells": [
  {
   "cell_type": "code",
   "execution_count": 1,
   "metadata": {},
   "outputs": [
    {
     "name": "stderr",
     "output_type": "stream",
     "text": [
      "c:\\Users\\jose2\\anaconda3\\lib\\site-packages\\requests\\__init__.py:89: RequestsDependencyWarning: urllib3 (1.26.9) or chardet (3.0.4) doesn't match a supported version!\n",
      "  warnings.warn(\"urllib3 ({}) or chardet ({}) doesn't match a supported \"\n"
     ]
    }
   ],
   "source": [
    "import matplotlib.pyplot as plt\n",
    "import pandas as pd\n",
    "import seaborn as sns\n",
    "import numpy as np\n",
    "from sklearn import datasets, svm, metrics\n",
    "from sklearn.model_selection import train_test_split\n",
    "from sklearn.model_selection import GridSearchCV\n",
    "\n",
    "## creando los filtros de la imagen\n",
    "\n",
    "from skimage.io import imread, imshow\n",
    "from skimage.color import rgb2gray\n",
    "from skimage.transform import rescale\n",
    "from scipy.signal import convolve2d\n",
    "\n",
    "## filtros de kernel\n",
    "from PIL import Image, ImageFilter\n",
    "from scipy import signal\n",
    "\n",
    "# Keras\n",
    "from keras.models import Sequential\n",
    "from keras.layers import Conv2D\n",
    "from keras.layers import MaxPooling2D\n",
    "from keras.layers import Flatten\n",
    "from keras.layers import Dense\n",
    "from keras.utils import np_utils\n",
    "from keras.layers.core import Dropout, Activation\n",
    "from keras.layers import   BatchNormalization\n",
    "from keras.preprocessing.image import ImageDataGenerator"
   ]
  },
  {
   "cell_type": "code",
   "execution_count": 2,
   "metadata": {},
   "outputs": [],
   "source": [
    "## abriendo el dataset de digits (NMIST)\n",
    "\n",
    "digits = datasets.load_digits()"
   ]
  },
  {
   "cell_type": "code",
   "execution_count": 3,
   "metadata": {},
   "outputs": [
    {
     "data": {
      "text/plain": [
       "array([[ 0.,  0.,  5., ...,  0.,  0.,  0.],\n",
       "       [ 0.,  0.,  0., ..., 10.,  0.,  0.],\n",
       "       [ 0.,  0.,  0., ..., 16.,  9.,  0.],\n",
       "       ...,\n",
       "       [ 0.,  0.,  1., ...,  6.,  0.,  0.],\n",
       "       [ 0.,  0.,  2., ..., 12.,  0.,  0.],\n",
       "       [ 0.,  0., 10., ..., 12.,  1.,  0.]])"
      ]
     },
     "execution_count": 3,
     "metadata": {},
     "output_type": "execute_result"
    }
   ],
   "source": [
    "## dataset\n",
    "digits.data"
   ]
  },
  {
   "cell_type": "code",
   "execution_count": 4,
   "metadata": {},
   "outputs": [
    {
     "data": {
      "text/plain": [
       "array([0, 1, 2, ..., 8, 9, 8])"
      ]
     },
     "execution_count": 4,
     "metadata": {},
     "output_type": "execute_result"
    }
   ],
   "source": [
    "## target de la clasificación\n",
    "digits.target"
   ]
  },
  {
   "cell_type": "code",
   "execution_count": 5,
   "metadata": {},
   "outputs": [
    {
     "data": {
      "text/plain": [
       "(1797, 8, 8)"
      ]
     },
     "execution_count": 5,
     "metadata": {},
     "output_type": "execute_result"
    }
   ],
   "source": [
    "## structura de la imagen\n",
    "digits.images.shape"
   ]
  },
  {
   "cell_type": "code",
   "execution_count": 6,
   "metadata": {},
   "outputs": [
    {
     "data": {
      "image/png": "[encoded data removed]",
      "text/plain": [
       "<Figure size 1152x720 with 20 Axes>"
      ]
     },
     "metadata": {
      "needs_background": "light"
     },
     "output_type": "display_data"
    }
   ],
   "source": [
    "## visualizando el dataset\n",
    "fig, axes = plt.subplots(4,5, figsize =  (16,10))\n",
    "axes = axes.flat\n",
    "for i in range(20):\n",
    "    axes[i].imshow(digits.images[i], cmap=plt.cm.gray_r, interpolation=\"nearest\")\n",
    "    axes[i].set_title(\"Training: %i\" % digits.target[i])\n",
    "    axes[i].set_xticklabels(\"\")\n",
    "    axes[i].set_yticklabels(\"\")"
   ]
  },
  {
   "cell_type": "code",
   "execution_count": 7,
   "metadata": {},
   "outputs": [
    {
     "data": {
      "text/plain": [
       "array([[ 0.,  0.,  5., ...,  0.,  0.,  0.],\n",
       "       [ 0.,  0.,  0., ..., 10.,  0.,  0.],\n",
       "       [ 0.,  0.,  0., ..., 16.,  9.,  0.],\n",
       "       ...,\n",
       "       [ 0.,  0.,  1., ...,  6.,  0.,  0.],\n",
       "       [ 0.,  0.,  2., ..., 12.,  0.,  0.],\n",
       "       [ 0.,  0., 10., ..., 12.,  1.,  0.]])"
      ]
     },
     "execution_count": 7,
     "metadata": {},
     "output_type": "execute_result"
    }
   ],
   "source": [
    "## Creando el modelo de machine learning\n",
    "n_samples = digits.images.shape[0]\n",
    "data = digits.images.reshape((n_samples,-1))\n",
    "data"
   ]
  },
  {
   "cell_type": "code",
   "execution_count": 8,
   "metadata": {},
   "outputs": [],
   "source": [
    "## diviendo el dataset en datos de entranamiento y testeo\n",
    "X_train, X_test, y_train, y_test = train_test_split(\n",
    "    data, digits.target, test_size=0.3, shuffle=False)\n"
   ]
  },
  {
   "cell_type": "code",
   "execution_count": 9,
   "metadata": {},
   "outputs": [],
   "source": [
    "## creando el modelo de machine learning\n",
    "\n",
    "model = svm.SVC(gamma= 0.001 )\n",
    "model.fit(X_train,y_train)\n",
    "predict = model.predict(X_test)"
   ]
  },
  {
   "cell_type": "code",
   "execution_count": 10,
   "metadata": {},
   "outputs": [
    {
     "data": {
      "text/plain": [
       "(540,)"
      ]
     },
     "execution_count": 10,
     "metadata": {},
     "output_type": "execute_result"
    }
   ],
   "source": [
    "predict.shape"
   ]
  },
  {
   "cell_type": "code",
   "execution_count": 11,
   "metadata": {},
   "outputs": [
    {
     "data": {
      "text/plain": [
       "array([[ 0.,  0.,  0.,  8., 14.,  0.,  0.,  0.],\n",
       "       [ 0.,  0.,  2., 16., 10.,  0.,  0.,  0.],\n",
       "       [ 0.,  0., 12., 16.,  1.,  3.,  5.,  0.],\n",
       "       [ 0.,  5., 16.,  6.,  2., 16.,  9.,  0.],\n",
       "       [ 0., 11., 16.,  0.,  8., 16.,  7.,  0.],\n",
       "       [ 0., 10., 16., 16., 16., 11.,  1.,  0.],\n",
       "       [ 0.,  1.,  7.,  9., 16.,  4.,  0.,  0.],\n",
       "       [ 0.,  0.,  0., 10., 11.,  0.,  0.,  0.]])"
      ]
     },
     "execution_count": 11,
     "metadata": {},
     "output_type": "execute_result"
    }
   ],
   "source": [
    "X_test[0].reshape(8,8)"
   ]
  },
  {
   "cell_type": "code",
   "execution_count": 12,
   "metadata": {},
   "outputs": [
    {
     "data": {
      "image/png": "[encoded data removed]",
      "text/plain": [
       "<Figure size 1152x720 with 20 Axes>"
      ]
     },
     "metadata": {
      "needs_background": "light"
     },
     "output_type": "display_data"
    }
   ],
   "source": [
    "## visualizando de la predicción\n",
    "fig, axes = plt.subplots(4,5, figsize =  (16,10))\n",
    "axes = axes.flat\n",
    "for i in range(20):\n",
    "    axes[i].imshow(X_test[i+20].reshape(8,8), cmap=plt.cm.gray_r, interpolation=\"nearest\")\n",
    "    axes[i].set_title(\"Training: %i\" % predict[i+20], color = \"black\" if predict[i+20] == y_test[i+20] else \"red\")\n",
    "    axes[i].set_xticklabels(\"\")\n",
    "    axes[i].set_yticklabels(\"\")\n",
    "fig.suptitle(\"Predicción de las imagenes\")\n",
    "plt.show()"
   ]
  },
  {
   "cell_type": "code",
   "execution_count": 13,
   "metadata": {},
   "outputs": [
    {
     "name": "stdout",
     "output_type": "stream",
     "text": [
      "Classification report for classifier SVC(gamma=0.001):\n",
      "              precision    recall  f1-score   support\n",
      "\n",
      "           0       1.00      0.98      0.99        53\n",
      "           1       0.96      1.00      0.98        53\n",
      "           2       1.00      0.98      0.99        53\n",
      "           3       0.96      0.89      0.92        53\n",
      "           4       0.98      0.95      0.96        57\n",
      "           5       0.95      0.98      0.96        56\n",
      "           6       0.98      0.98      0.98        54\n",
      "           7       1.00      1.00      1.00        54\n",
      "           8       0.91      0.98      0.94        52\n",
      "           9       0.96      0.96      0.96        55\n",
      "\n",
      "    accuracy                           0.97       540\n",
      "   macro avg       0.97      0.97      0.97       540\n",
      "weighted avg       0.97      0.97      0.97       540\n",
      "\n",
      "\n"
     ]
    }
   ],
   "source": [
    "print(\n",
    "    f\"Classification report for classifier {model}:\\n\"\n",
    "    f\"{metrics.classification_report(y_test, predict)}\\n\"\n",
    ")"
   ]
  },
  {
   "cell_type": "code",
   "execution_count": 14,
   "metadata": {},
   "outputs": [
    {
     "data": {
      "image/png": "[encoded data removed]",
      "text/plain": [
       "<Figure size 576x432 with 2 Axes>"
      ]
     },
     "metadata": {
      "needs_background": "light"
     },
     "output_type": "display_data"
    }
   ],
   "source": [
    "confusion_matrix = pd.crosstab(y_test,predict, rownames=['Actual'], colnames=['Predicted'])\n",
    "plt.figure(figsize=(8,6))\n",
    "sns.heatmap(confusion_matrix, annot=True,fmt='g')\n",
    "plt.title(\"Confusion Matrix\\n (data test)\")\n",
    "plt.show()"
   ]
  },
  {
   "cell_type": "markdown",
   "metadata": {},
   "source": [
    "### Mejorando el acurracy"
   ]
  },
  {
   "cell_type": "code",
   "execution_count": 72,
   "metadata": {},
   "outputs": [
    {
     "data": {
      "text/plain": [
       "array([[ 0.,  0.,  5., 13.,  9.,  1.,  0.,  0.],\n",
       "       [ 0.,  0., 13., 15., 10., 15.,  5.,  0.],\n",
       "       [ 0.,  3., 15.,  2.,  0., 11.,  8.,  0.],\n",
       "       [ 0.,  4., 12.,  0.,  0.,  8.,  8.,  0.],\n",
       "       [ 0.,  5.,  8.,  0.,  0.,  9.,  8.,  0.],\n",
       "       [ 0.,  4., 11.,  0.,  1., 12.,  7.,  0.],\n",
       "       [ 0.,  2., 14.,  5., 10., 12.,  0.,  0.],\n",
       "       [ 0.,  0.,  6., 13., 10.,  0.,  0.,  0.]])"
      ]
     },
     "execution_count": 72,
     "metadata": {},
     "output_type": "execute_result"
    }
   ],
   "source": [
    "X_train[0].reshape(8,8)"
   ]
  },
  {
   "cell_type": "code",
   "execution_count": 73,
   "metadata": {},
   "outputs": [],
   "source": [
    "## creando los filtros de kernel para el modelo\n",
    "def rgb_convolve2d(image, kernel):\n",
    "    image = image.reshape(8,8)\n",
    "    image = convolve2d(image, kernel, 'same', boundary = 'fill',\n",
    "                           fillvalue = 0)\n",
    "    return image"
   ]
  },
  {
   "cell_type": "code",
   "execution_count": 74,
   "metadata": {},
   "outputs": [],
   "source": [
    "## tipos de filtros\n",
    "# Edge Detection1\n",
    "kernel1 = np.array([[0, -1, 0],\n",
    "                    [-1, 4, -1],\n",
    "                    [0, -1, 0]])\n",
    "# Edge Detection2\n",
    "kernel2 = np.array([[-1, -1, -1],\n",
    "                    [-1, 8, -1],\n",
    "                    [-1, -1, -1]])\n",
    "# Bottom Sobel Filter\n",
    "kernel3 = np.array([[-1, -2, -1],\n",
    "                    [0, 0, 0],\n",
    "                    [1, 2, 1]])\n",
    "# Top Sobel Filter\n",
    "kernel4 = np.array([[1, 2, 1],\n",
    "                    [0, 0, 0],\n",
    "                    [-1, -2, -1]])\n",
    "# Left Sobel Filter\n",
    "kernel5 = np.array([[1, 0, -1],\n",
    "                    [2, 0, -2],\n",
    "                    [1, 0, -1]])\n",
    "# Right Sobel Filter\n",
    "kernel6 = np.array([[-1, 0, 1],\n",
    "                    [-2, 0, 2],\n",
    "                    [-1, 0, 1]])\n",
    "# Sharpen\n",
    "kernel7 = np.array([[0, -1, 0],\n",
    "                    [-1, 5, -1],\n",
    "                    [0, -1, 0]])\n",
    "# Emboss\n",
    "kernel8 =  np.array([[-2, -1, 0],\n",
    "                     [-1,  1, 1],\n",
    "                     [ 0,  1, 2]])\n",
    "# Box Blur\n",
    "kernel9 = (1 / 9.0) * np.array([[1, 1, 1],\n",
    "                                [1, 1, 1],\n",
    "                                [1, 1, 1]])\n",
    "# Gaussian Blur 3x3\n",
    "kernel10 = (1 / 16.0) * np.array([[1, 2, 1],\n",
    "                                  [2, 4, 2],\n",
    "                                  [1, 2, 1]])\n",
    "# Edge Enhanse\n",
    "kernel11 = np.array([[0, 0, 0],\n",
    "                        [-1, 1, 0],\n",
    "                        [0, 0, 0]])\n",
    "# Repujado\n",
    "kernel12 = np.array([[-2, -1, 0],\n",
    "                        [-1, 1, 1],\n",
    "                        [0, 1, 2]])\n",
    "# outline\n",
    "kernel13 = np.array([[-1, -1, -1],\n",
    "                        [-1, 8, -1],\n",
    "                        [-1, -1, -1]])\n",
    "# identity\n",
    "kernel14 = np.array([[0, 0, 0],\n",
    "                        [0, -1, 0],\n",
    "                        [0, 0, 0]])"
   ]
  },
  {
   "cell_type": "code",
   "execution_count": 75,
   "metadata": {},
   "outputs": [],
   "source": [
    "imagen = rgb_convolve2d(X_train[14],kernel12)\n",
    "#imagen = rgb_convolve2d(imagen,kernel3)\n"
   ]
  },
  {
   "cell_type": "code",
   "execution_count": 76,
   "metadata": {},
   "outputs": [
    {
     "data": {
      "text/plain": [
       "Text(0.5, 1.0, 'filtro kernel')"
      ]
     },
     "execution_count": 76,
     "metadata": {},
     "output_type": "execute_result"
    },
    {
     "data": {
      "image/png": "[encoded data removed]",
      "text/plain": [
       "<Figure size 432x288 with 2 Axes>"
      ]
     },
     "metadata": {
      "needs_background": "light"
     },
     "output_type": "display_data"
    }
   ],
   "source": [
    "fig, axes = plt.subplots(nrows=1,ncols=2,figsize = (6,4))\n",
    "\n",
    "axes[0].imshow(X_train[14].reshape(8,8), \n",
    "                  cmap='gray')\n",
    "axes[0].set_title(\"real\")\n",
    "axes[1].imshow(imagen, \n",
    "                  cmap='gray')\n",
    "axes[1].set_title(\"filtro kernel\")"
   ]
  },
  {
   "cell_type": "code",
   "execution_count": 77,
   "metadata": {},
   "outputs": [],
   "source": [
    "kernel = [kernel1,kernel2 ,kernel3 ,kernel4 ,kernel5, \n",
    "kernel6 ,kernel7 ,kernel8 ,kernel9 ,kernel10 ,kernel11,kernel12, kernel13,kernel14]"
   ]
  },
  {
   "cell_type": "code",
   "execution_count": 78,
   "metadata": {},
   "outputs": [
    {
     "data": {
      "text/plain": [
       "Text(0.5, 0.98, 'Tipos de kernel')"
      ]
     },
     "execution_count": 78,
     "metadata": {},
     "output_type": "execute_result"
    },
    {
     "data": {
      "image/png": "[encoded data removed]",
      "text/plain": [
       "<Figure size 1008x576 with 12 Axes>"
      ]
     },
     "metadata": {
      "needs_background": "light"
     },
     "output_type": "display_data"
    }
   ],
   "source": [
    "fig, axes = plt.subplots(nrows=4,ncols=3,figsize = (14,8))\n",
    "axes = axes.flat\n",
    "for i in range(12):\n",
    "    axes[i].imshow(rgb_convolve2d(X_train[26],kernel[i]), \n",
    "                    cmap='gray')\n",
    "    axes[i].set_title(f\"k{i+1}\")\n",
    "    axes[i].set_xticklabels(\"\")\n",
    "    axes[i].set_yticklabels(\"\")\n",
    "fig.suptitle(\"Tipos de kernel\")"
   ]
  },
  {
   "cell_type": "code",
   "execution_count": 79,
   "metadata": {},
   "outputs": [],
   "source": [
    "## creando los filtros de kernel para el modelo general\n",
    "\n",
    "def rgb_kernel_convolve2d(image, kernel):\n",
    "    image_k = []\n",
    "    for i in range(image.shape[0]):\n",
    "        image_transform = image[i].reshape(8,8)\n",
    "        image_k.append(convolve2d(image_transform, kernel, 'same', boundary = 'fill',\n",
    "                            fillvalue = 0))\n",
    "    image_k = np.array(image_k)\n",
    "    n_samples = image.shape[0]\n",
    "    image_k= image_k.reshape((n_samples,-1))\n",
    "    return image_k"
   ]
  },
  {
   "cell_type": "code",
   "execution_count": 80,
   "metadata": {},
   "outputs": [],
   "source": [
    "## aplicando los filtros de kernel\n",
    "X_train2 = rgb_kernel_convolve2d(X_train, kernel14)\n",
    "\n",
    "X_test2 = rgb_kernel_convolve2d(X_test, kernel14)\n"
   ]
  },
  {
   "cell_type": "code",
   "execution_count": 81,
   "metadata": {},
   "outputs": [],
   "source": [
    "#X_train2 = filters.unsharp_mask(X_train, radius = 5, amount = 1)\n",
    "#X_test2 = filters.unsharp_mask(X_test, radius = 5, amount = 1)"
   ]
  },
  {
   "cell_type": "code",
   "execution_count": 82,
   "metadata": {},
   "outputs": [],
   "source": [
    "## creando el modelo de machine learning\n",
    "\n",
    "model = svm.SVC(gamma= 'scale',class_weight=\"balanced\", C = 100 )\n",
    "model.fit(X_train2,y_train)\n",
    "predict = model.predict(X_test2)"
   ]
  },
  {
   "cell_type": "code",
   "execution_count": 83,
   "metadata": {},
   "outputs": [
    {
     "name": "stdout",
     "output_type": "stream",
     "text": [
      "Classification report for classifier SVC(C=100, class_weight='balanced'):\n",
      "              precision    recall  f1-score   support\n",
      "\n",
      "           0       0.99      0.99      0.99        88\n",
      "           1       0.99      0.97      0.98        91\n",
      "           2       1.00      0.98      0.99        86\n",
      "           3       0.98      0.90      0.94        91\n",
      "           4       0.99      0.96      0.97        92\n",
      "           5       0.94      0.97      0.95        91\n",
      "           6       0.99      0.99      0.99        91\n",
      "           7       0.97      0.99      0.98        89\n",
      "           8       0.92      0.98      0.95        88\n",
      "           9       0.93      0.97      0.95        92\n",
      "\n",
      "    accuracy                           0.97       899\n",
      "   macro avg       0.97      0.97      0.97       899\n",
      "weighted avg       0.97      0.97      0.97       899\n",
      "\n",
      "\n"
     ]
    }
   ],
   "source": [
    "print(\n",
    "    f\"Classification report for classifier {model}:\\n\"\n",
    "    f\"{metrics.classification_report(y_test, predict)}\\n\"\n",
    ")"
   ]
  },
  {
   "cell_type": "code",
   "execution_count": 84,
   "metadata": {},
   "outputs": [],
   "source": [
    "from skimage.io import imread, imshow"
   ]
  },
  {
   "cell_type": "code",
   "execution_count": 85,
   "metadata": {},
   "outputs": [
    {
     "name": "stderr",
     "output_type": "stream",
     "text": [
      "c:\\Users\\jose2\\anaconda3\\lib\\site-packages\\skimage\\io\\_plugins\\matplotlib_plugin.py:150: UserWarning: Float image out of standard range; displaying image with stretched contrast.\n",
      "  lo, hi, cmap = _get_display_range(image)\n"
     ]
    },
    {
     "data": {
      "text/plain": [
       "<matplotlib.image.AxesImage at 0x1e7919f2a90>"
      ]
     },
     "execution_count": 85,
     "metadata": {},
     "output_type": "execute_result"
    },
    {
     "data": {
      "image/png": "[encoded data removed]",
      "text/plain": [
       "<Figure size 432x288 with 2 Axes>"
      ]
     },
     "metadata": {
      "needs_background": "light"
     },
     "output_type": "display_data"
    }
   ],
   "source": [
    "imshow(digits.images[0],  cmap=plt.cm.gray_r)"
   ]
  },
  {
   "cell_type": "code",
   "execution_count": 86,
   "metadata": {},
   "outputs": [],
   "source": [
    "from skimage.filters import gaussian\n",
    "from skimage import filters "
   ]
  },
  {
   "cell_type": "code",
   "execution_count": 87,
   "metadata": {},
   "outputs": [
    {
     "data": {
      "text/plain": [
       "<matplotlib.image.AxesImage at 0x1e7922def10>"
      ]
     },
     "execution_count": 87,
     "metadata": {},
     "output_type": "execute_result"
    },
    {
     "data": {
      "image/png": "[encoded data removed]",
      "text/plain": [
       "<Figure size 432x288 with 2 Axes>"
      ]
     },
     "metadata": {
      "needs_background": "light"
     },
     "output_type": "display_data"
    }
   ],
   "source": [
    "imshow(gaussian(digits.images[5], sigma=3),  cmap=plt.cm.gray_r)"
   ]
  },
  {
   "cell_type": "code",
   "execution_count": 88,
   "metadata": {},
   "outputs": [
    {
     "data": {
      "text/plain": [
       "<matplotlib.image.AxesImage at 0x1e7905373a0>"
      ]
     },
     "execution_count": 88,
     "metadata": {},
     "output_type": "execute_result"
    },
    {
     "data": {
      "image/png": "[encoded data removed]",
      "text/plain": [
       "<Figure size 432x288 with 1 Axes>"
      ]
     },
     "metadata": {
      "needs_background": "light"
     },
     "output_type": "display_data"
    }
   ],
   "source": [
    "imshow(filters.unsharp_mask(digits.images[120], radius = 10, amount = 1),  cmap=plt.cm.gray)"
   ]
  },
  {
   "cell_type": "code",
   "execution_count": 89,
   "metadata": {},
   "outputs": [
    {
     "data": {
      "text/plain": [
       "<matplotlib.image.AxesImage at 0x1e7921661f0>"
      ]
     },
     "execution_count": 89,
     "metadata": {},
     "output_type": "execute_result"
    },
    {
     "data": {
      "image/png": "[encoded data removed]",
      "text/plain": [
       "<Figure size 432x288 with 2 Axes>"
      ]
     },
     "metadata": {
      "needs_background": "light"
     },
     "output_type": "display_data"
    }
   ],
   "source": [
    "imshow(digits.images[120],  cmap=plt.cm.gray)"
   ]
  },
  {
   "cell_type": "code",
   "execution_count": 90,
   "metadata": {},
   "outputs": [
    {
     "data": {
      "text/plain": [
       "<matplotlib.image.AxesImage at 0x1e7959da160>"
      ]
     },
     "execution_count": 90,
     "metadata": {},
     "output_type": "execute_result"
    },
    {
     "data": {
      "image/png": "[encoded data removed]",
      "text/plain": [
       "<Figure size 432x288 with 2 Axes>"
      ]
     },
     "metadata": {
      "needs_background": "light"
     },
     "output_type": "display_data"
    }
   ],
   "source": [
    "imshow(filters.sobel(digits.images[125]),  cmap=plt.cm.gray)"
   ]
  },
  {
   "cell_type": "code",
   "execution_count": 91,
   "metadata": {},
   "outputs": [
    {
     "data": {
      "text/plain": [
       "array([[0., 0., 1., ..., 0., 0., 0.],\n",
       "       [0., 0., 0., ..., 1., 0., 0.],\n",
       "       [0., 0., 0., ..., 1., 1., 0.],\n",
       "       ...,\n",
       "       [0., 0., 0., ..., 1., 0., 0.],\n",
       "       [0., 0., 1., ..., 0., 0., 0.],\n",
       "       [0., 0., 0., ..., 1., 0., 0.]])"
      ]
     },
     "execution_count": 91,
     "metadata": {},
     "output_type": "execute_result"
    }
   ],
   "source": [
    "filters.unsharp_mask(X_train, radius = 5, amount = 1)"
   ]
  },
  {
   "cell_type": "code",
   "execution_count": 92,
   "metadata": {},
   "outputs": [],
   "source": [
    "## aplicando filtros de kernel\n",
    "\n",
    "imgpath = \"Foto.jpg\"\n",
    "\n",
    "img = Image.open(imgpath)"
   ]
  },
  {
   "cell_type": "code",
   "execution_count": 93,
   "metadata": {},
   "outputs": [],
   "source": [
    "img = img.convert('L')"
   ]
  },
  {
   "cell_type": "code",
   "execution_count": 94,
   "metadata": {},
   "outputs": [
    {
     "data": {
      "text/plain": [
       "(288, 240)"
      ]
     },
     "execution_count": 94,
     "metadata": {},
     "output_type": "execute_result"
    }
   ],
   "source": [
    "imgmatrix = np.asarray(img, dtype=np.uint8)\n",
    "imgmatrix.shape"
   ]
  },
  {
   "cell_type": "code",
   "execution_count": 95,
   "metadata": {},
   "outputs": [],
   "source": [
    "kernelValues = [-2,-1,0,-1,1,1,0,1,2] \n",
    "\n",
    "kernel = ImageFilter.Kernel((3,3),kernelValues)"
   ]
  },
  {
   "cell_type": "code",
   "execution_count": 96,
   "metadata": {},
   "outputs": [],
   "source": [
    "im2 = img.filter(kernel)"
   ]
  },
  {
   "cell_type": "code",
   "execution_count": 97,
   "metadata": {},
   "outputs": [
    {
     "data": {
      "text/plain": [
       "PIL.Image.Image"
      ]
     },
     "execution_count": 97,
     "metadata": {},
     "output_type": "execute_result"
    }
   ],
   "source": [
    "type(im2)"
   ]
  },
  {
   "cell_type": "code",
   "execution_count": 98,
   "metadata": {},
   "outputs": [
    {
     "data": {
      "text/plain": [
       "array([ 0.,  0.,  5., 13.,  9.,  1.,  0.,  0.,  0.,  0., 13., 15., 10.,\n",
       "       15.,  5.,  0.,  0.,  3., 15.,  2.,  0., 11.,  8.,  0.,  0.,  4.,\n",
       "       12.,  0.,  0.,  8.,  8.,  0.,  0.,  5.,  8.,  0.,  0.,  9.,  8.,\n",
       "        0.,  0.,  4., 11.,  0.,  1., 12.,  7.,  0.,  0.,  2., 14.,  5.,\n",
       "       10., 12.,  0.,  0.,  0.,  0.,  6., 13., 10.,  0.,  0.,  0.])"
      ]
     },
     "execution_count": 98,
     "metadata": {},
     "output_type": "execute_result"
    }
   ],
   "source": [
    "X_train[0]"
   ]
  },
  {
   "cell_type": "code",
   "execution_count": 99,
   "metadata": {},
   "outputs": [
    {
     "data": {
      "text/plain": [
       "<matplotlib.image.AxesImage at 0x1e79469bf40>"
      ]
     },
     "execution_count": 99,
     "metadata": {},
     "output_type": "execute_result"
    },
    {
     "data": {
      "image/png": "[encoded data removed]",
      "text/plain": [
       "<Figure size 432x288 with 2 Axes>"
      ]
     },
     "metadata": {
      "needs_background": "light"
     },
     "output_type": "display_data"
    }
   ],
   "source": [
    "probando = signal.convolve(X_train[124].reshape(8,8), kernel7)\n",
    "probando = signal.convolve(probando, kernel13)\n",
    "probando = signal.convolve(probando, kernel13)\n",
    "probando = signal.convolve(probando, kernel2)\n",
    "probando = signal.convolve(probando, kernel13)\n",
    "\n",
    "imshow(probando, cmap=plt.cm.gray)"
   ]
  },
  {
   "cell_type": "code",
   "execution_count": 100,
   "metadata": {},
   "outputs": [
    {
     "data": {
      "text/plain": [
       "<matplotlib.image.AxesImage at 0x1e792404eb0>"
      ]
     },
     "execution_count": 100,
     "metadata": {},
     "output_type": "execute_result"
    },
    {
     "data": {
      "image/png": "[encoded data removed]",
      "text/plain": [
       "<Figure size 432x288 with 2 Axes>"
      ]
     },
     "metadata": {
      "needs_background": "light"
     },
     "output_type": "display_data"
    }
   ],
   "source": [
    "imshow(X_train[124].reshape(8,8), cmap=plt.cm.gray)"
   ]
  },
  {
   "cell_type": "code",
   "execution_count": 101,
   "metadata": {},
   "outputs": [
    {
     "data": {
      "text/plain": [
       "<matplotlib.image.AxesImage at 0x1e79240cb50>"
      ]
     },
     "execution_count": 101,
     "metadata": {},
     "output_type": "execute_result"
    },
    {
     "data": {
      "image/png": "[encoded data removed]",
      "text/plain": [
       "<Figure size 432x288 with 2 Axes>"
      ]
     },
     "metadata": {
      "needs_background": "light"
     },
     "output_type": "display_data"
    }
   ],
   "source": [
    "imshow(rgb_convolve2d(X_train[0],kernel7), cmap=plt.cm.gray)"
   ]
  },
  {
   "cell_type": "code",
   "execution_count": 102,
   "metadata": {},
   "outputs": [
    {
     "data": {
      "text/plain": [
       "(10, 10)"
      ]
     },
     "execution_count": 102,
     "metadata": {},
     "output_type": "execute_result"
    }
   ],
   "source": [
    "signal.convolve(X_train[0].reshape(8,8), kernel2).shape"
   ]
  },
  {
   "cell_type": "code",
   "execution_count": 103,
   "metadata": {},
   "outputs": [
    {
     "data": {
      "text/plain": [
       "(8, 8)"
      ]
     },
     "execution_count": 103,
     "metadata": {},
     "output_type": "execute_result"
    }
   ],
   "source": [
    "rgb_convolve2d(X_train[0],kernel2).shape"
   ]
  },
  {
   "cell_type": "code",
   "execution_count": 104,
   "metadata": {},
   "outputs": [],
   "source": [
    "#a = imshow(X_train[124].reshape(8,8), cmap=plt.cm.gray)\n",
    "#plt.imsave('test.png', a)"
   ]
  },
  {
   "cell_type": "code",
   "execution_count": 105,
   "metadata": {},
   "outputs": [],
   "source": [
    "## APLICANDO KERAS ( Redes Neuronales CONVOLUCIONALES)\n",
    "##  one-hot encoding y\n",
    "\n",
    "n_class = pd.unique(y_train).shape[0]\n",
    "Y_train = np_utils.to_categorical(y_train, n_class)\n",
    "Y_test = np_utils.to_categorical(y_test, n_class)\n"
   ]
  },
  {
   "cell_type": "code",
   "execution_count": 106,
   "metadata": {},
   "outputs": [
    {
     "data": {
      "text/plain": [
       "array([[1., 0., 0., ..., 0., 0., 0.],\n",
       "       [0., 1., 0., ..., 0., 0., 0.],\n",
       "       [0., 0., 1., ..., 0., 0., 0.],\n",
       "       ...,\n",
       "       [0., 0., 0., ..., 0., 0., 1.],\n",
       "       [0., 0., 0., ..., 0., 0., 0.],\n",
       "       [0., 0., 0., ..., 0., 0., 0.]], dtype=float32)"
      ]
     },
     "execution_count": 106,
     "metadata": {},
     "output_type": "execute_result"
    }
   ],
   "source": [
    "Y_train"
   ]
  },
  {
   "cell_type": "code",
   "execution_count": 107,
   "metadata": {},
   "outputs": [
    {
     "data": {
      "text/plain": [
       "((898,), (898, 10))"
      ]
     },
     "execution_count": 107,
     "metadata": {},
     "output_type": "execute_result"
    }
   ],
   "source": [
    "y_train.shape,Y_train.shape"
   ]
  },
  {
   "cell_type": "code",
   "execution_count": 108,
   "metadata": {},
   "outputs": [],
   "source": [
    "## inicualizando el modelo\n",
    "model = Sequential()\n",
    "\n",
    "## creando la primera capa \n",
    "\n",
    "model.add(Dense(units= 25,input_shape = (64,)))\n",
    "# Función de activación\n",
    "model.add(Activation('relu'))\n",
    "# realizando un dropout\n",
    "model.add(Dropout(0.2))\n",
    "\n",
    "## Creando segunda capa\n",
    "\n",
    "model.add(Dense(units= 25))\n",
    "# Función de activación\n",
    "model.add(Activation('relu'))\n",
    "# realizando un dropout\n",
    "model.add(Dropout(0.2))\n",
    "\n",
    "\n",
    "# Creando la capa de salida\n",
    "\n",
    "model.add(Dense(units= 10,input_shape = (64,)))\n",
    "model.add(Activation('softmax'))"
   ]
  },
  {
   "cell_type": "code",
   "execution_count": 109,
   "metadata": {},
   "outputs": [],
   "source": [
    "model.compile(optimizer= 'adam', \n",
    "loss = \"categorical_crossentropy\", metrics= [\"accuracy\"])"
   ]
  },
  {
   "cell_type": "code",
   "execution_count": 110,
   "metadata": {},
   "outputs": [
    {
     "data": {
      "text/plain": [
       "(898, 64)"
      ]
     },
     "execution_count": 110,
     "metadata": {},
     "output_type": "execute_result"
    }
   ],
   "source": [
    "X_train.shape"
   ]
  },
  {
   "cell_type": "code",
   "execution_count": 111,
   "metadata": {},
   "outputs": [
    {
     "name": "stdout",
     "output_type": "stream",
     "text": [
      "Epoch 1/45\n",
      "90/90 - 3s - loss: 3.7408 - accuracy: 0.1971 - val_loss: 1.6804 - val_accuracy: 0.4516 - 3s/epoch - 33ms/step\n",
      "Epoch 2/45\n",
      "90/90 - 0s - loss: 2.0698 - accuracy: 0.3140 - val_loss: 1.3823 - val_accuracy: 0.5339 - 495ms/epoch - 6ms/step\n",
      "Epoch 3/45\n",
      "90/90 - 0s - loss: 1.6710 - accuracy: 0.4421 - val_loss: 1.0776 - val_accuracy: 0.7008 - 495ms/epoch - 5ms/step\n",
      "Epoch 4/45\n",
      "90/90 - 0s - loss: 1.4469 - accuracy: 0.5089 - val_loss: 0.9015 - val_accuracy: 0.7442 - 495ms/epoch - 5ms/step\n",
      "Epoch 5/45\n",
      "90/90 - 1s - loss: 1.1636 - accuracy: 0.5891 - val_loss: 0.7586 - val_accuracy: 0.7898 - 501ms/epoch - 6ms/step\n",
      "Epoch 6/45\n",
      "90/90 - 1s - loss: 1.1051 - accuracy: 0.6225 - val_loss: 0.6549 - val_accuracy: 0.8109 - 539ms/epoch - 6ms/step\n",
      "Epoch 7/45\n",
      "90/90 - 1s - loss: 0.9579 - accuracy: 0.6849 - val_loss: 0.5941 - val_accuracy: 0.8432 - 604ms/epoch - 7ms/step\n",
      "Epoch 8/45\n",
      "90/90 - 0s - loss: 0.8929 - accuracy: 0.6815 - val_loss: 0.5478 - val_accuracy: 0.8476 - 388ms/epoch - 4ms/step\n",
      "Epoch 9/45\n",
      "90/90 - 0s - loss: 0.7627 - accuracy: 0.7416 - val_loss: 0.4754 - val_accuracy: 0.8732 - 396ms/epoch - 4ms/step\n",
      "Epoch 10/45\n",
      "90/90 - 0s - loss: 0.7652 - accuracy: 0.7249 - val_loss: 0.4522 - val_accuracy: 0.8732 - 434ms/epoch - 5ms/step\n",
      "Epoch 11/45\n",
      "90/90 - 0s - loss: 0.6532 - accuracy: 0.7762 - val_loss: 0.4106 - val_accuracy: 0.8765 - 416ms/epoch - 5ms/step\n",
      "Epoch 12/45\n",
      "90/90 - 0s - loss: 0.5962 - accuracy: 0.7929 - val_loss: 0.4168 - val_accuracy: 0.8654 - 389ms/epoch - 4ms/step\n",
      "Epoch 13/45\n",
      "90/90 - 0s - loss: 0.5629 - accuracy: 0.8018 - val_loss: 0.3811 - val_accuracy: 0.8932 - 422ms/epoch - 5ms/step\n",
      "Epoch 14/45\n",
      "90/90 - 0s - loss: 0.5404 - accuracy: 0.8062 - val_loss: 0.3818 - val_accuracy: 0.8966 - 386ms/epoch - 4ms/step\n",
      "Epoch 15/45\n",
      "90/90 - 0s - loss: 0.5113 - accuracy: 0.8196 - val_loss: 0.3613 - val_accuracy: 0.8910 - 388ms/epoch - 4ms/step\n",
      "Epoch 16/45\n",
      "90/90 - 0s - loss: 0.5141 - accuracy: 0.8274 - val_loss: 0.3355 - val_accuracy: 0.8988 - 361ms/epoch - 4ms/step\n",
      "Epoch 17/45\n",
      "90/90 - 0s - loss: 0.4573 - accuracy: 0.8441 - val_loss: 0.3184 - val_accuracy: 0.9032 - 381ms/epoch - 4ms/step\n",
      "Epoch 18/45\n",
      "90/90 - 0s - loss: 0.4085 - accuracy: 0.8586 - val_loss: 0.3316 - val_accuracy: 0.8999 - 446ms/epoch - 5ms/step\n",
      "Epoch 19/45\n",
      "90/90 - 0s - loss: 0.3816 - accuracy: 0.8753 - val_loss: 0.3314 - val_accuracy: 0.8966 - 362ms/epoch - 4ms/step\n",
      "Epoch 20/45\n",
      "90/90 - 0s - loss: 0.4224 - accuracy: 0.8541 - val_loss: 0.3370 - val_accuracy: 0.9010 - 381ms/epoch - 4ms/step\n",
      "Epoch 21/45\n",
      "90/90 - 0s - loss: 0.3760 - accuracy: 0.8675 - val_loss: 0.3435 - val_accuracy: 0.8954 - 425ms/epoch - 5ms/step\n",
      "Epoch 22/45\n",
      "90/90 - 0s - loss: 0.3186 - accuracy: 0.8898 - val_loss: 0.3017 - val_accuracy: 0.9077 - 372ms/epoch - 4ms/step\n",
      "Epoch 23/45\n",
      "90/90 - 0s - loss: 0.3521 - accuracy: 0.8664 - val_loss: 0.2887 - val_accuracy: 0.9143 - 364ms/epoch - 4ms/step\n",
      "Epoch 24/45\n",
      "90/90 - 0s - loss: 0.3354 - accuracy: 0.8864 - val_loss: 0.3077 - val_accuracy: 0.9188 - 379ms/epoch - 4ms/step\n",
      "Epoch 25/45\n",
      "90/90 - 0s - loss: 0.3390 - accuracy: 0.8753 - val_loss: 0.3018 - val_accuracy: 0.9043 - 388ms/epoch - 4ms/step\n",
      "Epoch 26/45\n",
      "90/90 - 0s - loss: 0.2484 - accuracy: 0.9165 - val_loss: 0.2963 - val_accuracy: 0.9143 - 316ms/epoch - 4ms/step\n",
      "Epoch 27/45\n",
      "90/90 - 0s - loss: 0.2958 - accuracy: 0.8942 - val_loss: 0.3157 - val_accuracy: 0.9143 - 299ms/epoch - 3ms/step\n",
      "Epoch 28/45\n",
      "90/90 - 0s - loss: 0.3137 - accuracy: 0.8942 - val_loss: 0.2956 - val_accuracy: 0.9155 - 295ms/epoch - 3ms/step\n",
      "Epoch 29/45\n",
      "90/90 - 0s - loss: 0.2677 - accuracy: 0.9109 - val_loss: 0.2787 - val_accuracy: 0.9299 - 367ms/epoch - 4ms/step\n",
      "Epoch 30/45\n",
      "90/90 - 0s - loss: 0.2914 - accuracy: 0.8953 - val_loss: 0.2960 - val_accuracy: 0.9188 - 294ms/epoch - 3ms/step\n",
      "Epoch 31/45\n",
      "90/90 - 0s - loss: 0.2701 - accuracy: 0.9120 - val_loss: 0.2930 - val_accuracy: 0.9244 - 318ms/epoch - 4ms/step\n",
      "Epoch 32/45\n",
      "90/90 - 0s - loss: 0.3007 - accuracy: 0.9042 - val_loss: 0.2927 - val_accuracy: 0.9199 - 304ms/epoch - 3ms/step\n",
      "Epoch 33/45\n",
      "90/90 - 0s - loss: 0.2302 - accuracy: 0.9165 - val_loss: 0.2908 - val_accuracy: 0.9333 - 299ms/epoch - 3ms/step\n",
      "Epoch 34/45\n",
      "90/90 - 0s - loss: 0.2494 - accuracy: 0.9143 - val_loss: 0.2895 - val_accuracy: 0.9244 - 302ms/epoch - 3ms/step\n",
      "Epoch 35/45\n",
      "90/90 - 0s - loss: 0.2373 - accuracy: 0.9232 - val_loss: 0.2866 - val_accuracy: 0.9221 - 312ms/epoch - 3ms/step\n",
      "Epoch 36/45\n",
      "90/90 - 0s - loss: 0.2450 - accuracy: 0.9053 - val_loss: 0.2919 - val_accuracy: 0.9221 - 288ms/epoch - 3ms/step\n",
      "Epoch 37/45\n",
      "90/90 - 1s - loss: 0.2321 - accuracy: 0.9209 - val_loss: 0.2886 - val_accuracy: 0.9221 - 914ms/epoch - 10ms/step\n",
      "Epoch 38/45\n",
      "90/90 - 1s - loss: 0.2128 - accuracy: 0.9276 - val_loss: 0.2975 - val_accuracy: 0.9221 - 761ms/epoch - 8ms/step\n",
      "Epoch 39/45\n",
      "90/90 - 1s - loss: 0.2502 - accuracy: 0.9098 - val_loss: 0.3186 - val_accuracy: 0.9143 - 906ms/epoch - 10ms/step\n",
      "Epoch 40/45\n",
      "90/90 - 1s - loss: 0.2441 - accuracy: 0.9220 - val_loss: 0.2879 - val_accuracy: 0.9277 - 814ms/epoch - 9ms/step\n",
      "Epoch 41/45\n",
      "90/90 - 1s - loss: 0.2348 - accuracy: 0.9220 - val_loss: 0.2822 - val_accuracy: 0.9221 - 967ms/epoch - 11ms/step\n",
      "Epoch 42/45\n",
      "90/90 - 1s - loss: 0.2055 - accuracy: 0.9276 - val_loss: 0.3022 - val_accuracy: 0.9155 - 806ms/epoch - 9ms/step\n",
      "Epoch 43/45\n",
      "90/90 - 1s - loss: 0.2039 - accuracy: 0.9232 - val_loss: 0.2932 - val_accuracy: 0.9221 - 793ms/epoch - 9ms/step\n",
      "Epoch 44/45\n",
      "90/90 - 1s - loss: 0.2246 - accuracy: 0.9220 - val_loss: 0.3256 - val_accuracy: 0.9155 - 848ms/epoch - 9ms/step\n",
      "Epoch 45/45\n",
      "90/90 - 1s - loss: 0.2231 - accuracy: 0.9276 - val_loss: 0.2915 - val_accuracy: 0.9255 - 790ms/epoch - 9ms/step\n"
     ]
    }
   ],
   "source": [
    "result= model.fit(X_train, Y_train,\n",
    "        # muestras para la actualización de los pesos\n",
    "          batch_size=10, \n",
    "        # n° de veces que se va a iterar en el conjunto de entrenamiento\n",
    "          epochs=45,\n",
    "          verbose=2,\n",
    "          validation_data=(X_test, Y_test))"
   ]
  },
  {
   "cell_type": "code",
   "execution_count": 112,
   "metadata": {},
   "outputs": [
    {
     "name": "stdout",
     "output_type": "stream",
     "text": [
      "29/29 - 0s - loss: 0.2915 - accuracy: 0.9255 - 135ms/epoch - 5ms/step\n",
      "Test loss: 0.29154661297798157\n",
      "Test accuracy: 0.9254727363586426\n"
     ]
    }
   ],
   "source": [
    "score = result.model.evaluate(X_test, Y_test, verbose = 2)\n",
    "print('Test loss:', score[0])\n",
    "print('Test accuracy:', score[1])"
   ]
  },
  {
   "cell_type": "code",
   "execution_count": 113,
   "metadata": {},
   "outputs": [
    {
     "data": {
      "text/plain": [
       "(899, 64)"
      ]
     },
     "execution_count": 113,
     "metadata": {},
     "output_type": "execute_result"
    }
   ],
   "source": [
    "X_test.shape"
   ]
  },
  {
   "cell_type": "code",
   "execution_count": 114,
   "metadata": {},
   "outputs": [
    {
     "name": "stdout",
     "output_type": "stream",
     "text": [
      "Training matrix shape (898, 8, 8, 1)\n",
      "Testing matrix shape (899, 8, 8, 1)\n"
     ]
    }
   ],
   "source": [
    "# Again, do some formatting\n",
    "# Except we do not flatten each image into a 784-length vector because we want to perform convolutions first\n",
    "\n",
    "X_train3 = X_train.reshape(898, 8, 8, 1) \n",
    "X_test3 = X_test.reshape(899, 8, 8, 1)\n",
    "\n",
    "X_train3 = X_train3.astype('float32')         \n",
    "X_test3 = X_test3.astype('float32')\n",
    "\n",
    "X_train3 /= 255                              # normalize each value for each pixel for the entire vector for each input\n",
    "X_test3 /= 255\n",
    "\n",
    "print(\"Training matrix shape\", X_train3.shape)\n",
    "print(\"Testing matrix shape\", X_test3.shape)"
   ]
  },
  {
   "cell_type": "code",
   "execution_count": 165,
   "metadata": {},
   "outputs": [],
   "source": [
    "model = Sequential()                                 # Linear stacking of layers\n",
    "\n",
    "# Convolution Layer 1\n",
    "model.add(Conv2D(32, (3, 3), input_shape=(8,8,1))) # 32 different 3x3 kernels -- so 32 feature maps\n",
    "model.add(BatchNormalization(axis=-1))               # normalize each feature map before activation\n",
    "convLayer01 = Activation('relu')                     # activation\n",
    "model.add(convLayer01)\n",
    "\n",
    "\n",
    "# Convolution Layer 2\n",
    "model.add(Conv2D(64, (3, 3)))                        # 64 different 3x3 kernels -- so 64 feature maps\n",
    "model.add(BatchNormalization(axis=-1))               # normalize each feature map before activation\n",
    "model.add(Activation('relu'))                        # activation\n",
    "convLayer04 = MaxPooling2D(pool_size=(2,2))          # Pool the max values over a 2x2 kernel\n",
    "model.add(convLayer04)\n",
    "model.add(Flatten())                               # Flatten final 4x4x64 output matrix into a 1024-length vector\n",
    "\n",
    "# Fully Connected Layer 3\n",
    "model.add(Dropout(0.2))  \n",
    "model.add(Dense(50))                                # 50 FCN nodes\n",
    "model.add(BatchNormalization())                      # normalization\n",
    "model.add(Activation('relu'))   \n",
    "\n",
    "# Fully Connected Layer 4\n",
    "model.add(Dense(units= 25))\n",
    "model.add(BatchNormalization()) \n",
    "model.add(Activation('relu'))\n",
    "\n",
    "\n",
    "# Fully Connected Layer 5                      \n",
    "model.add(Dropout(0.2))                              # 20% dropout of randomly selected nodes\n",
    "model.add(Dense(10))                                 # final 10 FCN nodes\n",
    "model.add(Activation('softmax'))  "
   ]
  },
  {
   "cell_type": "code",
   "execution_count": 159,
   "metadata": {},
   "outputs": [
    {
     "name": "stdout",
     "output_type": "stream",
     "text": [
      "Model: \"sequential_26\"\n",
      "_________________________________________________________________\n",
      " Layer (type)                Output Shape              Param #   \n",
      "=================================================================\n",
      " conv2d_70 (Conv2D)          (None, 6, 6, 32)          320       \n",
      "                                                                 \n",
      " batch_normalization_64 (Bat  (None, 6, 6, 32)         128       \n",
      " chNormalization)                                                \n",
      "                                                                 \n",
      " activation_75 (Activation)  (None, 6, 6, 32)          0         \n",
      "                                                                 \n",
      " conv2d_71 (Conv2D)          (None, 4, 4, 64)          18496     \n",
      "                                                                 \n",
      " batch_normalization_65 (Bat  (None, 4, 4, 64)         256       \n",
      " chNormalization)                                                \n",
      "                                                                 \n",
      " activation_76 (Activation)  (None, 4, 4, 64)          0         \n",
      "                                                                 \n",
      " max_pooling2d_27 (MaxPoolin  (None, 2, 2, 64)         0         \n",
      " g2D)                                                            \n",
      "                                                                 \n",
      " flatten_7 (Flatten)         (None, 256)               0         \n",
      "                                                                 \n",
      " dropout_39 (Dropout)        (None, 256)               0         \n",
      "                                                                 \n",
      " dense_19 (Dense)            (None, 50)                12850     \n",
      "                                                                 \n",
      " batch_normalization_66 (Bat  (None, 50)               200       \n",
      " chNormalization)                                                \n",
      "                                                                 \n",
      " activation_77 (Activation)  (None, 50)                0         \n",
      "                                                                 \n",
      " dense_20 (Dense)            (None, 25)                1275      \n",
      "                                                                 \n",
      " batch_normalization_67 (Bat  (None, 25)               100       \n",
      " chNormalization)                                                \n",
      "                                                                 \n",
      " activation_78 (Activation)  (None, 25)                0         \n",
      "                                                                 \n",
      " dropout_40 (Dropout)        (None, 25)                0         \n",
      "                                                                 \n",
      " dense_21 (Dense)            (None, 10)                260       \n",
      "                                                                 \n",
      " activation_79 (Activation)  (None, 10)                0         \n",
      "                                                                 \n",
      "=================================================================\n",
      "Total params: 33,885\n",
      "Trainable params: 33,543\n",
      "Non-trainable params: 342\n",
      "_________________________________________________________________\n"
     ]
    }
   ],
   "source": [
    "model.summary()"
   ]
  },
  {
   "cell_type": "code",
   "execution_count": 166,
   "metadata": {},
   "outputs": [],
   "source": [
    "model.compile(loss='categorical_crossentropy', optimizer='adam', metrics=['accuracy'])"
   ]
  },
  {
   "cell_type": "code",
   "execution_count": 167,
   "metadata": {},
   "outputs": [],
   "source": [
    "gen = ImageDataGenerator(rotation_range=8, width_shift_range=0.08, shear_range=0.3,\n",
    "                         height_shift_range=0.08, zoom_range=0.08)\n",
    "\n",
    "test_gen = ImageDataGenerator()"
   ]
  },
  {
   "cell_type": "code",
   "execution_count": 168,
   "metadata": {},
   "outputs": [],
   "source": [
    "train_generator = gen.flow(X_train3, Y_train, batch_size=32)\n",
    "test_generator = test_gen.flow(X_test3, Y_test, batch_size=32)"
   ]
  },
  {
   "cell_type": "code",
   "execution_count": 169,
   "metadata": {},
   "outputs": [
    {
     "name": "stderr",
     "output_type": "stream",
     "text": [
      "<ipython-input-169-bed1ef5b2be9>:1: UserWarning: `Model.fit_generator` is deprecated and will be removed in a future version. Please use `Model.fit`, which supports generators.\n",
      "  model.fit_generator(train_generator, steps_per_epoch=898//32, epochs=100, verbose=1,\n"
     ]
    },
    {
     "name": "stdout",
     "output_type": "stream",
     "text": [
      "Epoch 1/100\n",
      "28/28 [==============================] - 9s 149ms/step - loss: 2.0075 - accuracy: 0.2968 - val_loss: 2.3113 - val_accuracy: 0.1027\n",
      "Epoch 2/100\n",
      "28/28 [==============================] - 1s 45ms/step - loss: 1.5244 - accuracy: 0.5081 - val_loss: 2.3404 - val_accuracy: 0.1016\n",
      "Epoch 3/100\n",
      "28/28 [==============================] - 1s 37ms/step - loss: 1.3261 - accuracy: 0.5993 - val_loss: 2.3741 - val_accuracy: 0.1027\n",
      "Epoch 4/100\n",
      "28/28 [==============================] - 1s 37ms/step - loss: 1.1807 - accuracy: 0.6755 - val_loss: 2.4012 - val_accuracy: 0.1027\n",
      "Epoch 5/100\n",
      "28/28 [==============================] - 1s 43ms/step - loss: 1.0406 - accuracy: 0.7217 - val_loss: 2.4290 - val_accuracy: 0.1786\n",
      "Epoch 6/100\n",
      "28/28 [==============================] - 1s 41ms/step - loss: 0.9101 - accuracy: 0.7818 - val_loss: 2.4545 - val_accuracy: 0.1975\n",
      "Epoch 7/100\n",
      "28/28 [==============================] - 1s 33ms/step - loss: 0.9020 - accuracy: 0.7714 - val_loss: 2.4722 - val_accuracy: 0.1473\n",
      "Epoch 8/100\n",
      "28/28 [==============================] - 1s 29ms/step - loss: 0.8237 - accuracy: 0.7864 - val_loss: 2.4718 - val_accuracy: 0.1685\n",
      "Epoch 9/100\n",
      "28/28 [==============================] - 1s 36ms/step - loss: 0.7559 - accuracy: 0.8118 - val_loss: 2.4439 - val_accuracy: 0.1161\n",
      "Epoch 10/100\n",
      "28/28 [==============================] - 1s 50ms/step - loss: 0.6964 - accuracy: 0.8199 - val_loss: 2.4389 - val_accuracy: 0.1105\n",
      "Epoch 11/100\n",
      "28/28 [==============================] - 3s 91ms/step - loss: 0.6524 - accuracy: 0.8453 - val_loss: 2.4266 - val_accuracy: 0.1819\n",
      "Epoch 12/100\n",
      "28/28 [==============================] - 1s 47ms/step - loss: 0.6206 - accuracy: 0.8499 - val_loss: 2.4171 - val_accuracy: 0.1864\n",
      "Epoch 13/100\n",
      "28/28 [==============================] - 2s 77ms/step - loss: 0.5869 - accuracy: 0.8522 - val_loss: 2.5013 - val_accuracy: 0.2199\n",
      "Epoch 14/100\n",
      "28/28 [==============================] - 1s 51ms/step - loss: 0.6612 - accuracy: 0.8164 - val_loss: 2.4299 - val_accuracy: 0.1942\n",
      "Epoch 15/100\n",
      "28/28 [==============================] - 1s 50ms/step - loss: 0.5842 - accuracy: 0.8487 - val_loss: 2.3156 - val_accuracy: 0.2132\n",
      "Epoch 16/100\n",
      "28/28 [==============================] - 1s 29ms/step - loss: 0.5666 - accuracy: 0.8626 - val_loss: 2.2016 - val_accuracy: 0.3002\n",
      "Epoch 17/100\n",
      "28/28 [==============================] - 1s 36ms/step - loss: 0.5125 - accuracy: 0.8753 - val_loss: 1.9169 - val_accuracy: 0.3951\n",
      "Epoch 18/100\n",
      "28/28 [==============================] - 2s 80ms/step - loss: 0.4566 - accuracy: 0.8764 - val_loss: 1.5040 - val_accuracy: 0.5324\n",
      "Epoch 19/100\n",
      "28/28 [==============================] - 2s 54ms/step - loss: 0.4510 - accuracy: 0.8857 - val_loss: 1.1350 - val_accuracy: 0.7054\n",
      "Epoch 20/100\n",
      "28/28 [==============================] - 1s 43ms/step - loss: 0.4665 - accuracy: 0.8753 - val_loss: 1.3112 - val_accuracy: 0.5491\n",
      "Epoch 21/100\n",
      "28/28 [==============================] - 1s 37ms/step - loss: 0.5343 - accuracy: 0.8372 - val_loss: 0.9705 - val_accuracy: 0.7444\n",
      "Epoch 22/100\n",
      "28/28 [==============================] - 1s 27ms/step - loss: 0.5143 - accuracy: 0.8626 - val_loss: 0.7115 - val_accuracy: 0.8170\n",
      "Epoch 23/100\n",
      "28/28 [==============================] - 1s 27ms/step - loss: 0.4619 - accuracy: 0.8661 - val_loss: 0.5965 - val_accuracy: 0.8426\n",
      "Epoch 24/100\n",
      "28/28 [==============================] - 1s 34ms/step - loss: 0.4377 - accuracy: 0.8834 - val_loss: 0.4901 - val_accuracy: 0.8504\n",
      "Epoch 25/100\n",
      "28/28 [==============================] - 2s 87ms/step - loss: 0.4320 - accuracy: 0.8891 - val_loss: 0.4402 - val_accuracy: 0.8761\n",
      "Epoch 26/100\n",
      "28/28 [==============================] - 1s 48ms/step - loss: 0.4141 - accuracy: 0.8862 - val_loss: 0.3659 - val_accuracy: 0.8839\n",
      "Epoch 27/100\n",
      "28/28 [==============================] - 1s 42ms/step - loss: 0.3940 - accuracy: 0.9018 - val_loss: 0.2426 - val_accuracy: 0.9252\n",
      "Epoch 28/100\n",
      "28/28 [==============================] - 2s 83ms/step - loss: 0.3979 - accuracy: 0.8972 - val_loss: 0.2181 - val_accuracy: 0.9397\n",
      "Epoch 29/100\n",
      "28/28 [==============================] - 2s 54ms/step - loss: 0.3340 - accuracy: 0.9076 - val_loss: 0.3050 - val_accuracy: 0.9208\n",
      "Epoch 30/100\n",
      "28/28 [==============================] - 2s 79ms/step - loss: 0.4001 - accuracy: 0.8880 - val_loss: 0.8021 - val_accuracy: 0.7221\n",
      "Epoch 31/100\n",
      "28/28 [==============================] - 1s 50ms/step - loss: 0.3415 - accuracy: 0.9145 - val_loss: 0.8067 - val_accuracy: 0.7288\n",
      "Epoch 32/100\n",
      "28/28 [==============================] - 2s 82ms/step - loss: 0.3512 - accuracy: 0.9122 - val_loss: 0.6503 - val_accuracy: 0.7589\n",
      "Epoch 33/100\n",
      "28/28 [==============================] - 1s 46ms/step - loss: 0.3308 - accuracy: 0.9053 - val_loss: 1.0791 - val_accuracy: 0.5960\n",
      "Epoch 34/100\n",
      "28/28 [==============================] - 1s 40ms/step - loss: 0.3282 - accuracy: 0.9088 - val_loss: 0.5931 - val_accuracy: 0.7846\n",
      "Epoch 35/100\n",
      "28/28 [==============================] - 1s 36ms/step - loss: 0.3165 - accuracy: 0.9065 - val_loss: 0.2829 - val_accuracy: 0.9085\n",
      "Epoch 36/100\n",
      "28/28 [==============================] - 1s 31ms/step - loss: 0.3089 - accuracy: 0.9180 - val_loss: 0.2390 - val_accuracy: 0.9230\n",
      "Epoch 37/100\n",
      "28/28 [==============================] - 1s 31ms/step - loss: 0.2881 - accuracy: 0.9226 - val_loss: 0.2290 - val_accuracy: 0.9342\n",
      "Epoch 38/100\n",
      "28/28 [==============================] - 2s 82ms/step - loss: 0.2792 - accuracy: 0.9238 - val_loss: 0.6048 - val_accuracy: 0.7935\n",
      "Epoch 39/100\n",
      "28/28 [==============================] - 1s 51ms/step - loss: 0.5293 - accuracy: 0.8418 - val_loss: 1.5878 - val_accuracy: 0.5156\n",
      "Epoch 40/100\n",
      "28/28 [==============================] - 2s 84ms/step - loss: 0.4629 - accuracy: 0.8557 - val_loss: 1.1187 - val_accuracy: 0.5759\n",
      "Epoch 41/100\n",
      "28/28 [==============================] - 1s 50ms/step - loss: 0.3935 - accuracy: 0.8788 - val_loss: 0.6896 - val_accuracy: 0.7567\n",
      "Epoch 42/100\n",
      "28/28 [==============================] - 1s 39ms/step - loss: 0.3553 - accuracy: 0.8895 - val_loss: 0.3835 - val_accuracy: 0.8761\n",
      "Epoch 43/100\n",
      "28/28 [==============================] - 1s 35ms/step - loss: 0.3767 - accuracy: 0.8868 - val_loss: 0.4062 - val_accuracy: 0.8616\n",
      "Epoch 44/100\n",
      "28/28 [==============================] - 1s 29ms/step - loss: 0.3492 - accuracy: 0.8834 - val_loss: 0.2362 - val_accuracy: 0.9219\n",
      "Epoch 45/100\n",
      "28/28 [==============================] - 1s 30ms/step - loss: 0.2913 - accuracy: 0.9169 - val_loss: 0.1924 - val_accuracy: 0.9453\n",
      "Epoch 46/100\n",
      "28/28 [==============================] - 1s 29ms/step - loss: 0.2773 - accuracy: 0.9226 - val_loss: 0.2430 - val_accuracy: 0.9252\n",
      "Epoch 47/100\n",
      "28/28 [==============================] - 1s 29ms/step - loss: 0.3457 - accuracy: 0.9076 - val_loss: 0.1916 - val_accuracy: 0.9442\n",
      "Epoch 48/100\n",
      "28/28 [==============================] - 1s 31ms/step - loss: 0.3487 - accuracy: 0.8949 - val_loss: 0.4824 - val_accuracy: 0.8449\n",
      "Epoch 49/100\n",
      "28/28 [==============================] - 1s 30ms/step - loss: 0.3443 - accuracy: 0.8868 - val_loss: 0.3981 - val_accuracy: 0.8717\n",
      "Epoch 50/100\n",
      "28/28 [==============================] - 1s 26ms/step - loss: 0.3482 - accuracy: 0.8961 - val_loss: 0.2126 - val_accuracy: 0.9342\n",
      "Epoch 51/100\n",
      "28/28 [==============================] - 1s 31ms/step - loss: 0.2852 - accuracy: 0.9122 - val_loss: 0.2518 - val_accuracy: 0.9252\n",
      "Epoch 52/100\n",
      "28/28 [==============================] - 1s 32ms/step - loss: 0.3322 - accuracy: 0.8915 - val_loss: 0.2103 - val_accuracy: 0.9420\n",
      "Epoch 53/100\n",
      "28/28 [==============================] - 1s 30ms/step - loss: 0.2974 - accuracy: 0.9099 - val_loss: 0.1495 - val_accuracy: 0.9498\n",
      "Epoch 54/100\n",
      "28/28 [==============================] - 1s 29ms/step - loss: 0.3066 - accuracy: 0.9099 - val_loss: 0.1933 - val_accuracy: 0.9364\n",
      "Epoch 55/100\n",
      "28/28 [==============================] - 1s 30ms/step - loss: 0.2157 - accuracy: 0.9364 - val_loss: 0.2595 - val_accuracy: 0.9263\n",
      "Epoch 56/100\n",
      "28/28 [==============================] - 1s 31ms/step - loss: 0.2590 - accuracy: 0.9134 - val_loss: 0.3138 - val_accuracy: 0.8984\n",
      "Epoch 57/100\n",
      "28/28 [==============================] - 2s 87ms/step - loss: 0.3267 - accuracy: 0.9134 - val_loss: 3.8676 - val_accuracy: 0.2556\n",
      "Epoch 58/100\n",
      "28/28 [==============================] - 1s 50ms/step - loss: 0.3605 - accuracy: 0.8799 - val_loss: 2.3309 - val_accuracy: 0.3940\n",
      "Epoch 59/100\n",
      "28/28 [==============================] - 1s 39ms/step - loss: 0.3352 - accuracy: 0.8961 - val_loss: 1.4987 - val_accuracy: 0.5826\n",
      "Epoch 60/100\n",
      "28/28 [==============================] - 2s 82ms/step - loss: 0.3056 - accuracy: 0.9053 - val_loss: 1.0761 - val_accuracy: 0.6786\n",
      "Epoch 61/100\n",
      "28/28 [==============================] - 2s 52ms/step - loss: 0.2882 - accuracy: 0.9157 - val_loss: 0.5797 - val_accuracy: 0.8192\n",
      "Epoch 62/100\n",
      "28/28 [==============================] - 1s 39ms/step - loss: 0.2678 - accuracy: 0.9208 - val_loss: 0.3146 - val_accuracy: 0.8973\n",
      "Epoch 63/100\n",
      "28/28 [==============================] - 1s 32ms/step - loss: 0.2480 - accuracy: 0.9226 - val_loss: 0.4225 - val_accuracy: 0.8728\n",
      "Epoch 64/100\n",
      "28/28 [==============================] - 1s 25ms/step - loss: 0.2661 - accuracy: 0.9122 - val_loss: 0.2970 - val_accuracy: 0.8996\n",
      "Epoch 65/100\n",
      "28/28 [==============================] - 1s 28ms/step - loss: 0.2957 - accuracy: 0.9053 - val_loss: 0.3112 - val_accuracy: 0.8839\n",
      "Epoch 66/100\n",
      "28/28 [==============================] - 1s 31ms/step - loss: 0.2898 - accuracy: 0.9169 - val_loss: 0.7836 - val_accuracy: 0.7545\n",
      "Epoch 67/100\n",
      "28/28 [==============================] - 1s 32ms/step - loss: 0.2568 - accuracy: 0.9273 - val_loss: 1.0376 - val_accuracy: 0.6752\n",
      "Epoch 68/100\n",
      "28/28 [==============================] - 1s 30ms/step - loss: 0.3004 - accuracy: 0.9099 - val_loss: 0.6356 - val_accuracy: 0.7846\n",
      "Epoch 69/100\n",
      "28/28 [==============================] - 1s 30ms/step - loss: 0.3140 - accuracy: 0.9018 - val_loss: 0.3157 - val_accuracy: 0.9107\n",
      "Epoch 70/100\n",
      "28/28 [==============================] - 1s 29ms/step - loss: 0.2880 - accuracy: 0.9088 - val_loss: 0.2578 - val_accuracy: 0.9163\n",
      "Epoch 71/100\n",
      "28/28 [==============================] - 1s 30ms/step - loss: 0.2925 - accuracy: 0.8961 - val_loss: 0.2295 - val_accuracy: 0.9230\n",
      "Epoch 72/100\n",
      "28/28 [==============================] - 1s 30ms/step - loss: 0.2847 - accuracy: 0.9180 - val_loss: 0.3025 - val_accuracy: 0.9007\n",
      "Epoch 73/100\n",
      "28/28 [==============================] - 1s 27ms/step - loss: 0.2446 - accuracy: 0.9249 - val_loss: 0.3987 - val_accuracy: 0.8717\n",
      "Epoch 74/100\n",
      "28/28 [==============================] - 1s 27ms/step - loss: 0.2755 - accuracy: 0.9226 - val_loss: 0.3049 - val_accuracy: 0.9029\n",
      "Epoch 75/100\n",
      "28/28 [==============================] - 1s 28ms/step - loss: 0.2347 - accuracy: 0.9330 - val_loss: 0.2548 - val_accuracy: 0.9208\n",
      "Epoch 76/100\n",
      "28/28 [==============================] - 1s 28ms/step - loss: 0.2474 - accuracy: 0.9353 - val_loss: 1.2160 - val_accuracy: 0.6373\n",
      "Epoch 77/100\n",
      "28/28 [==============================] - 1s 34ms/step - loss: 0.2465 - accuracy: 0.9261 - val_loss: 0.9142 - val_accuracy: 0.7065\n",
      "Epoch 78/100\n",
      "28/28 [==============================] - 1s 26ms/step - loss: 0.2434 - accuracy: 0.9215 - val_loss: 0.6339 - val_accuracy: 0.8025\n",
      "Epoch 79/100\n",
      "28/28 [==============================] - 1s 29ms/step - loss: 0.2261 - accuracy: 0.9400 - val_loss: 0.4453 - val_accuracy: 0.8571\n",
      "Epoch 80/100\n",
      "28/28 [==============================] - 1s 28ms/step - loss: 0.2618 - accuracy: 0.9134 - val_loss: 0.3776 - val_accuracy: 0.8862\n",
      "Epoch 81/100\n",
      "28/28 [==============================] - 1s 29ms/step - loss: 0.2131 - accuracy: 0.9388 - val_loss: 0.2961 - val_accuracy: 0.9062\n",
      "Epoch 82/100\n",
      "28/28 [==============================] - 1s 30ms/step - loss: 0.1950 - accuracy: 0.9457 - val_loss: 0.2262 - val_accuracy: 0.9286\n",
      "Epoch 83/100\n",
      "28/28 [==============================] - 1s 29ms/step - loss: 0.2294 - accuracy: 0.9307 - val_loss: 0.4449 - val_accuracy: 0.8571\n",
      "Epoch 84/100\n",
      "28/28 [==============================] - 1s 30ms/step - loss: 0.2202 - accuracy: 0.9330 - val_loss: 0.2733 - val_accuracy: 0.9118\n",
      "Epoch 85/100\n",
      "28/28 [==============================] - 1s 29ms/step - loss: 0.1688 - accuracy: 0.9492 - val_loss: 0.3051 - val_accuracy: 0.8984\n",
      "Epoch 86/100\n",
      "28/28 [==============================] - 1s 28ms/step - loss: 0.2389 - accuracy: 0.9330 - val_loss: 0.2113 - val_accuracy: 0.9286\n",
      "Epoch 87/100\n",
      "28/28 [==============================] - 1s 26ms/step - loss: 0.2156 - accuracy: 0.9388 - val_loss: 0.1846 - val_accuracy: 0.9464\n",
      "Epoch 88/100\n",
      "28/28 [==============================] - 1s 26ms/step - loss: 0.2868 - accuracy: 0.9122 - val_loss: 4.6061 - val_accuracy: 0.2031\n",
      "Epoch 89/100\n",
      "28/28 [==============================] - 1s 27ms/step - loss: 0.2884 - accuracy: 0.9111 - val_loss: 3.1171 - val_accuracy: 0.3203\n",
      "Epoch 90/100\n",
      "28/28 [==============================] - 1s 27ms/step - loss: 0.2716 - accuracy: 0.9215 - val_loss: 1.6872 - val_accuracy: 0.5033\n",
      "Epoch 91/100\n",
      "28/28 [==============================] - 1s 26ms/step - loss: 0.2392 - accuracy: 0.9330 - val_loss: 0.9552 - val_accuracy: 0.7143\n",
      "Epoch 92/100\n",
      "28/28 [==============================] - 1s 28ms/step - loss: 0.2602 - accuracy: 0.9145 - val_loss: 0.5050 - val_accuracy: 0.8504\n",
      "Epoch 93/100\n",
      "28/28 [==============================] - 2s 79ms/step - loss: 0.2102 - accuracy: 0.9376 - val_loss: 1.1927 - val_accuracy: 0.6886\n",
      "Epoch 94/100\n",
      "28/28 [==============================] - 2s 82ms/step - loss: 0.3233 - accuracy: 0.9029 - val_loss: 6.8649 - val_accuracy: 0.1417\n",
      "Epoch 95/100\n",
      "28/28 [==============================] - 2s 52ms/step - loss: 0.3953 - accuracy: 0.8845 - val_loss: 4.4579 - val_accuracy: 0.2310\n",
      "Epoch 96/100\n",
      "28/28 [==============================] - 1s 41ms/step - loss: 0.3037 - accuracy: 0.9111 - val_loss: 2.7442 - val_accuracy: 0.4096\n",
      "Epoch 97/100\n",
      "28/28 [==============================] - 1s 37ms/step - loss: 0.2826 - accuracy: 0.9134 - val_loss: 1.6546 - val_accuracy: 0.5904\n",
      "Epoch 98/100\n",
      "28/28 [==============================] - 1s 31ms/step - loss: 0.2932 - accuracy: 0.9018 - val_loss: 1.4371 - val_accuracy: 0.6741\n",
      "Epoch 99/100\n",
      "28/28 [==============================] - 1s 29ms/step - loss: 0.3067 - accuracy: 0.9122 - val_loss: 12.0515 - val_accuracy: 0.1016\n",
      "Epoch 100/100\n",
      "28/28 [==============================] - 3s 100ms/step - loss: 0.4649 - accuracy: 0.8406 - val_loss: 11.8688 - val_accuracy: 0.1016\n"
     ]
    },
    {
     "data": {
      "text/plain": [
       "<keras.callbacks.History at 0x1e79a4f1fd0>"
      ]
     },
     "execution_count": 169,
     "metadata": {},
     "output_type": "execute_result"
    }
   ],
   "source": [
    "\n",
    "model.fit_generator(train_generator, steps_per_epoch=898//32, epochs=100, verbose=1, \n",
    "                    validation_data= test_generator, validation_steps=899//32)"
   ]
  },
  {
   "cell_type": "code",
   "execution_count": 170,
   "metadata": {},
   "outputs": [
    {
     "data": {
      "image/png": "[encoded data removed]",
      "text/plain": [
       "<Figure size 432x288 with 2 Axes>"
      ]
     },
     "metadata": {
      "needs_background": "light"
     },
     "output_type": "display_data"
    }
   ],
   "source": [
    "# plotting the metrics\n",
    "fig = plt.figure()\n",
    "plt.subplot(2,1,1)\n",
    "plt.plot(model.history.history['accuracy'])\n",
    "plt.plot(model.history.history['val_accuracy'])\n",
    "plt.title('model accuracy')\n",
    "plt.ylabel('accuracy')\n",
    "plt.xlabel('epoch')\n",
    "plt.legend(['train', 'test'], loc='lower right')\n",
    "\n",
    "plt.subplot(2,1,2)\n",
    "plt.plot(model.history.history[\"loss\"])\n",
    "plt.plot(model.history.history[\"val_loss\"])\n",
    "plt.title('model loss')\n",
    "plt.ylabel('loss')\n",
    "plt.xlabel('epoch')\n",
    "plt.legend(['train', 'test'], loc='upper right')\n",
    "\n",
    "plt.tight_layout()"
   ]
  },
  {
   "cell_type": "code",
   "execution_count": null,
   "metadata": {},
   "outputs": [
    {
     "data": {
      "text/plain": [
       "{'loss': [1.874001145362854,\n",
       "  1.213083028793335,\n",
       "  0.9467852711677551,\n",
       "  0.7735491394996643,\n",
       "  0.6798977851867676,\n",
       "  0.5661628246307373,\n",
       "  0.5276862382888794,\n",
       "  0.4640578627586365,\n",
       "  0.39051568508148193,\n",
       "  0.3875615894794464,\n",
       "  0.3751507103443146,\n",
       "  0.2855387330055237,\n",
       "  0.26388823986053467,\n",
       "  0.29747992753982544,\n",
       "  0.2374298870563507,\n",
       "  0.21192479133605957,\n",
       "  0.2478567510843277,\n",
       "  0.22702014446258545,\n",
       "  0.22254063189029694,\n",
       "  0.22138464450836182,\n",
       "  0.21894951164722443,\n",
       "  0.16254307329654694,\n",
       "  0.16091153025627136,\n",
       "  0.16978661715984344,\n",
       "  0.18497447669506073,\n",
       "  0.1884031593799591,\n",
       "  0.15080532431602478,\n",
       "  0.16174469888210297,\n",
       "  0.1622086465358734,\n",
       "  0.16024412214756012,\n",
       "  0.12616579234600067,\n",
       "  0.12559401988983154,\n",
       "  0.17369113862514496,\n",
       "  0.11325398087501526,\n",
       "  0.1227632462978363],\n",
       " 'accuracy': [0.3758542239665985,\n",
       "  0.6537585258483887,\n",
       "  0.7289294004440308,\n",
       "  0.785876989364624,\n",
       "  0.8041002154350281,\n",
       "  0.8610478639602661,\n",
       "  0.8576309680938721,\n",
       "  0.8758541941642761,\n",
       "  0.8952164053916931,\n",
       "  0.8952164053916931,\n",
       "  0.8906605839729309,\n",
       "  0.9350797533988953,\n",
       "  0.9305239319801331,\n",
       "  0.9111617207527161,\n",
       "  0.9350797533988953,\n",
       "  0.9407745003700256,\n",
       "  0.9339407682418823,\n",
       "  0.9407745003700256,\n",
       "  0.9362186789512634,\n",
       "  0.9328018426895142,\n",
       "  0.928246021270752,\n",
       "  0.9567198157310486,\n",
       "  0.9510250687599182,\n",
       "  0.9441913366317749,\n",
       "  0.946469247341156,\n",
       "  0.9487471580505371,\n",
       "  0.9567198157310486,\n",
       "  0.9521639943122864,\n",
       "  0.9521639943122864,\n",
       "  0.9453303217887878,\n",
       "  0.9555808901786804,\n",
       "  0.9579545259475708,\n",
       "  0.9384965896606445,\n",
       "  0.9681093096733093,\n",
       "  0.9646924734115601],\n",
       " 'val_loss': [2.3337979316711426,\n",
       "  2.358652353286743,\n",
       "  2.3895602226257324,\n",
       "  2.3943724632263184,\n",
       "  2.4093499183654785,\n",
       "  2.4077136516571045,\n",
       "  2.4290547370910645,\n",
       "  2.430763006210327,\n",
       "  2.463559627532959,\n",
       "  2.1166045665740967,\n",
       "  1.78786301612854,\n",
       "  1.2718194723129272,\n",
       "  1.1417739391326904,\n",
       "  0.8929259777069092,\n",
       "  0.5557606816291809,\n",
       "  0.28788599371910095,\n",
       "  0.4203087091445923,\n",
       "  0.5769959092140198,\n",
       "  2.083423614501953,\n",
       "  0.9190606474876404,\n",
       "  0.6220261454582214,\n",
       "  0.891248881816864,\n",
       "  1.3279739618301392,\n",
       "  0.5563568472862244,\n",
       "  0.6452615261077881,\n",
       "  0.8515928983688354,\n",
       "  2.159498929977417,\n",
       "  5.072917461395264,\n",
       "  4.630643844604492,\n",
       "  1.982594609260559,\n",
       "  1.0253831148147583,\n",
       "  0.7764569520950317,\n",
       "  1.9347163438796997,\n",
       "  0.39677780866622925,\n",
       "  0.6556790471076965],\n",
       " 'val_accuracy': [0.09772727638483047,\n",
       "  0.09545454382896423,\n",
       "  0.09772727638483047,\n",
       "  0.15795454382896423,\n",
       "  0.10000000149011612,\n",
       "  0.0988636389374733,\n",
       "  0.09545454382896423,\n",
       "  0.10000000149011612,\n",
       "  0.09659090638160706,\n",
       "  0.1772727221250534,\n",
       "  0.35227271914482117,\n",
       "  0.6431818008422852,\n",
       "  0.5852272510528564,\n",
       "  0.7136363387107849,\n",
       "  0.8443182110786438,\n",
       "  0.9079545736312866,\n",
       "  0.8818181753158569,\n",
       "  0.8284090757369995,\n",
       "  0.375,\n",
       "  0.7056818008422852,\n",
       "  0.793181836605072,\n",
       "  0.6761363744735718,\n",
       "  0.6215909123420715,\n",
       "  0.8193181753158569,\n",
       "  0.7852272987365723,\n",
       "  0.7420454621315002,\n",
       "  0.4522727131843567,\n",
       "  0.13181817531585693,\n",
       "  0.14886364340782166,\n",
       "  0.40454545617103577,\n",
       "  0.7022727131843567,\n",
       "  0.8102272748947144,\n",
       "  0.48181816935539246,\n",
       "  0.8840909004211426,\n",
       "  0.8329545259475708]}"
      ]
     },
     "execution_count": 162,
     "metadata": {},
     "output_type": "execute_result"
    }
   ],
   "source": [
    "model.history.history"
   ]
  },
  {
   "cell_type": "code",
   "execution_count": null,
   "metadata": {},
   "outputs": [
    {
     "name": "stdout",
     "output_type": "stream",
     "text": [
      "29/29 [==============================] - 2s 15ms/step - loss: 12.8429 - accuracy: 0.1012\n",
      "Test score: 12.84286117553711\n",
      "Test accuracy: 0.10122358053922653\n"
     ]
    }
   ],
   "source": [
    "score = model.evaluate(X_test3, Y_test)\n",
    "print('Test score:', score[0])\n",
    "print('Test accuracy:', score[1])"
   ]
  },
  {
   "cell_type": "code",
   "execution_count": null,
   "metadata": {},
   "outputs": [
    {
     "data": {
      "text/plain": [
       "(899, 8, 8, 1)"
      ]
     },
     "execution_count": 142,
     "metadata": {},
     "output_type": "execute_result"
    }
   ],
   "source": [
    "X_test3.shape"
   ]
  }
 ],
 "metadata": {
  "interpreter": {
   "hash": "77611dd6a37517ce70408453dee427b5d312b628eb7e2e51f85b8662fca83e91"
  },
  "kernelspec": {
   "display_name": "Python 3.8.5 ('base')",
   "language": "python",
   "name": "python3"
  },
  "language_info": {
   "codemirror_mode": {
    "name": "ipython",
    "version": 3
   },
   "file_extension": ".py",
   "mimetype": "text/x-python",
   "name": "python",
   "nbconvert_exporter": "python",
   "pygments_lexer": "ipython3",
   "version": "3.8.5"
  },
  "orig_nbformat": 4
 },
 "nbformat": 4,
 "nbformat_minor": 2
}
