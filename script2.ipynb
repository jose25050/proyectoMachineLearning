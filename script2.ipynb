{
 "cells": [
  {
   "cell_type": "markdown",
   "metadata": {},
   "source": []
  },
  {
   "cell_type": "code",
   "execution_count": 1,
   "metadata": {},
   "outputs": [
    {
     "name": "stderr",
     "output_type": "stream",
     "text": [
      "c:\\Users\\jose2\\anaconda3\\lib\\site-packages\\requests\\__init__.py:89: RequestsDependencyWarning: urllib3 (1.26.9) or chardet (3.0.4) doesn't match a supported version!\n",
      "  warnings.warn(\"urllib3 ({}) or chardet ({}) doesn't match a supported \"\n"
     ]
    }
   ],
   "source": [
    "import matplotlib.pyplot as plt\n",
    "import pandas as pd\n",
    "import seaborn as sns\n",
    "import numpy as np\n",
    "from sklearn import datasets, svm, metrics\n",
    "from sklearn.model_selection import train_test_split\n",
    "from sklearn.model_selection import GridSearchCV\n",
    "\n",
    "## creando los filtros de la imagen\n",
    "\n",
    "from skimage.io import imread, imshow\n",
    "from skimage.color import rgb2gray\n",
    "from skimage.transform import rescale\n",
    "from scipy.signal import convolve2d\n",
    "\n",
    "## filtros de kernel\n",
    "from PIL import Image, ImageFilter\n",
    "from scipy import signal\n",
    "\n",
    "# Keras\n",
    "from keras.models import Sequential\n",
    "from keras.layers import Conv2D\n",
    "from keras.layers import MaxPooling2D\n",
    "from keras.layers import Flatten\n",
    "from keras.layers import Dense\n",
    "from keras.utils import np_utils\n",
    "from keras.layers.core import Dropout, Activation\n",
    "from keras.layers import   BatchNormalization\n",
    "from keras.preprocessing.image import ImageDataGenerator"
   ]
  },
  {
   "cell_type": "code",
   "execution_count": 2,
   "metadata": {},
   "outputs": [],
   "source": [
    "## abriendo el dataset de digits (NMIST)\n",
    "\n",
    "digits = datasets.load_digits()"
   ]
  },
  {
   "cell_type": "code",
   "execution_count": 3,
   "metadata": {},
   "outputs": [
    {
     "data": {
      "text/plain": [
       "array([[ 0.,  0.,  5., ...,  0.,  0.,  0.],\n",
       "       [ 0.,  0.,  0., ..., 10.,  0.,  0.],\n",
       "       [ 0.,  0.,  0., ..., 16.,  9.,  0.],\n",
       "       ...,\n",
       "       [ 0.,  0.,  1., ...,  6.,  0.,  0.],\n",
       "       [ 0.,  0.,  2., ..., 12.,  0.,  0.],\n",
       "       [ 0.,  0., 10., ..., 12.,  1.,  0.]])"
      ]
     },
     "execution_count": 3,
     "metadata": {},
     "output_type": "execute_result"
    }
   ],
   "source": [
    "## dataset\n",
    "digits.data"
   ]
  },
  {
   "cell_type": "code",
   "execution_count": 4,
   "metadata": {},
   "outputs": [
    {
     "data": {
      "text/plain": [
       "array([0, 1, 2, ..., 8, 9, 8])"
      ]
     },
     "execution_count": 4,
     "metadata": {},
     "output_type": "execute_result"
    }
   ],
   "source": [
    "## target de la clasificación\n",
    "digits.target"
   ]
  },
  {
   "cell_type": "code",
   "execution_count": 5,
   "metadata": {},
   "outputs": [
    {
     "data": {
      "text/plain": [
       "(1797, 8, 8)"
      ]
     },
     "execution_count": 5,
     "metadata": {},
     "output_type": "execute_result"
    }
   ],
   "source": [
    "## structura de la imagen\n",
    "digits.images.shape"
   ]
  },
  {
   "cell_type": "code",
   "execution_count": 6,
   "metadata": {},
   "outputs": [
    {
     "data": {
      "image/png": "[encoded data removed]",
      "text/plain": [
       "<Figure size 1152x720 with 20 Axes>"
      ]
     },
     "metadata": {
      "needs_background": "light"
     },
     "output_type": "display_data"
    }
   ],
   "source": [
    "## visualizando el dataset\n",
    "fig, axes = plt.subplots(4,5, figsize =  (16,10))\n",
    "axes = axes.flat\n",
    "for i in range(20):\n",
    "    axes[i].imshow(digits.images[i], cmap=plt.cm.gray_r, interpolation=\"nearest\")\n",
    "    axes[i].set_title(\"Training: %i\" % digits.target[i])\n",
    "    axes[i].set_xticklabels(\"\")\n",
    "    axes[i].set_yticklabels(\"\")"
   ]
  },
  {
   "cell_type": "code",
   "execution_count": 7,
   "metadata": {},
   "outputs": [
    {
     "data": {
      "text/plain": [
       "array([[ 0.,  0.,  5., ...,  0.,  0.,  0.],\n",
       "       [ 0.,  0.,  0., ..., 10.,  0.,  0.],\n",
       "       [ 0.,  0.,  0., ..., 16.,  9.,  0.],\n",
       "       ...,\n",
       "       [ 0.,  0.,  1., ...,  6.,  0.,  0.],\n",
       "       [ 0.,  0.,  2., ..., 12.,  0.,  0.],\n",
       "       [ 0.,  0., 10., ..., 12.,  1.,  0.]])"
      ]
     },
     "execution_count": 7,
     "metadata": {},
     "output_type": "execute_result"
    }
   ],
   "source": [
    "## Creando el modelo de machine learning\n",
    "n_samples = digits.images.shape[0]\n",
    "data = digits.images.reshape((n_samples,-1))\n",
    "data"
   ]
  },
  {
   "cell_type": "code",
   "execution_count": 8,
   "metadata": {},
   "outputs": [],
   "source": [
    "## diviendo el dataset en datos de entranamiento y testeo\n",
    "X_train, X_test, y_train, y_test = train_test_split(\n",
    "    data, digits.target, test_size=0.3, shuffle=False)\n"
   ]
  },
  {
   "cell_type": "code",
   "execution_count": 90,
   "metadata": {},
   "outputs": [],
   "source": [
    "## creando el modelo de machine learning\n",
    "\n",
    "model = svm.SVC(gamma= 0.001 )\n",
    "model.fit(X_train,y_train)\n",
    "predict = model.predict(X_test)"
   ]
  },
  {
   "cell_type": "code",
   "execution_count": 10,
   "metadata": {},
   "outputs": [
    {
     "data": {
      "text/plain": [
       "(540,)"
      ]
     },
     "execution_count": 10,
     "metadata": {},
     "output_type": "execute_result"
    }
   ],
   "source": [
    "predict.shape"
   ]
  },
  {
   "cell_type": "code",
   "execution_count": 11,
   "metadata": {},
   "outputs": [
    {
     "data": {
      "text/plain": [
       "array([[ 0.,  0.,  0.,  8., 14.,  0.,  0.,  0.],\n",
       "       [ 0.,  0.,  2., 16., 10.,  0.,  0.,  0.],\n",
       "       [ 0.,  0., 12., 16.,  1.,  3.,  5.,  0.],\n",
       "       [ 0.,  5., 16.,  6.,  2., 16.,  9.,  0.],\n",
       "       [ 0., 11., 16.,  0.,  8., 16.,  7.,  0.],\n",
       "       [ 0., 10., 16., 16., 16., 11.,  1.,  0.],\n",
       "       [ 0.,  1.,  7.,  9., 16.,  4.,  0.,  0.],\n",
       "       [ 0.,  0.,  0., 10., 11.,  0.,  0.,  0.]])"
      ]
     },
     "execution_count": 11,
     "metadata": {},
     "output_type": "execute_result"
    }
   ],
   "source": [
    "X_test[0].reshape(8,8)"
   ]
  },
  {
   "cell_type": "code",
   "execution_count": 12,
   "metadata": {},
   "outputs": [
    {
     "data": {
      "image/png": "[encoded data removed]",
      "text/plain": [
       "<Figure size 1152x720 with 20 Axes>"
      ]
     },
     "metadata": {
      "needs_background": "light"
     },
     "output_type": "display_data"
    }
   ],
   "source": [
    "## visualizando de la predicción\n",
    "fig, axes = plt.subplots(4,5, figsize =  (16,10))\n",
    "axes = axes.flat\n",
    "for i in range(20):\n",
    "    axes[i].imshow(X_test[i+20].reshape(8,8), cmap=plt.cm.gray_r, interpolation=\"nearest\")\n",
    "    axes[i].set_title(\"Training: %i\" % predict[i+20], color = \"black\" if predict[i+20] == y_test[i+20] else \"red\")\n",
    "    axes[i].set_xticklabels(\"\")\n",
    "    axes[i].set_yticklabels(\"\")\n",
    "fig.suptitle(\"Predicción de las imagenes\")\n",
    "plt.show()"
   ]
  },
  {
   "cell_type": "code",
   "execution_count": 91,
   "metadata": {},
   "outputs": [
    {
     "name": "stdout",
     "output_type": "stream",
     "text": [
      "Classification report for classifier SVC(gamma=0.001):\n",
      "              precision    recall  f1-score   support\n",
      "\n",
      "           0       1.00      0.98      0.99        53\n",
      "           1       0.96      1.00      0.98        53\n",
      "           2       1.00      0.98      0.99        53\n",
      "           3       0.96      0.89      0.92        53\n",
      "           4       0.98      0.95      0.96        57\n",
      "           5       0.95      0.98      0.96        56\n",
      "           6       0.98      0.98      0.98        54\n",
      "           7       1.00      1.00      1.00        54\n",
      "           8       0.91      0.98      0.94        52\n",
      "           9       0.96      0.96      0.96        55\n",
      "\n",
      "    accuracy                           0.97       540\n",
      "   macro avg       0.97      0.97      0.97       540\n",
      "weighted avg       0.97      0.97      0.97       540\n",
      "\n",
      "\n"
     ]
    }
   ],
   "source": [
    "print(\n",
    "    f\"Classification report for classifier {model}:\\n\"\n",
    "    f\"{metrics.classification_report(y_test, predict)}\\n\"\n",
    ")"
   ]
  },
  {
   "cell_type": "code",
   "execution_count": 14,
   "metadata": {},
   "outputs": [
    {
     "data": {
      "image/png": "[encoded data removed]",
      "text/plain": [
       "<Figure size 576x432 with 2 Axes>"
      ]
     },
     "metadata": {
      "needs_background": "light"
     },
     "output_type": "display_data"
    }
   ],
   "source": [
    "confusion_matrix = pd.crosstab(y_test,predict, rownames=['Actual'], colnames=['Predicted'])\n",
    "plt.figure(figsize=(8,6))\n",
    "sns.heatmap(confusion_matrix, annot=True,fmt='g')\n",
    "plt.title(\"Confusion Matrix\\n (data test)\")\n",
    "plt.show()"
   ]
  },
  {
   "cell_type": "markdown",
   "metadata": {},
   "source": [
    "### Mejorando el acurracy"
   ]
  },
  {
   "cell_type": "code",
   "execution_count": 15,
   "metadata": {},
   "outputs": [
    {
     "data": {
      "text/plain": [
       "array([[ 0.,  0.,  5., 13.,  9.,  1.,  0.,  0.],\n",
       "       [ 0.,  0., 13., 15., 10., 15.,  5.,  0.],\n",
       "       [ 0.,  3., 15.,  2.,  0., 11.,  8.,  0.],\n",
       "       [ 0.,  4., 12.,  0.,  0.,  8.,  8.,  0.],\n",
       "       [ 0.,  5.,  8.,  0.,  0.,  9.,  8.,  0.],\n",
       "       [ 0.,  4., 11.,  0.,  1., 12.,  7.,  0.],\n",
       "       [ 0.,  2., 14.,  5., 10., 12.,  0.,  0.],\n",
       "       [ 0.,  0.,  6., 13., 10.,  0.,  0.,  0.]])"
      ]
     },
     "execution_count": 15,
     "metadata": {},
     "output_type": "execute_result"
    }
   ],
   "source": [
    "X_train[0].reshape(8,8)"
   ]
  },
  {
   "cell_type": "code",
   "execution_count": 16,
   "metadata": {},
   "outputs": [],
   "source": [
    "## creando los filtros de kernel para el modelo\n",
    "def rgb_convolve2d(image, kernel):\n",
    "    image = image.reshape(8,8)\n",
    "    image = convolve2d(image, kernel, 'same', boundary = 'fill',\n",
    "                           fillvalue = 0)\n",
    "    return image"
   ]
  },
  {
   "cell_type": "code",
   "execution_count": 17,
   "metadata": {},
   "outputs": [],
   "source": [
    "## tipos de filtros\n",
    "# Edge Detection1\n",
    "kernel1 = np.array([[0, -1, 0],\n",
    "                    [-1, 4, -1],\n",
    "                    [0, -1, 0]])\n",
    "# Edge Detection2\n",
    "kernel2 = np.array([[-1, -1, -1],\n",
    "                    [-1, 8, -1],\n",
    "                    [-1, -1, -1]])\n",
    "# Bottom Sobel Filter\n",
    "kernel3 = np.array([[-1, -2, -1],\n",
    "                    [0, 0, 0],\n",
    "                    [1, 2, 1]])\n",
    "# Top Sobel Filter\n",
    "kernel4 = np.array([[1, 2, 1],\n",
    "                    [0, 0, 0],\n",
    "                    [-1, -2, -1]])\n",
    "# Left Sobel Filter\n",
    "kernel5 = np.array([[1, 0, -1],\n",
    "                    [2, 0, -2],\n",
    "                    [1, 0, -1]])\n",
    "# Right Sobel Filter\n",
    "kernel6 = np.array([[-1, 0, 1],\n",
    "                    [-2, 0, 2],\n",
    "                    [-1, 0, 1]])\n",
    "# Sharpen\n",
    "kernel7 = np.array([[0, -1, 0],\n",
    "                    [-1, 5, -1],\n",
    "                    [0, -1, 0]])\n",
    "# Emboss\n",
    "kernel8 =  np.array([[-2, -1, 0],\n",
    "                     [-1,  1, 1],\n",
    "                     [ 0,  1, 2]])\n",
    "# Box Blur\n",
    "kernel9 = (1 / 9.0) * np.array([[1, 1, 1],\n",
    "                                [1, 1, 1],\n",
    "                                [1, 1, 1]])\n",
    "# Gaussian Blur 3x3\n",
    "kernel10 = (1 / 16.0) * np.array([[1, 2, 1],\n",
    "                                  [2, 4, 2],\n",
    "                                  [1, 2, 1]])\n",
    "# Edge Enhanse\n",
    "kernel11 = np.array([[0, 0, 0],\n",
    "                        [-1, 1, 0],\n",
    "                        [0, 0, 0]])\n",
    "# Repujado\n",
    "kernel12 = np.array([[-2, -1, 0],\n",
    "                        [-1, 1, 1],\n",
    "                        [0, 1, 2]])\n",
    "# outline\n",
    "kernel13 = np.array([[-1, -1, -1],\n",
    "                        [-1, 8, -1],\n",
    "                        [-1, -1, -1]])\n",
    "# identity\n",
    "kernel14 = np.array([[0, 0, 0],\n",
    "                        [0, -1, 0],\n",
    "                        [0, 0, 0]])"
   ]
  },
  {
   "cell_type": "code",
   "execution_count": 18,
   "metadata": {},
   "outputs": [],
   "source": [
    "imagen = rgb_convolve2d(X_train[14],kernel12)\n",
    "imagen = rgb_convolve2d(imagen,kernel3)\n"
   ]
  },
  {
   "cell_type": "code",
   "execution_count": 19,
   "metadata": {},
   "outputs": [
    {
     "data": {
      "text/plain": [
       "Text(0.5, 1.0, 'filtro kernel')"
      ]
     },
     "execution_count": 19,
     "metadata": {},
     "output_type": "execute_result"
    },
    {
     "data": {
      "image/png": "[encoded data removed]",
      "text/plain": [
       "<Figure size 432x288 with 2 Axes>"
      ]
     },
     "metadata": {
      "needs_background": "light"
     },
     "output_type": "display_data"
    }
   ],
   "source": [
    "fig, axes = plt.subplots(nrows=1,ncols=2,figsize = (6,4))\n",
    "\n",
    "axes[0].imshow(X_train[14].reshape(8,8), \n",
    "                  cmap='gray')\n",
    "axes[0].set_title(\"real\")\n",
    "axes[1].imshow(imagen, \n",
    "                  cmap='gray')\n",
    "axes[1].set_title(\"filtro kernel\")"
   ]
  },
  {
   "cell_type": "code",
   "execution_count": 20,
   "metadata": {},
   "outputs": [],
   "source": [
    "kernel = [kernel1,kernel2 ,kernel3 ,kernel4 ,kernel5, \n",
    "kernel6 ,kernel7 ,kernel8 ,kernel9 ,kernel10 ,kernel11,kernel12, kernel13,kernel14]"
   ]
  },
  {
   "cell_type": "code",
   "execution_count": 21,
   "metadata": {},
   "outputs": [
    {
     "data": {
      "text/plain": [
       "Text(0.5, 0.98, 'Tipos de kernel')"
      ]
     },
     "execution_count": 21,
     "metadata": {},
     "output_type": "execute_result"
    },
    {
     "data": {
      "image/png": "[encoded data removed]",
      "text/plain": [
       "<Figure size 1008x576 with 12 Axes>"
      ]
     },
     "metadata": {
      "needs_background": "light"
     },
     "output_type": "display_data"
    }
   ],
   "source": [
    "fig, axes = plt.subplots(nrows=4,ncols=3,figsize = (14,8))\n",
    "axes = axes.flat\n",
    "for i in range(12):\n",
    "    axes[i].imshow(rgb_convolve2d(X_train[29],kernel[i]), \n",
    "                    cmap='gray')\n",
    "    axes[i].set_title(f\"k{i+1}\")\n",
    "    axes[i].set_xticklabels(\"\")\n",
    "    axes[i].set_yticklabels(\"\")\n",
    "fig.suptitle(\"Tipos de kernel\")"
   ]
  },
  {
   "cell_type": "code",
   "execution_count": 22,
   "metadata": {},
   "outputs": [],
   "source": [
    "## creando los filtros de kernel para el modelo general\n",
    "\n",
    "def rgb_kernel_convolve2d(image, kernel):\n",
    "    image_k = []\n",
    "    for i in range(image.shape[0]):\n",
    "        image_transform = image[i].reshape(8,8)\n",
    "        image_k.append(convolve2d(image_transform, kernel, 'same', boundary = 'fill',\n",
    "                            fillvalue = 0))\n",
    "    image_k = np.array(image_k)\n",
    "    n_samples = image.shape[0]\n",
    "    image_k= image_k.reshape((n_samples,-1))\n",
    "    return image_k"
   ]
  },
  {
   "cell_type": "code",
   "execution_count": 23,
   "metadata": {},
   "outputs": [],
   "source": [
    "## aplicando los filtros de kernel\n",
    "X_train2 = rgb_kernel_convolve2d(X_train, kernel14)\n",
    "X_train2 = rgb_kernel_convolve2d(X_train2, kernel10)\n",
    "\n",
    "X_test2 = rgb_kernel_convolve2d(X_test, kernel14)\n",
    "X_test2 = rgb_kernel_convolve2d(X_test2, kernel10)\n"
   ]
  },
  {
   "cell_type": "code",
   "execution_count": 24,
   "metadata": {},
   "outputs": [],
   "source": [
    "## creando el modelo de machine learning\n",
    "\n",
    "model = svm.SVC(gamma= 'scale',class_weight=\"balanced\", C = 100 )\n",
    "model.fit(X_train2,y_train)\n",
    "predict2 = model.predict(X_test2)"
   ]
  },
  {
   "cell_type": "code",
   "execution_count": 25,
   "metadata": {},
   "outputs": [
    {
     "name": "stdout",
     "output_type": "stream",
     "text": [
      "Classification report for classifier SVC(C=100, class_weight='balanced'):\n",
      "              precision    recall  f1-score   support\n",
      "\n",
      "           0       0.98      0.94      0.96        53\n",
      "           1       0.96      0.98      0.97        53\n",
      "           2       0.96      0.98      0.97        53\n",
      "           3       0.94      0.87      0.90        53\n",
      "           4       0.96      0.93      0.95        57\n",
      "           5       0.92      1.00      0.96        56\n",
      "           6       0.95      0.98      0.96        54\n",
      "           7       0.98      1.00      0.99        54\n",
      "           8       0.87      0.90      0.89        52\n",
      "           9       0.96      0.89      0.92        55\n",
      "\n",
      "    accuracy                           0.95       540\n",
      "   macro avg       0.95      0.95      0.95       540\n",
      "weighted avg       0.95      0.95      0.95       540\n",
      "\n",
      "\n"
     ]
    }
   ],
   "source": [
    "print(\n",
    "    f\"Classification report for classifier {model}:\\n\"\n",
    "    f\"{metrics.classification_report(y_test, predict2)}\\n\"\n",
    ")"
   ]
  },
  {
   "cell_type": "markdown",
   "metadata": {},
   "source": [
    "## APLICANDO KERAS ( Redes Neuronales CONVOLUCIONALES)"
   ]
  },
  {
   "cell_type": "code",
   "execution_count": 26,
   "metadata": {},
   "outputs": [],
   "source": [
    "n_class = pd.unique(y_train).shape[0]\n",
    "Y_train = np_utils.to_categorical(y_train, n_class)\n",
    "Y_test = np_utils.to_categorical(y_test, n_class)\n"
   ]
  },
  {
   "cell_type": "code",
   "execution_count": 27,
   "metadata": {},
   "outputs": [
    {
     "data": {
      "text/plain": [
       "array([[1., 0., 0., ..., 0., 0., 0.],\n",
       "       [0., 1., 0., ..., 0., 0., 0.],\n",
       "       [0., 0., 1., ..., 0., 0., 0.],\n",
       "       ...,\n",
       "       [0., 0., 0., ..., 0., 0., 0.],\n",
       "       [0., 0., 0., ..., 0., 0., 0.],\n",
       "       [0., 1., 0., ..., 0., 0., 0.]], dtype=float32)"
      ]
     },
     "execution_count": 27,
     "metadata": {},
     "output_type": "execute_result"
    }
   ],
   "source": [
    "Y_train"
   ]
  },
  {
   "cell_type": "code",
   "execution_count": 28,
   "metadata": {},
   "outputs": [
    {
     "data": {
      "text/plain": [
       "((1257,), (1257, 10))"
      ]
     },
     "execution_count": 28,
     "metadata": {},
     "output_type": "execute_result"
    }
   ],
   "source": [
    "y_train.shape,Y_train.shape"
   ]
  },
  {
   "cell_type": "code",
   "execution_count": 29,
   "metadata": {},
   "outputs": [],
   "source": [
    "## inicualizando el modelo\n",
    "model = Sequential()\n",
    "\n",
    "## creando la primera capa \n",
    "\n",
    "model.add(Dense(units= 35,input_shape = (64,)))\n",
    "# Función de activación\n",
    "model.add(Activation('relu'))\n",
    "# realizando un dropout\n",
    "model.add(Dropout(0.2))\n",
    "\n",
    "## Creando segunda capa\n",
    "\n",
    "model.add(Dense(units= 35))\n",
    "# Función de activación\n",
    "model.add(Activation('relu'))\n",
    "# realizando un dropout\n",
    "model.add(Dropout(0.2))\n",
    "\n",
    "# Creando la capa de salida\n",
    "\n",
    "model.add(Dense(units= 10,input_shape = (64,)))\n",
    "model.add(Activation('softmax'))"
   ]
  },
  {
   "cell_type": "code",
   "execution_count": 30,
   "metadata": {},
   "outputs": [],
   "source": [
    "model.compile(optimizer= 'adam', \n",
    "loss = \"categorical_crossentropy\", metrics= [\"accuracy\"])"
   ]
  },
  {
   "cell_type": "code",
   "execution_count": 31,
   "metadata": {},
   "outputs": [
    {
     "data": {
      "text/plain": [
       "(1257, 64)"
      ]
     },
     "execution_count": 31,
     "metadata": {},
     "output_type": "execute_result"
    }
   ],
   "source": [
    "X_train.shape"
   ]
  },
  {
   "cell_type": "code",
   "execution_count": 32,
   "metadata": {},
   "outputs": [
    {
     "name": "stdout",
     "output_type": "stream",
     "text": [
      "Epoch 1/45\n",
      "40/40 - 2s - loss: 5.9372 - accuracy: 0.1273 - val_loss: 2.2407 - val_accuracy: 0.3833 - 2s/epoch - 62ms/step\n",
      "Epoch 2/45\n",
      "40/40 - 0s - loss: 2.5216 - accuracy: 0.2761 - val_loss: 1.4726 - val_accuracy: 0.5519 - 283ms/epoch - 7ms/step\n",
      "Epoch 3/45\n",
      "40/40 - 0s - loss: 1.7694 - accuracy: 0.4200 - val_loss: 1.2170 - val_accuracy: 0.6278 - 303ms/epoch - 8ms/step\n",
      "Epoch 4/45\n",
      "40/40 - 0s - loss: 1.3057 - accuracy: 0.5513 - val_loss: 1.0132 - val_accuracy: 0.7093 - 293ms/epoch - 7ms/step\n",
      "Epoch 5/45\n",
      "40/40 - 0s - loss: 1.1358 - accuracy: 0.6086 - val_loss: 0.8858 - val_accuracy: 0.7352 - 478ms/epoch - 12ms/step\n",
      "Epoch 6/45\n",
      "40/40 - 0s - loss: 1.0182 - accuracy: 0.6611 - val_loss: 0.7414 - val_accuracy: 0.7907 - 280ms/epoch - 7ms/step\n",
      "Epoch 7/45\n",
      "40/40 - 0s - loss: 0.8295 - accuracy: 0.7168 - val_loss: 0.6660 - val_accuracy: 0.8222 - 295ms/epoch - 7ms/step\n",
      "Epoch 8/45\n",
      "40/40 - 0s - loss: 0.7915 - accuracy: 0.7327 - val_loss: 0.5933 - val_accuracy: 0.8444 - 295ms/epoch - 7ms/step\n",
      "Epoch 9/45\n",
      "40/40 - 0s - loss: 0.7085 - accuracy: 0.7550 - val_loss: 0.5657 - val_accuracy: 0.8481 - 338ms/epoch - 8ms/step\n",
      "Epoch 10/45\n",
      "40/40 - 0s - loss: 0.6346 - accuracy: 0.7892 - val_loss: 0.5198 - val_accuracy: 0.8611 - 305ms/epoch - 8ms/step\n",
      "Epoch 11/45\n",
      "40/40 - 0s - loss: 0.5586 - accuracy: 0.8091 - val_loss: 0.4631 - val_accuracy: 0.8759 - 297ms/epoch - 7ms/step\n",
      "Epoch 12/45\n",
      "40/40 - 0s - loss: 0.5190 - accuracy: 0.8274 - val_loss: 0.4579 - val_accuracy: 0.8630 - 429ms/epoch - 11ms/step\n",
      "Epoch 13/45\n",
      "40/40 - 0s - loss: 0.5235 - accuracy: 0.8274 - val_loss: 0.4350 - val_accuracy: 0.8778 - 279ms/epoch - 7ms/step\n",
      "Epoch 14/45\n",
      "40/40 - 0s - loss: 0.4784 - accuracy: 0.8457 - val_loss: 0.4230 - val_accuracy: 0.8741 - 299ms/epoch - 7ms/step\n",
      "Epoch 15/45\n",
      "40/40 - 0s - loss: 0.4302 - accuracy: 0.8568 - val_loss: 0.4177 - val_accuracy: 0.8815 - 362ms/epoch - 9ms/step\n",
      "Epoch 16/45\n",
      "40/40 - 0s - loss: 0.4077 - accuracy: 0.8616 - val_loss: 0.4049 - val_accuracy: 0.8907 - 276ms/epoch - 7ms/step\n",
      "Epoch 17/45\n",
      "40/40 - 0s - loss: 0.3700 - accuracy: 0.8783 - val_loss: 0.3981 - val_accuracy: 0.8944 - 294ms/epoch - 7ms/step\n",
      "Epoch 18/45\n",
      "40/40 - 0s - loss: 0.3694 - accuracy: 0.8735 - val_loss: 0.3959 - val_accuracy: 0.8944 - 349ms/epoch - 9ms/step\n",
      "Epoch 19/45\n",
      "40/40 - 0s - loss: 0.3518 - accuracy: 0.8894 - val_loss: 0.3871 - val_accuracy: 0.8907 - 341ms/epoch - 9ms/step\n",
      "Epoch 20/45\n",
      "40/40 - 0s - loss: 0.3234 - accuracy: 0.8902 - val_loss: 0.3656 - val_accuracy: 0.9019 - 299ms/epoch - 7ms/step\n",
      "Epoch 21/45\n",
      "40/40 - 0s - loss: 0.3079 - accuracy: 0.8974 - val_loss: 0.3750 - val_accuracy: 0.8944 - 296ms/epoch - 7ms/step\n",
      "Epoch 22/45\n",
      "40/40 - 0s - loss: 0.3180 - accuracy: 0.8950 - val_loss: 0.3575 - val_accuracy: 0.9000 - 375ms/epoch - 9ms/step\n",
      "Epoch 23/45\n",
      "40/40 - 0s - loss: 0.2926 - accuracy: 0.8990 - val_loss: 0.3795 - val_accuracy: 0.8907 - 334ms/epoch - 8ms/step\n",
      "Epoch 24/45\n",
      "40/40 - 0s - loss: 0.2748 - accuracy: 0.9101 - val_loss: 0.3681 - val_accuracy: 0.8963 - 354ms/epoch - 9ms/step\n",
      "Epoch 25/45\n",
      "40/40 - 0s - loss: 0.2500 - accuracy: 0.9133 - val_loss: 0.3343 - val_accuracy: 0.9204 - 382ms/epoch - 10ms/step\n",
      "Epoch 26/45\n",
      "40/40 - 0s - loss: 0.2741 - accuracy: 0.9045 - val_loss: 0.3613 - val_accuracy: 0.9167 - 370ms/epoch - 9ms/step\n",
      "Epoch 27/45\n",
      "40/40 - 0s - loss: 0.2495 - accuracy: 0.9125 - val_loss: 0.3419 - val_accuracy: 0.9167 - 320ms/epoch - 8ms/step\n",
      "Epoch 28/45\n",
      "40/40 - 0s - loss: 0.2114 - accuracy: 0.9316 - val_loss: 0.3407 - val_accuracy: 0.9148 - 277ms/epoch - 7ms/step\n",
      "Epoch 29/45\n",
      "40/40 - 0s - loss: 0.1979 - accuracy: 0.9364 - val_loss: 0.3576 - val_accuracy: 0.9185 - 299ms/epoch - 7ms/step\n",
      "Epoch 30/45\n",
      "40/40 - 0s - loss: 0.2073 - accuracy: 0.9189 - val_loss: 0.3386 - val_accuracy: 0.9167 - 298ms/epoch - 7ms/step\n",
      "Epoch 31/45\n",
      "40/40 - 0s - loss: 0.2123 - accuracy: 0.9348 - val_loss: 0.3636 - val_accuracy: 0.9093 - 289ms/epoch - 7ms/step\n",
      "Epoch 32/45\n",
      "40/40 - 0s - loss: 0.2068 - accuracy: 0.9340 - val_loss: 0.3643 - val_accuracy: 0.9056 - 297ms/epoch - 7ms/step\n",
      "Epoch 33/45\n",
      "40/40 - 0s - loss: 0.1999 - accuracy: 0.9324 - val_loss: 0.3409 - val_accuracy: 0.9222 - 299ms/epoch - 7ms/step\n",
      "Epoch 34/45\n",
      "40/40 - 0s - loss: 0.1792 - accuracy: 0.9356 - val_loss: 0.3548 - val_accuracy: 0.9130 - 300ms/epoch - 7ms/step\n",
      "Epoch 35/45\n",
      "40/40 - 0s - loss: 0.1814 - accuracy: 0.9340 - val_loss: 0.3380 - val_accuracy: 0.9148 - 306ms/epoch - 8ms/step\n",
      "Epoch 36/45\n",
      "40/40 - 0s - loss: 0.1733 - accuracy: 0.9419 - val_loss: 0.3374 - val_accuracy: 0.9130 - 314ms/epoch - 8ms/step\n",
      "Epoch 37/45\n",
      "40/40 - 0s - loss: 0.1680 - accuracy: 0.9435 - val_loss: 0.3377 - val_accuracy: 0.9185 - 301ms/epoch - 8ms/step\n",
      "Epoch 38/45\n",
      "40/40 - 0s - loss: 0.1703 - accuracy: 0.9419 - val_loss: 0.3524 - val_accuracy: 0.9130 - 298ms/epoch - 7ms/step\n",
      "Epoch 39/45\n",
      "40/40 - 0s - loss: 0.1487 - accuracy: 0.9467 - val_loss: 0.3411 - val_accuracy: 0.9148 - 294ms/epoch - 7ms/step\n",
      "Epoch 40/45\n",
      "40/40 - 0s - loss: 0.1554 - accuracy: 0.9507 - val_loss: 0.3503 - val_accuracy: 0.9093 - 294ms/epoch - 7ms/step\n",
      "Epoch 41/45\n",
      "40/40 - 0s - loss: 0.1413 - accuracy: 0.9570 - val_loss: 0.3384 - val_accuracy: 0.9222 - 300ms/epoch - 7ms/step\n",
      "Epoch 42/45\n",
      "40/40 - 0s - loss: 0.1633 - accuracy: 0.9443 - val_loss: 0.3515 - val_accuracy: 0.9130 - 292ms/epoch - 7ms/step\n",
      "Epoch 43/45\n",
      "40/40 - 0s - loss: 0.1333 - accuracy: 0.9539 - val_loss: 0.3347 - val_accuracy: 0.9241 - 301ms/epoch - 8ms/step\n",
      "Epoch 44/45\n",
      "40/40 - 0s - loss: 0.1300 - accuracy: 0.9562 - val_loss: 0.3419 - val_accuracy: 0.9148 - 293ms/epoch - 7ms/step\n",
      "Epoch 45/45\n",
      "40/40 - 0s - loss: 0.1187 - accuracy: 0.9586 - val_loss: 0.3344 - val_accuracy: 0.9278 - 288ms/epoch - 7ms/step\n"
     ]
    }
   ],
   "source": [
    "result= model.fit(X_train, Y_train,\n",
    "        # muestras para la actualización de los pesos\n",
    "          batch_size=32, \n",
    "        # n° de veces que se va a iterar en el conjunto de entrenamiento\n",
    "          epochs=45,\n",
    "          verbose=2,\n",
    "          validation_data=(X_test, Y_test))"
   ]
  },
  {
   "cell_type": "code",
   "execution_count": 33,
   "metadata": {},
   "outputs": [
    {
     "name": "stdout",
     "output_type": "stream",
     "text": [
      "17/17 - 0s - loss: 0.3344 - accuracy: 0.9278 - 128ms/epoch - 8ms/step\n",
      "Test loss: 0.334424763917923\n",
      "Test accuracy: 0.9277777671813965\n"
     ]
    }
   ],
   "source": [
    "score = result.model.evaluate(X_test, Y_test, verbose = 2)\n",
    "print('Test loss:', score[0])\n",
    "print('Test accuracy:', score[1])"
   ]
  },
  {
   "cell_type": "code",
   "execution_count": 34,
   "metadata": {},
   "outputs": [
    {
     "data": {
      "text/plain": [
       "(540, 64)"
      ]
     },
     "execution_count": 34,
     "metadata": {},
     "output_type": "execute_result"
    }
   ],
   "source": [
    "X_test.shape"
   ]
  },
  {
   "cell_type": "markdown",
   "metadata": {},
   "source": [
    "### Red neuronal convolucional"
   ]
  },
  {
   "cell_type": "code",
   "execution_count": 35,
   "metadata": {},
   "outputs": [
    {
     "name": "stdout",
     "output_type": "stream",
     "text": [
      "Training matrix shape (1257, 8, 8, 1)\n",
      "Testing matrix shape (540, 8, 8, 1)\n"
     ]
    }
   ],
   "source": [
    "# Again, do some formatting\n",
    "# Except we do not flatten each image into a 784-length vector because we want to perform convolutions first\n",
    "\n",
    "X_train3 = X_train.reshape(1257, 8, 8, 1) \n",
    "X_test3 = X_test.reshape(540, 8, 8, 1)\n",
    "\n",
    "X_train3 = X_train3.astype('float32')         \n",
    "X_test3 = X_test3.astype('float32')\n",
    "\n",
    "X_train3 /= 255                              # normalize each value for each pixel for the entire vector for each input\n",
    "X_test3 /= 255\n",
    "\n",
    "print(\"Training matrix shape\", X_train3.shape)\n",
    "print(\"Testing matrix shape\", X_test3.shape)"
   ]
  },
  {
   "cell_type": "code",
   "execution_count": 102,
   "metadata": {},
   "outputs": [],
   "source": [
    "model=Sequential()\n",
    "\n",
    "\n",
    "model.add(Conv2D(filters=64, kernel_size = (3,3), activation=\"relu\", input_shape=(8,8,1)))\n",
    "model.add(Conv2D(filters=32, kernel_size = (3,3), activation=\"relu\"))\n",
    "model.add(MaxPooling2D(pool_size=(2,2)))\n",
    "model.add(BatchNormalization())\n",
    "\n",
    "\n",
    "    \n",
    "model.add(Flatten())\n",
    "model.add(Dense(512,activation=\"relu\"))\n",
    "    \n",
    "model.add(Dense(10,activation=\"softmax\"))\n",
    "\n",
    "  "
   ]
  },
  {
   "cell_type": "code",
   "execution_count": 72,
   "metadata": {},
   "outputs": [
    {
     "name": "stdout",
     "output_type": "stream",
     "text": [
      "Model: \"sequential_16\"\n",
      "_________________________________________________________________\n",
      " Layer (type)                Output Shape              Param #   \n",
      "=================================================================\n",
      " conv2d_45 (Conv2D)          (None, 6, 6, 64)          640       \n",
      "                                                                 \n",
      " conv2d_46 (Conv2D)          (None, 4, 4, 32)          18464     \n",
      "                                                                 \n",
      " max_pooling2d_15 (MaxPoolin  (None, 2, 2, 32)         0         \n",
      " g2D)                                                            \n",
      "                                                                 \n",
      " batch_normalization_19 (Bat  (None, 2, 2, 32)         128       \n",
      " chNormalization)                                                \n",
      "                                                                 \n",
      " flatten_5 (Flatten)         (None, 128)               0         \n",
      "                                                                 \n",
      " dense_13 (Dense)            (None, 512)               66048     \n",
      "                                                                 \n",
      " dense_14 (Dense)            (None, 10)                5130      \n",
      "                                                                 \n",
      "=================================================================\n",
      "Total params: 90,410\n",
      "Trainable params: 90,346\n",
      "Non-trainable params: 64\n",
      "_________________________________________________________________\n"
     ]
    }
   ],
   "source": [
    "model.summary()"
   ]
  },
  {
   "cell_type": "code",
   "execution_count": 110,
   "metadata": {},
   "outputs": [],
   "source": [
    "model.compile(loss='categorical_crossentropy', optimizer='adam', metrics=['accuracy'])"
   ]
  },
  {
   "cell_type": "code",
   "execution_count": 104,
   "metadata": {},
   "outputs": [],
   "source": [
    "gen = ImageDataGenerator(rotation_range=8, width_shift_range=0.08, shear_range=0.3,\n",
    "                         height_shift_range=0.08, zoom_range=0.08)\n",
    "\n",
    "test_gen = ImageDataGenerator()"
   ]
  },
  {
   "cell_type": "code",
   "execution_count": 111,
   "metadata": {},
   "outputs": [],
   "source": [
    "train_generator = gen.flow(X_train3, Y_train, batch_size=32)\n",
    "test_generator = test_gen.flow(X_test3, Y_test, batch_size=32)"
   ]
  },
  {
   "cell_type": "code",
   "execution_count": 112,
   "metadata": {},
   "outputs": [
    {
     "name": "stderr",
     "output_type": "stream",
     "text": [
      "<ipython-input-112-bcbfe84b39ed>:1: UserWarning: `Model.fit_generator` is deprecated and will be removed in a future version. Please use `Model.fit`, which supports generators.\n",
      "  model.fit_generator(train_generator, steps_per_epoch=1257//32, epochs=90, verbose=1,\n"
     ]
    },
    {
     "name": "stdout",
     "output_type": "stream",
     "text": [
      "Epoch 1/90\n",
      "39/39 [==============================] - 5s 73ms/step - loss: 0.0153 - accuracy: 0.9951 - val_loss: 0.2425 - val_accuracy: 0.9629\n",
      "Epoch 2/90\n",
      "39/39 [==============================] - 2s 61ms/step - loss: 0.0240 - accuracy: 0.9918 - val_loss: 0.7303 - val_accuracy: 0.8730\n",
      "Epoch 3/90\n",
      "39/39 [==============================] - 3s 70ms/step - loss: 0.0157 - accuracy: 0.9935 - val_loss: 0.3872 - val_accuracy: 0.9590\n",
      "Epoch 4/90\n",
      "39/39 [==============================] - 2s 40ms/step - loss: 0.0209 - accuracy: 0.9943 - val_loss: 0.5643 - val_accuracy: 0.9160\n",
      "Epoch 5/90\n",
      "39/39 [==============================] - 3s 68ms/step - loss: 0.0277 - accuracy: 0.9902 - val_loss: 0.2061 - val_accuracy: 0.9492\n",
      "Epoch 6/90\n",
      "39/39 [==============================] - 2s 40ms/step - loss: 0.0195 - accuracy: 0.9935 - val_loss: 0.2328 - val_accuracy: 0.9551\n",
      "Epoch 7/90\n",
      "39/39 [==============================] - 1s 30ms/step - loss: 0.0212 - accuracy: 0.9894 - val_loss: 0.8451 - val_accuracy: 0.8555\n",
      "Epoch 8/90\n",
      "39/39 [==============================] - 1s 30ms/step - loss: 0.0131 - accuracy: 0.9943 - val_loss: 0.3063 - val_accuracy: 0.9531\n",
      "Epoch 9/90\n",
      "39/39 [==============================] - 3s 64ms/step - loss: 0.0236 - accuracy: 0.9918 - val_loss: 0.3857 - val_accuracy: 0.9316\n",
      "Epoch 10/90\n",
      "39/39 [==============================] - 2s 42ms/step - loss: 0.0365 - accuracy: 0.9869 - val_loss: 0.2423 - val_accuracy: 0.9648\n",
      "Epoch 11/90\n",
      "39/39 [==============================] - 3s 64ms/step - loss: 0.0308 - accuracy: 0.9878 - val_loss: 0.4007 - val_accuracy: 0.9297\n",
      "Epoch 12/90\n",
      "39/39 [==============================] - 2s 43ms/step - loss: 0.0151 - accuracy: 0.9935 - val_loss: 0.4338 - val_accuracy: 0.9277\n",
      "Epoch 13/90\n",
      "39/39 [==============================] - 1s 34ms/step - loss: 0.0168 - accuracy: 0.9927 - val_loss: 0.3438 - val_accuracy: 0.9316\n",
      "Epoch 14/90\n",
      "39/39 [==============================] - 1s 26ms/step - loss: 0.0076 - accuracy: 0.9967 - val_loss: 0.2990 - val_accuracy: 0.9590\n",
      "Epoch 15/90\n",
      "39/39 [==============================] - 1s 25ms/step - loss: 0.0137 - accuracy: 0.9943 - val_loss: 0.3601 - val_accuracy: 0.9551\n",
      "Epoch 16/90\n",
      "39/39 [==============================] - 1s 25ms/step - loss: 0.0225 - accuracy: 0.9927 - val_loss: 0.3981 - val_accuracy: 0.9453\n",
      "Epoch 17/90\n",
      "39/39 [==============================] - 1s 24ms/step - loss: 0.0179 - accuracy: 0.9935 - val_loss: 0.2424 - val_accuracy: 0.9590\n",
      "Epoch 18/90\n",
      "39/39 [==============================] - 1s 25ms/step - loss: 0.0124 - accuracy: 0.9967 - val_loss: 0.1708 - val_accuracy: 0.9648\n",
      "Epoch 19/90\n",
      "39/39 [==============================] - 3s 69ms/step - loss: 0.0113 - accuracy: 0.9951 - val_loss: 0.2812 - val_accuracy: 0.9648\n",
      "Epoch 20/90\n",
      "39/39 [==============================] - 2s 60ms/step - loss: 0.0072 - accuracy: 0.9976 - val_loss: 0.2679 - val_accuracy: 0.9629\n",
      "Epoch 21/90\n",
      "39/39 [==============================] - 2s 63ms/step - loss: 0.0117 - accuracy: 0.9959 - val_loss: 0.2411 - val_accuracy: 0.9609\n",
      "Epoch 22/90\n",
      "39/39 [==============================] - 2s 46ms/step - loss: 0.0160 - accuracy: 0.9943 - val_loss: 0.2092 - val_accuracy: 0.9707\n",
      "Epoch 23/90\n",
      "39/39 [==============================] - 3s 66ms/step - loss: 0.0066 - accuracy: 0.9959 - val_loss: 0.2481 - val_accuracy: 0.9707\n",
      "Epoch 24/90\n",
      "39/39 [==============================] - 2s 44ms/step - loss: 0.0076 - accuracy: 0.9967 - val_loss: 0.4299 - val_accuracy: 0.9355\n",
      "Epoch 25/90\n",
      "39/39 [==============================] - 2s 63ms/step - loss: 0.0102 - accuracy: 0.9976 - val_loss: 0.3429 - val_accuracy: 0.9570\n",
      "Epoch 26/90\n",
      "39/39 [==============================] - 2s 40ms/step - loss: 0.0137 - accuracy: 0.9951 - val_loss: 0.3984 - val_accuracy: 0.9414\n",
      "Epoch 27/90\n",
      "39/39 [==============================] - 1s 32ms/step - loss: 0.0161 - accuracy: 0.9943 - val_loss: 0.3478 - val_accuracy: 0.9531\n",
      "Epoch 28/90\n",
      "39/39 [==============================] - 1s 26ms/step - loss: 0.0183 - accuracy: 0.9959 - val_loss: 0.6739 - val_accuracy: 0.9121\n",
      "Epoch 29/90\n",
      "39/39 [==============================] - 3s 63ms/step - loss: 0.0143 - accuracy: 0.9951 - val_loss: 0.5829 - val_accuracy: 0.9121\n",
      "Epoch 30/90\n",
      "39/39 [==============================] - 2s 45ms/step - loss: 0.0106 - accuracy: 0.9951 - val_loss: 0.3211 - val_accuracy: 0.9590\n",
      "Epoch 31/90\n",
      "39/39 [==============================] - 3s 65ms/step - loss: 0.0134 - accuracy: 0.9967 - val_loss: 0.3409 - val_accuracy: 0.9590\n",
      "Epoch 32/90\n",
      "39/39 [==============================] - 2s 48ms/step - loss: 0.0179 - accuracy: 0.9927 - val_loss: 0.4808 - val_accuracy: 0.9375\n",
      "Epoch 33/90\n",
      "39/39 [==============================] - 3s 76ms/step - loss: 0.0131 - accuracy: 0.9943 - val_loss: 0.4716 - val_accuracy: 0.9492\n",
      "Epoch 34/90\n",
      "39/39 [==============================] - 2s 40ms/step - loss: 0.0115 - accuracy: 0.9943 - val_loss: 0.4896 - val_accuracy: 0.9277\n",
      "Epoch 35/90\n",
      "39/39 [==============================] - 1s 31ms/step - loss: 0.0230 - accuracy: 0.9910 - val_loss: 0.4414 - val_accuracy: 0.9355\n",
      "Epoch 36/90\n",
      "39/39 [==============================] - 1s 31ms/step - loss: 0.0080 - accuracy: 0.9976 - val_loss: 0.3087 - val_accuracy: 0.9551\n",
      "Epoch 37/90\n",
      "39/39 [==============================] - 3s 68ms/step - loss: 0.0079 - accuracy: 0.9967 - val_loss: 0.1517 - val_accuracy: 0.9746\n",
      "Epoch 38/90\n",
      "39/39 [==============================] - 3s 64ms/step - loss: 0.0151 - accuracy: 0.9951 - val_loss: 0.3666 - val_accuracy: 0.9609\n",
      "Epoch 39/90\n",
      "39/39 [==============================] - 2s 45ms/step - loss: 0.0124 - accuracy: 0.9951 - val_loss: 0.3102 - val_accuracy: 0.9629\n",
      "Epoch 40/90\n",
      "39/39 [==============================] - 1s 35ms/step - loss: 0.0204 - accuracy: 0.9935 - val_loss: 0.2967 - val_accuracy: 0.9746\n",
      "Epoch 41/90\n",
      "39/39 [==============================] - 1s 29ms/step - loss: 0.0108 - accuracy: 0.9951 - val_loss: 0.3503 - val_accuracy: 0.9551\n",
      "Epoch 42/90\n",
      "39/39 [==============================] - 3s 65ms/step - loss: 0.0119 - accuracy: 0.9951 - val_loss: 0.2603 - val_accuracy: 0.9590\n",
      "Epoch 43/90\n",
      "39/39 [==============================] - 2s 46ms/step - loss: 0.0172 - accuracy: 0.9943 - val_loss: 0.2558 - val_accuracy: 0.9629\n",
      "Epoch 44/90\n",
      "39/39 [==============================] - 2s 63ms/step - loss: 0.0124 - accuracy: 0.9951 - val_loss: 0.4097 - val_accuracy: 0.9570\n",
      "Epoch 45/90\n",
      "39/39 [==============================] - 2s 39ms/step - loss: 0.0209 - accuracy: 0.9943 - val_loss: 0.3763 - val_accuracy: 0.9434\n",
      "Epoch 46/90\n",
      "39/39 [==============================] - 2s 62ms/step - loss: 0.0448 - accuracy: 0.9878 - val_loss: 0.4970 - val_accuracy: 0.9023\n",
      "Epoch 47/90\n",
      "39/39 [==============================] - 2s 40ms/step - loss: 0.0284 - accuracy: 0.9894 - val_loss: 0.2644 - val_accuracy: 0.9512\n",
      "Epoch 48/90\n",
      "39/39 [==============================] - 1s 36ms/step - loss: 0.0212 - accuracy: 0.9918 - val_loss: 0.3059 - val_accuracy: 0.9609\n",
      "Epoch 49/90\n",
      "39/39 [==============================] - 1s 25ms/step - loss: 0.0150 - accuracy: 0.9943 - val_loss: 0.3845 - val_accuracy: 0.9668\n",
      "Epoch 50/90\n",
      "39/39 [==============================] - 1s 25ms/step - loss: 0.0122 - accuracy: 0.9959 - val_loss: 0.2210 - val_accuracy: 0.9590\n",
      "Epoch 51/90\n",
      "39/39 [==============================] - 1s 24ms/step - loss: 0.0217 - accuracy: 0.9943 - val_loss: 0.4698 - val_accuracy: 0.9453\n",
      "Epoch 52/90\n",
      "39/39 [==============================] - 3s 69ms/step - loss: 0.0321 - accuracy: 0.9894 - val_loss: 0.2801 - val_accuracy: 0.9609\n",
      "Epoch 53/90\n",
      "39/39 [==============================] - 2s 63ms/step - loss: 0.0164 - accuracy: 0.9943 - val_loss: 0.1980 - val_accuracy: 0.9727\n",
      "Epoch 54/90\n",
      "39/39 [==============================] - 2s 42ms/step - loss: 0.0326 - accuracy: 0.9910 - val_loss: 0.2072 - val_accuracy: 0.9609\n",
      "Epoch 55/90\n",
      "39/39 [==============================] - 1s 33ms/step - loss: 0.0147 - accuracy: 0.9951 - val_loss: 0.3534 - val_accuracy: 0.9473\n",
      "Epoch 56/90\n",
      "39/39 [==============================] - 1s 26ms/step - loss: 0.0146 - accuracy: 0.9952 - val_loss: 0.3089 - val_accuracy: 0.9629\n",
      "Epoch 57/90\n",
      "39/39 [==============================] - 1s 25ms/step - loss: 0.0092 - accuracy: 0.9959 - val_loss: 0.3821 - val_accuracy: 0.9648\n",
      "Epoch 58/90\n",
      "39/39 [==============================] - 1s 25ms/step - loss: 0.0144 - accuracy: 0.9943 - val_loss: 0.3646 - val_accuracy: 0.9512\n",
      "Epoch 59/90\n",
      "39/39 [==============================] - 1s 24ms/step - loss: 0.0170 - accuracy: 0.9951 - val_loss: 0.2930 - val_accuracy: 0.9609\n",
      "Epoch 60/90\n",
      "39/39 [==============================] - 1s 28ms/step - loss: 0.0084 - accuracy: 0.9976 - val_loss: 0.3664 - val_accuracy: 0.9453\n",
      "Epoch 61/90\n",
      "39/39 [==============================] - 1s 24ms/step - loss: 0.0036 - accuracy: 0.9992 - val_loss: 0.3131 - val_accuracy: 0.9609\n",
      "Epoch 62/90\n",
      "39/39 [==============================] - 1s 27ms/step - loss: 0.0104 - accuracy: 0.9967 - val_loss: 0.4401 - val_accuracy: 0.9297\n",
      "Epoch 63/90\n",
      "39/39 [==============================] - 1s 24ms/step - loss: 0.0154 - accuracy: 0.9951 - val_loss: 0.3169 - val_accuracy: 0.9570\n",
      "Epoch 64/90\n",
      "39/39 [==============================] - 1s 25ms/step - loss: 0.0217 - accuracy: 0.9927 - val_loss: 0.3556 - val_accuracy: 0.9531\n",
      "Epoch 65/90\n",
      "39/39 [==============================] - 1s 28ms/step - loss: 0.0153 - accuracy: 0.9976 - val_loss: 0.2788 - val_accuracy: 0.9629\n",
      "Epoch 66/90\n",
      "39/39 [==============================] - 1s 28ms/step - loss: 0.0071 - accuracy: 0.9984 - val_loss: 0.2161 - val_accuracy: 0.9727\n",
      "Epoch 67/90\n",
      "39/39 [==============================] - 1s 25ms/step - loss: 0.0192 - accuracy: 0.9943 - val_loss: 0.2643 - val_accuracy: 0.9648\n",
      "Epoch 68/90\n",
      "39/39 [==============================] - 1s 24ms/step - loss: 0.0168 - accuracy: 0.9951 - val_loss: 0.3406 - val_accuracy: 0.9434\n",
      "Epoch 69/90\n",
      "39/39 [==============================] - 1s 23ms/step - loss: 0.0107 - accuracy: 0.9959 - val_loss: 0.2872 - val_accuracy: 0.9531\n",
      "Epoch 70/90\n",
      "39/39 [==============================] - 1s 24ms/step - loss: 0.0122 - accuracy: 0.9967 - val_loss: 0.2613 - val_accuracy: 0.9590\n",
      "Epoch 71/90\n",
      "39/39 [==============================] - 1s 24ms/step - loss: 0.0028 - accuracy: 1.0000 - val_loss: 0.2559 - val_accuracy: 0.9648\n",
      "Epoch 72/90\n",
      "39/39 [==============================] - 1s 27ms/step - loss: 0.0189 - accuracy: 0.9943 - val_loss: 0.2254 - val_accuracy: 0.9668\n",
      "Epoch 73/90\n",
      "39/39 [==============================] - 3s 66ms/step - loss: 0.0140 - accuracy: 0.9967 - val_loss: 0.2520 - val_accuracy: 0.9727\n",
      "Epoch 74/90\n",
      "39/39 [==============================] - 2s 42ms/step - loss: 0.0061 - accuracy: 0.9976 - val_loss: 0.2027 - val_accuracy: 0.9746\n",
      "Epoch 75/90\n",
      "39/39 [==============================] - 1s 34ms/step - loss: 0.0105 - accuracy: 0.9976 - val_loss: 0.3919 - val_accuracy: 0.9531\n",
      "Epoch 76/90\n",
      "39/39 [==============================] - 3s 65ms/step - loss: 0.0098 - accuracy: 0.9976 - val_loss: 0.1819 - val_accuracy: 0.9785\n",
      "Epoch 77/90\n",
      "39/39 [==============================] - 2s 39ms/step - loss: 0.0111 - accuracy: 0.9951 - val_loss: 0.3048 - val_accuracy: 0.9688\n",
      "Epoch 78/90\n",
      "39/39 [==============================] - 3s 69ms/step - loss: 0.0165 - accuracy: 0.9951 - val_loss: 0.3191 - val_accuracy: 0.9688\n",
      "Epoch 79/90\n",
      "39/39 [==============================] - 2s 40ms/step - loss: 0.0043 - accuracy: 0.9992 - val_loss: 0.2349 - val_accuracy: 0.9707\n",
      "Epoch 80/90\n",
      "39/39 [==============================] - 3s 64ms/step - loss: 0.0089 - accuracy: 0.9967 - val_loss: 0.3166 - val_accuracy: 0.9668\n",
      "Epoch 81/90\n",
      "39/39 [==============================] - 2s 49ms/step - loss: 0.0047 - accuracy: 0.9984 - val_loss: 0.2568 - val_accuracy: 0.9727\n",
      "Epoch 82/90\n",
      "39/39 [==============================] - 2s 59ms/step - loss: 0.0060 - accuracy: 0.9976 - val_loss: 0.2922 - val_accuracy: 0.9707\n",
      "Epoch 83/90\n",
      "39/39 [==============================] - 2s 62ms/step - loss: 0.0192 - accuracy: 0.9951 - val_loss: 0.4440 - val_accuracy: 0.9492\n",
      "Epoch 84/90\n",
      "39/39 [==============================] - 2s 42ms/step - loss: 0.0054 - accuracy: 0.9984 - val_loss: 0.4007 - val_accuracy: 0.9434\n",
      "Epoch 85/90\n",
      "39/39 [==============================] - 1s 33ms/step - loss: 0.0166 - accuracy: 0.9967 - val_loss: 0.2302 - val_accuracy: 0.9727\n",
      "Epoch 86/90\n",
      "39/39 [==============================] - 1s 28ms/step - loss: 0.0096 - accuracy: 0.9967 - val_loss: 0.2565 - val_accuracy: 0.9707\n",
      "Epoch 87/90\n",
      "39/39 [==============================] - 1s 25ms/step - loss: 0.0031 - accuracy: 1.0000 - val_loss: 0.2375 - val_accuracy: 0.9688\n",
      "Epoch 88/90\n",
      "39/39 [==============================] - 1s 25ms/step - loss: 0.0016 - accuracy: 1.0000 - val_loss: 0.2383 - val_accuracy: 0.9727\n",
      "Epoch 89/90\n",
      "39/39 [==============================] - 1s 32ms/step - loss: 0.0016 - accuracy: 1.0000 - val_loss: 0.2250 - val_accuracy: 0.9746\n",
      "Epoch 90/90\n",
      "39/39 [==============================] - 1s 27ms/step - loss: 0.0098 - accuracy: 0.9967 - val_loss: 0.2219 - val_accuracy: 0.9746\n"
     ]
    },
    {
     "data": {
      "text/plain": [
       "<keras.callbacks.History at 0x2bf56585e50>"
      ]
     },
     "execution_count": 112,
     "metadata": {},
     "output_type": "execute_result"
    }
   ],
   "source": [
    "\n",
    "model.fit_generator(train_generator, steps_per_epoch=1257//32, epochs=90, verbose=1, \n",
    "                    validation_data= test_generator, validation_steps=540//32)"
   ]
  },
  {
   "cell_type": "code",
   "execution_count": 113,
   "metadata": {},
   "outputs": [
    {
     "data": {
      "image/png": "[encoded data removed]",
      "text/plain": [
       "<Figure size 432x288 with 2 Axes>"
      ]
     },
     "metadata": {
      "needs_background": "light"
     },
     "output_type": "display_data"
    }
   ],
   "source": [
    "# plotting the metrics\n",
    "fig = plt.figure()\n",
    "plt.subplot(2,1,1)\n",
    "plt.plot(model.history.history['accuracy'])\n",
    "plt.plot(model.history.history['val_accuracy'])\n",
    "plt.title('model accuracy')\n",
    "plt.ylabel('accuracy')\n",
    "plt.xlabel('epoch')\n",
    "plt.legend(['train', 'test'], loc='lower right')\n",
    "\n",
    "plt.subplot(2,1,2)\n",
    "plt.plot(model.history.history[\"loss\"])\n",
    "plt.plot(model.history.history[\"val_loss\"])\n",
    "plt.title('model loss')\n",
    "plt.ylabel('loss')\n",
    "plt.xlabel('epoch')\n",
    "plt.legend(['train', 'test'], loc='upper right')\n",
    "\n",
    "plt.tight_layout()"
   ]
  },
  {
   "cell_type": "code",
   "execution_count": null,
   "metadata": {},
   "outputs": [
    {
     "data": {
      "text/plain": [
       "{'loss': [1.874001145362854,\n",
       "  1.213083028793335,\n",
       "  0.9467852711677551,\n",
       "  0.7735491394996643,\n",
       "  0.6798977851867676,\n",
       "  0.5661628246307373,\n",
       "  0.5276862382888794,\n",
       "  0.4640578627586365,\n",
       "  0.39051568508148193,\n",
       "  0.3875615894794464,\n",
       "  0.3751507103443146,\n",
       "  0.2855387330055237,\n",
       "  0.26388823986053467,\n",
       "  0.29747992753982544,\n",
       "  0.2374298870563507,\n",
       "  0.21192479133605957,\n",
       "  0.2478567510843277,\n",
       "  0.22702014446258545,\n",
       "  0.22254063189029694,\n",
       "  0.22138464450836182,\n",
       "  0.21894951164722443,\n",
       "  0.16254307329654694,\n",
       "  0.16091153025627136,\n",
       "  0.16978661715984344,\n",
       "  0.18497447669506073,\n",
       "  0.1884031593799591,\n",
       "  0.15080532431602478,\n",
       "  0.16174469888210297,\n",
       "  0.1622086465358734,\n",
       "  0.16024412214756012,\n",
       "  0.12616579234600067,\n",
       "  0.12559401988983154,\n",
       "  0.17369113862514496,\n",
       "  0.11325398087501526,\n",
       "  0.1227632462978363],\n",
       " 'accuracy': [0.3758542239665985,\n",
       "  0.6537585258483887,\n",
       "  0.7289294004440308,\n",
       "  0.785876989364624,\n",
       "  0.8041002154350281,\n",
       "  0.8610478639602661,\n",
       "  0.8576309680938721,\n",
       "  0.8758541941642761,\n",
       "  0.8952164053916931,\n",
       "  0.8952164053916931,\n",
       "  0.8906605839729309,\n",
       "  0.9350797533988953,\n",
       "  0.9305239319801331,\n",
       "  0.9111617207527161,\n",
       "  0.9350797533988953,\n",
       "  0.9407745003700256,\n",
       "  0.9339407682418823,\n",
       "  0.9407745003700256,\n",
       "  0.9362186789512634,\n",
       "  0.9328018426895142,\n",
       "  0.928246021270752,\n",
       "  0.9567198157310486,\n",
       "  0.9510250687599182,\n",
       "  0.9441913366317749,\n",
       "  0.946469247341156,\n",
       "  0.9487471580505371,\n",
       "  0.9567198157310486,\n",
       "  0.9521639943122864,\n",
       "  0.9521639943122864,\n",
       "  0.9453303217887878,\n",
       "  0.9555808901786804,\n",
       "  0.9579545259475708,\n",
       "  0.9384965896606445,\n",
       "  0.9681093096733093,\n",
       "  0.9646924734115601],\n",
       " 'val_loss': [2.3337979316711426,\n",
       "  2.358652353286743,\n",
       "  2.3895602226257324,\n",
       "  2.3943724632263184,\n",
       "  2.4093499183654785,\n",
       "  2.4077136516571045,\n",
       "  2.4290547370910645,\n",
       "  2.430763006210327,\n",
       "  2.463559627532959,\n",
       "  2.1166045665740967,\n",
       "  1.78786301612854,\n",
       "  1.2718194723129272,\n",
       "  1.1417739391326904,\n",
       "  0.8929259777069092,\n",
       "  0.5557606816291809,\n",
       "  0.28788599371910095,\n",
       "  0.4203087091445923,\n",
       "  0.5769959092140198,\n",
       "  2.083423614501953,\n",
       "  0.9190606474876404,\n",
       "  0.6220261454582214,\n",
       "  0.891248881816864,\n",
       "  1.3279739618301392,\n",
       "  0.5563568472862244,\n",
       "  0.6452615261077881,\n",
       "  0.8515928983688354,\n",
       "  2.159498929977417,\n",
       "  5.072917461395264,\n",
       "  4.630643844604492,\n",
       "  1.982594609260559,\n",
       "  1.0253831148147583,\n",
       "  0.7764569520950317,\n",
       "  1.9347163438796997,\n",
       "  0.39677780866622925,\n",
       "  0.6556790471076965],\n",
       " 'val_accuracy': [0.09772727638483047,\n",
       "  0.09545454382896423,\n",
       "  0.09772727638483047,\n",
       "  0.15795454382896423,\n",
       "  0.10000000149011612,\n",
       "  0.0988636389374733,\n",
       "  0.09545454382896423,\n",
       "  0.10000000149011612,\n",
       "  0.09659090638160706,\n",
       "  0.1772727221250534,\n",
       "  0.35227271914482117,\n",
       "  0.6431818008422852,\n",
       "  0.5852272510528564,\n",
       "  0.7136363387107849,\n",
       "  0.8443182110786438,\n",
       "  0.9079545736312866,\n",
       "  0.8818181753158569,\n",
       "  0.8284090757369995,\n",
       "  0.375,\n",
       "  0.7056818008422852,\n",
       "  0.793181836605072,\n",
       "  0.6761363744735718,\n",
       "  0.6215909123420715,\n",
       "  0.8193181753158569,\n",
       "  0.7852272987365723,\n",
       "  0.7420454621315002,\n",
       "  0.4522727131843567,\n",
       "  0.13181817531585693,\n",
       "  0.14886364340782166,\n",
       "  0.40454545617103577,\n",
       "  0.7022727131843567,\n",
       "  0.8102272748947144,\n",
       "  0.48181816935539246,\n",
       "  0.8840909004211426,\n",
       "  0.8329545259475708]}"
      ]
     },
     "execution_count": 162,
     "metadata": {},
     "output_type": "execute_result"
    }
   ],
   "source": [
    "model.history.history"
   ]
  },
  {
   "cell_type": "code",
   "execution_count": 114,
   "metadata": {},
   "outputs": [
    {
     "name": "stdout",
     "output_type": "stream",
     "text": [
      "17/17 [==============================] - 1s 16ms/step - loss: 0.2125 - accuracy: 0.9741\n",
      "Test score: 0.21248111128807068\n",
      "Test accuracy: 0.9740740656852722\n"
     ]
    }
   ],
   "source": [
    "score = model.evaluate(X_test3, Y_test)\n",
    "print('Test score:', score[0])\n",
    "print('Test accuracy:', score[1])"
   ]
  },
  {
   "cell_type": "code",
   "execution_count": 115,
   "metadata": {},
   "outputs": [
    {
     "name": "stdout",
     "output_type": "stream",
     "text": [
      "Modelo SVC\n",
      "accuracy:  0.9703703703703703\n"
     ]
    }
   ],
   "source": [
    "print(\"Modelo SVC\")\n",
    "print(\"accuracy: \" ,metrics.accuracy_score(y_test, predict))"
   ]
  },
  {
   "cell_type": "code",
   "execution_count": null,
   "metadata": {},
   "outputs": [
    {
     "data": {
      "text/plain": [
       "(899, 8, 8, 1)"
      ]
     },
     "execution_count": 142,
     "metadata": {},
     "output_type": "execute_result"
    }
   ],
   "source": [
    "X_test3.shape"
   ]
  },
  {
   "cell_type": "markdown",
   "metadata": {},
   "source": [
    "### Mejorar los hyperparametros"
   ]
  },
  {
   "cell_type": "code",
   "execution_count": 116,
   "metadata": {},
   "outputs": [],
   "source": [
    "## diviendo el dataset en datos de entranamiento y testeo\n",
    "X_train, X_test, y_train, y_test = train_test_split(\n",
    "    data, digits.target, test_size=0.3, shuffle=False)"
   ]
  },
  {
   "cell_type": "code",
   "execution_count": 117,
   "metadata": {},
   "outputs": [],
   "source": [
    "classifier = model = svm.SVC()"
   ]
  },
  {
   "cell_type": "code",
   "execution_count": 118,
   "metadata": {},
   "outputs": [],
   "source": [
    "parameters =[\n",
    "    { \"C\" : [1,10,100,1000], \"kernel\" : [\"linear\"]},\n",
    "    { \"C\" : [1,10,100,1000], \"kernel\" : [\"rbf\"], \"gamma\" : [0.5,0.1,0.001, 0.001] }\n",
    "            ]"
   ]
  },
  {
   "cell_type": "code",
   "execution_count": 119,
   "metadata": {},
   "outputs": [],
   "source": [
    "grid_search = GridSearchCV(estimator= classifier, param_grid= parameters, scoring= \"accuracy\",\n",
    "                          cv = 10, n_jobs= 1)"
   ]
  },
  {
   "cell_type": "code",
   "execution_count": 120,
   "metadata": {},
   "outputs": [],
   "source": [
    "grid_search = grid_search.fit(X_train, y_train)"
   ]
  },
  {
   "cell_type": "code",
   "execution_count": null,
   "metadata": {},
   "outputs": [
    {
     "data": {
      "text/plain": [
       "SVC(C=10, gamma=0.001)"
      ]
     },
     "execution_count": 81,
     "metadata": {},
     "output_type": "execute_result"
    }
   ],
   "source": [
    "grid_search.best_estimator_"
   ]
  },
  {
   "cell_type": "code",
   "execution_count": 121,
   "metadata": {},
   "outputs": [
    {
     "name": "stdout",
     "output_type": "stream",
     "text": [
      "0.964 (+/- 0.049) para {'C': 1, 'kernel': 'linear'}\n",
      "0.964 (+/- 0.049) para {'C': 10, 'kernel': 'linear'}\n",
      "0.964 (+/- 0.049) para {'C': 100, 'kernel': 'linear'}\n",
      "0.964 (+/- 0.049) para {'C': 1000, 'kernel': 'linear'}\n",
      "0.103 (+/- 0.001) para {'C': 1, 'gamma': 0.5, 'kernel': 'rbf'}\n",
      "0.103 (+/- 0.001) para {'C': 1, 'gamma': 0.1, 'kernel': 'rbf'}\n",
      "0.974 (+/- 0.041) para {'C': 1, 'gamma': 0.001, 'kernel': 'rbf'}\n",
      "0.974 (+/- 0.041) para {'C': 1, 'gamma': 0.001, 'kernel': 'rbf'}\n",
      "0.103 (+/- 0.001) para {'C': 10, 'gamma': 0.5, 'kernel': 'rbf'}\n",
      "0.103 (+/- 0.001) para {'C': 10, 'gamma': 0.1, 'kernel': 'rbf'}\n",
      "0.980 (+/- 0.040) para {'C': 10, 'gamma': 0.001, 'kernel': 'rbf'}\n",
      "0.980 (+/- 0.040) para {'C': 10, 'gamma': 0.001, 'kernel': 'rbf'}\n",
      "0.103 (+/- 0.001) para {'C': 100, 'gamma': 0.5, 'kernel': 'rbf'}\n",
      "0.103 (+/- 0.001) para {'C': 100, 'gamma': 0.1, 'kernel': 'rbf'}\n",
      "0.980 (+/- 0.040) para {'C': 100, 'gamma': 0.001, 'kernel': 'rbf'}\n",
      "0.980 (+/- 0.040) para {'C': 100, 'gamma': 0.001, 'kernel': 'rbf'}\n",
      "0.103 (+/- 0.001) para {'C': 1000, 'gamma': 0.5, 'kernel': 'rbf'}\n",
      "0.103 (+/- 0.001) para {'C': 1000, 'gamma': 0.1, 'kernel': 'rbf'}\n",
      "0.980 (+/- 0.040) para {'C': 1000, 'gamma': 0.001, 'kernel': 'rbf'}\n",
      "0.980 (+/- 0.040) para {'C': 1000, 'gamma': 0.001, 'kernel': 'rbf'}\n"
     ]
    }
   ],
   "source": [
    "means = grid_search.cv_results_[\"mean_test_score\"]\n",
    "stds = grid_search.cv_results_[\"std_test_score\"]\n",
    "params = grid_search.cv_results_[\"params\"]\n",
    "for m,s,p in zip(means, stds, params) :\n",
    "    print(\"%0.3f (+/- %0.3f) para %r\"%(m,2*s,p))"
   ]
  },
  {
   "cell_type": "code",
   "execution_count": 122,
   "metadata": {},
   "outputs": [],
   "source": [
    "y_pred = grid_search.predict(X_test)"
   ]
  },
  {
   "cell_type": "code",
   "execution_count": 123,
   "metadata": {},
   "outputs": [
    {
     "name": "stdout",
     "output_type": "stream",
     "text": [
      "Classification report for classifier SVC():\n",
      "              precision    recall  f1-score   support\n",
      "\n",
      "           0       1.00      0.98      0.99        53\n",
      "           1       0.96      1.00      0.98        53\n",
      "           2       1.00      0.98      0.99        53\n",
      "           3       0.96      0.91      0.93        53\n",
      "           4       0.98      0.95      0.96        57\n",
      "           5       0.95      0.98      0.96        56\n",
      "           6       0.98      0.98      0.98        54\n",
      "           7       1.00      1.00      1.00        54\n",
      "           8       0.94      0.98      0.96        52\n",
      "           9       0.95      0.96      0.95        55\n",
      "\n",
      "    accuracy                           0.97       540\n",
      "   macro avg       0.97      0.97      0.97       540\n",
      "weighted avg       0.97      0.97      0.97       540\n",
      "\n",
      "\n"
     ]
    }
   ],
   "source": [
    "print(\n",
    "    f\"Classification report for classifier {model}:\\n\"\n",
    "    f\"{metrics.classification_report(y_test, y_pred)}\\n\"\n",
    ")"
   ]
  },
  {
   "cell_type": "code",
   "execution_count": 124,
   "metadata": {},
   "outputs": [
    {
     "name": "stdout",
     "output_type": "stream",
     "text": [
      "Modelo SVC - mejorando hyperparámetros\n",
      "accuracy:  0.9722222222222222\n"
     ]
    }
   ],
   "source": [
    "print(\"Modelo SVC - mejorando hyperparámetros\")\n",
    "print(\"accuracy: \" ,metrics.accuracy_score(y_test, y_pred))"
   ]
  },
  {
   "cell_type": "code",
   "execution_count": 125,
   "metadata": {},
   "outputs": [
    {
     "name": "stdout",
     "output_type": "stream",
     "text": [
      "Modelo SVC\n",
      "accuracy:  0.9703703703703703\n"
     ]
    }
   ],
   "source": [
    "print(\"Modelo SVC\")\n",
    "print(\"accuracy: \" ,metrics.accuracy_score(y_test, predict))"
   ]
  }
 ],
 "metadata": {
  "interpreter": {
   "hash": "77611dd6a37517ce70408453dee427b5d312b628eb7e2e51f85b8662fca83e91"
  },
  "kernelspec": {
   "display_name": "Python 3.8.5 ('base')",
   "language": "python",
   "name": "python3"
  },
  "language_info": {
   "codemirror_mode": {
    "name": "ipython",
    "version": 3
   },
   "file_extension": ".py",
   "mimetype": "text/x-python",
   "name": "python",
   "nbconvert_exporter": "python",
   "pygments_lexer": "ipython3",
   "version": "3.8.5"
  },
  "orig_nbformat": 4
 },
 "nbformat": 4,
 "nbformat_minor": 2
}
